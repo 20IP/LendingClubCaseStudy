{
 "cells": [
  {
   "cell_type": "code",
   "execution_count": 1,
   "id": "2dd9dbdd-dac2-4cca-a1f0-2608028dddf1",
   "metadata": {
    "executionInfo": {
     "elapsed": 13,
     "status": "ok",
     "timestamp": 1652179934791,
     "user": {
      "displayName": "Thái Phạm",
      "userId": "15721535778756978075"
     },
     "user_tz": -420
    },
    "id": "2dd9dbdd-dac2-4cca-a1f0-2608028dddf1"
   },
   "outputs": [],
   "source": [
    "# Import the necessary libraries \n",
    "from time import strptime\n",
    "import time\n",
    "import pandas as pd\n",
    "import numpy as np\n",
    "import matplotlib\n",
    "import matplotlib.pyplot as plt\n",
    "import seaborn as sns\n",
    "import plotly as py\n",
    "import plotly.graph_objects as go\n",
    "# import plotly.graph_objs as go\n",
    "import plotly.io as pio\n",
    "pio.renderers.default = \"iframe\""
   ]
  },
  {
   "cell_type": "code",
   "execution_count": 2,
   "id": "b036320c-53de-45ee-b530-2a88a534c6db",
   "metadata": {
    "colab": {
     "base_uri": "https://localhost:8080/"
    },
    "executionInfo": {
     "elapsed": 12,
     "status": "ok",
     "timestamp": 1652179934791,
     "user": {
      "displayName": "Thái Phạm",
      "userId": "15721535778756978075"
     },
     "user_tz": -420
    },
    "id": "b036320c-53de-45ee-b530-2a88a534c6db",
    "outputId": "f9b34158-d0b1-4d8d-eebf-ed6e374a94b6"
   },
   "outputs": [
    {
     "name": "stdout",
     "output_type": "stream",
     "text": [
      "Pandas version \t 1.4.2\n",
      "Numpy version \t 1.22.3\n",
      "Ploly version \t 5.6.0\n",
      "Matplotlib version \t 3.5.1\n",
      "Seaborn version \t 0.11.2\n"
     ]
    }
   ],
   "source": [
    "print('Pandas version \\t', pd.__version__)\n",
    "print('Numpy version \\t', np.__version__)\n",
    "print('Ploly version \\t', py.__version__)  # require nodejs >= 5\n",
    "print('Matplotlib version \\t', matplotlib.__version__)\n",
    "print('Seaborn version \\t', sns.__version__)"
   ]
  },
  {
   "cell_type": "markdown",
   "id": "bd9847f6-8753-4b3e-acd8-5f49aaed0b3d",
   "metadata": {
    "id": "bd9847f6-8753-4b3e-acd8-5f49aaed0b3d"
   },
   "source": [
    "#### General approach\n",
    "1. Load data and get an overview of its size\n",
    "2. Which specialty is the data about: lending\n",
    "3. Check how many columns are in lending data and size of the lending data\n",
    "4. Apply filters on Current Loan type\n",
    "5. Handle blank, missing, (NaN value), inappropriate data (% in percentage value), drop column if all columns are blank and drop columns if they contains 1 unique value\n",
    "6. Handle daytime data type if available\n",
    "7. Find the main objective of data analysis (in this case: risk analysis in banking and financial services and risk reduction)\n",
    "8. Find attributes that have a great influence on the primary target.\n",
    "9. Analysis of the obtained properties\n",
    "10. Observation & Conclusions during analysis"
   ]
  },
  {
   "cell_type": "markdown",
   "id": "11db1f28-59d2-4e90-8c71-d175a103e7f3",
   "metadata": {
    "id": "11db1f28-59d2-4e90-8c71-d175a103e7f3"
   },
   "source": [
    "<h1 align=\"center\">I. REVIEW DATA</h1>"
   ]
  },
  {
   "cell_type": "code",
   "execution_count": 3,
   "id": "c7806cd0-8484-43cc-8513-8e9e1e90666e",
   "metadata": {
    "colab": {
     "base_uri": "https://localhost:8080/",
     "height": 456
    },
    "executionInfo": {
     "elapsed": 964,
     "status": "ok",
     "timestamp": 1652179935746,
     "user": {
      "displayName": "Thái Phạm",
      "userId": "15721535778756978075"
     },
     "user_tz": -420
    },
    "id": "c7806cd0-8484-43cc-8513-8e9e1e90666e",
    "outputId": "fa31e832-c426-4e47-d4c9-4695fbffc702"
   },
   "outputs": [
    {
     "name": "stderr",
     "output_type": "stream",
     "text": [
      "C:\\Users\\Thaipc\\AppData\\Local\\Temp\\ipykernel_1908\\1882267244.py:1: DtypeWarning:\n",
      "\n",
      "Columns (47) have mixed types. Specify dtype option on import or set low_memory=False.\n",
      "\n"
     ]
    },
    {
     "data": {
      "text/html": [
       "<div>\n",
       "<style scoped>\n",
       "    .dataframe tbody tr th:only-of-type {\n",
       "        vertical-align: middle;\n",
       "    }\n",
       "\n",
       "    .dataframe tbody tr th {\n",
       "        vertical-align: top;\n",
       "    }\n",
       "\n",
       "    .dataframe thead th {\n",
       "        text-align: right;\n",
       "    }\n",
       "</style>\n",
       "<table border=\"1\" class=\"dataframe\">\n",
       "  <thead>\n",
       "    <tr style=\"text-align: right;\">\n",
       "      <th></th>\n",
       "      <th>id</th>\n",
       "      <th>member_id</th>\n",
       "      <th>loan_amnt</th>\n",
       "      <th>funded_amnt</th>\n",
       "      <th>funded_amnt_inv</th>\n",
       "      <th>term</th>\n",
       "      <th>int_rate</th>\n",
       "      <th>installment</th>\n",
       "      <th>grade</th>\n",
       "      <th>sub_grade</th>\n",
       "      <th>...</th>\n",
       "      <th>num_tl_90g_dpd_24m</th>\n",
       "      <th>num_tl_op_past_12m</th>\n",
       "      <th>pct_tl_nvr_dlq</th>\n",
       "      <th>percent_bc_gt_75</th>\n",
       "      <th>pub_rec_bankruptcies</th>\n",
       "      <th>tax_liens</th>\n",
       "      <th>tot_hi_cred_lim</th>\n",
       "      <th>total_bal_ex_mort</th>\n",
       "      <th>total_bc_limit</th>\n",
       "      <th>total_il_high_credit_limit</th>\n",
       "    </tr>\n",
       "  </thead>\n",
       "  <tbody>\n",
       "    <tr>\n",
       "      <th>0</th>\n",
       "      <td>1077501</td>\n",
       "      <td>1296599</td>\n",
       "      <td>5000</td>\n",
       "      <td>5000</td>\n",
       "      <td>4975.0</td>\n",
       "      <td>36 months</td>\n",
       "      <td>10.65%</td>\n",
       "      <td>162.87</td>\n",
       "      <td>B</td>\n",
       "      <td>B2</td>\n",
       "      <td>...</td>\n",
       "      <td>NaN</td>\n",
       "      <td>NaN</td>\n",
       "      <td>NaN</td>\n",
       "      <td>NaN</td>\n",
       "      <td>0.0</td>\n",
       "      <td>0.0</td>\n",
       "      <td>NaN</td>\n",
       "      <td>NaN</td>\n",
       "      <td>NaN</td>\n",
       "      <td>NaN</td>\n",
       "    </tr>\n",
       "    <tr>\n",
       "      <th>1</th>\n",
       "      <td>1077430</td>\n",
       "      <td>1314167</td>\n",
       "      <td>2500</td>\n",
       "      <td>2500</td>\n",
       "      <td>2500.0</td>\n",
       "      <td>60 months</td>\n",
       "      <td>15.27%</td>\n",
       "      <td>59.83</td>\n",
       "      <td>C</td>\n",
       "      <td>C4</td>\n",
       "      <td>...</td>\n",
       "      <td>NaN</td>\n",
       "      <td>NaN</td>\n",
       "      <td>NaN</td>\n",
       "      <td>NaN</td>\n",
       "      <td>0.0</td>\n",
       "      <td>0.0</td>\n",
       "      <td>NaN</td>\n",
       "      <td>NaN</td>\n",
       "      <td>NaN</td>\n",
       "      <td>NaN</td>\n",
       "    </tr>\n",
       "    <tr>\n",
       "      <th>2</th>\n",
       "      <td>1077175</td>\n",
       "      <td>1313524</td>\n",
       "      <td>2400</td>\n",
       "      <td>2400</td>\n",
       "      <td>2400.0</td>\n",
       "      <td>36 months</td>\n",
       "      <td>15.96%</td>\n",
       "      <td>84.33</td>\n",
       "      <td>C</td>\n",
       "      <td>C5</td>\n",
       "      <td>...</td>\n",
       "      <td>NaN</td>\n",
       "      <td>NaN</td>\n",
       "      <td>NaN</td>\n",
       "      <td>NaN</td>\n",
       "      <td>0.0</td>\n",
       "      <td>0.0</td>\n",
       "      <td>NaN</td>\n",
       "      <td>NaN</td>\n",
       "      <td>NaN</td>\n",
       "      <td>NaN</td>\n",
       "    </tr>\n",
       "    <tr>\n",
       "      <th>3</th>\n",
       "      <td>1076863</td>\n",
       "      <td>1277178</td>\n",
       "      <td>10000</td>\n",
       "      <td>10000</td>\n",
       "      <td>10000.0</td>\n",
       "      <td>36 months</td>\n",
       "      <td>13.49%</td>\n",
       "      <td>339.31</td>\n",
       "      <td>C</td>\n",
       "      <td>C1</td>\n",
       "      <td>...</td>\n",
       "      <td>NaN</td>\n",
       "      <td>NaN</td>\n",
       "      <td>NaN</td>\n",
       "      <td>NaN</td>\n",
       "      <td>0.0</td>\n",
       "      <td>0.0</td>\n",
       "      <td>NaN</td>\n",
       "      <td>NaN</td>\n",
       "      <td>NaN</td>\n",
       "      <td>NaN</td>\n",
       "    </tr>\n",
       "    <tr>\n",
       "      <th>4</th>\n",
       "      <td>1075358</td>\n",
       "      <td>1311748</td>\n",
       "      <td>3000</td>\n",
       "      <td>3000</td>\n",
       "      <td>3000.0</td>\n",
       "      <td>60 months</td>\n",
       "      <td>12.69%</td>\n",
       "      <td>67.79</td>\n",
       "      <td>B</td>\n",
       "      <td>B5</td>\n",
       "      <td>...</td>\n",
       "      <td>NaN</td>\n",
       "      <td>NaN</td>\n",
       "      <td>NaN</td>\n",
       "      <td>NaN</td>\n",
       "      <td>0.0</td>\n",
       "      <td>0.0</td>\n",
       "      <td>NaN</td>\n",
       "      <td>NaN</td>\n",
       "      <td>NaN</td>\n",
       "      <td>NaN</td>\n",
       "    </tr>\n",
       "  </tbody>\n",
       "</table>\n",
       "<p>5 rows × 111 columns</p>\n",
       "</div>"
      ],
      "text/plain": [
       "        id  member_id  loan_amnt  funded_amnt  funded_amnt_inv        term  \\\n",
       "0  1077501    1296599       5000         5000           4975.0   36 months   \n",
       "1  1077430    1314167       2500         2500           2500.0   60 months   \n",
       "2  1077175    1313524       2400         2400           2400.0   36 months   \n",
       "3  1076863    1277178      10000        10000          10000.0   36 months   \n",
       "4  1075358    1311748       3000         3000           3000.0   60 months   \n",
       "\n",
       "  int_rate  installment grade sub_grade  ... num_tl_90g_dpd_24m  \\\n",
       "0   10.65%       162.87     B        B2  ...                NaN   \n",
       "1   15.27%        59.83     C        C4  ...                NaN   \n",
       "2   15.96%        84.33     C        C5  ...                NaN   \n",
       "3   13.49%       339.31     C        C1  ...                NaN   \n",
       "4   12.69%        67.79     B        B5  ...                NaN   \n",
       "\n",
       "  num_tl_op_past_12m pct_tl_nvr_dlq  percent_bc_gt_75 pub_rec_bankruptcies  \\\n",
       "0                NaN            NaN               NaN                  0.0   \n",
       "1                NaN            NaN               NaN                  0.0   \n",
       "2                NaN            NaN               NaN                  0.0   \n",
       "3                NaN            NaN               NaN                  0.0   \n",
       "4                NaN            NaN               NaN                  0.0   \n",
       "\n",
       "  tax_liens tot_hi_cred_lim total_bal_ex_mort total_bc_limit  \\\n",
       "0       0.0             NaN               NaN            NaN   \n",
       "1       0.0             NaN               NaN            NaN   \n",
       "2       0.0             NaN               NaN            NaN   \n",
       "3       0.0             NaN               NaN            NaN   \n",
       "4       0.0             NaN               NaN            NaN   \n",
       "\n",
       "  total_il_high_credit_limit  \n",
       "0                        NaN  \n",
       "1                        NaN  \n",
       "2                        NaN  \n",
       "3                        NaN  \n",
       "4                        NaN  \n",
       "\n",
       "[5 rows x 111 columns]"
      ]
     },
     "execution_count": 3,
     "metadata": {},
     "output_type": "execute_result"
    }
   ],
   "source": [
    "df_loan = pd.read_csv('loan.csv')\n",
    "df_loan.head()"
   ]
  },
  {
   "cell_type": "code",
   "execution_count": 4,
   "id": "90ba8384-6969-4ef2-b057-f94eb61f8cfa",
   "metadata": {
    "colab": {
     "base_uri": "https://localhost:8080/"
    },
    "executionInfo": {
     "elapsed": 24,
     "status": "ok",
     "timestamp": 1652179935747,
     "user": {
      "displayName": "Thái Phạm",
      "userId": "15721535778756978075"
     },
     "user_tz": -420
    },
    "id": "90ba8384-6969-4ef2-b057-f94eb61f8cfa",
    "outputId": "084de6f6-7238-4f78-d039-9d82e114f25f"
   },
   "outputs": [
    {
     "data": {
      "text/plain": [
       "(39717, 111)"
      ]
     },
     "execution_count": 4,
     "metadata": {},
     "output_type": "execute_result"
    }
   ],
   "source": [
    "df_loan.shape "
   ]
  },
  {
   "cell_type": "markdown",
   "id": "71797953-311f-4d65-9f6c-8daffd687f07",
   "metadata": {
    "id": "71797953-311f-4d65-9f6c-8daffd687f07"
   },
   "source": [
    "### The obtained initial size of the data is : 39717 Rows and 111 Columns"
   ]
  },
  {
   "cell_type": "code",
   "execution_count": 5,
   "id": "06f38752-9342-4993-aa2d-4277ae0a2324",
   "metadata": {
    "colab": {
     "base_uri": "https://localhost:8080/"
    },
    "executionInfo": {
     "elapsed": 21,
     "status": "ok",
     "timestamp": 1652179935747,
     "user": {
      "displayName": "Thái Phạm",
      "userId": "15721535778756978075"
     },
     "user_tz": -420
    },
    "id": "06f38752-9342-4993-aa2d-4277ae0a2324",
    "outputId": "835a7b90-bc7f-454b-d3dc-423b1bcf0940"
   },
   "outputs": [
    {
     "name": "stdout",
     "output_type": "stream",
     "text": [
      "<class 'pandas.core.frame.DataFrame'>\n",
      "RangeIndex: 39717 entries, 0 to 39716\n",
      "Columns: 111 entries, id to total_il_high_credit_limit\n",
      "dtypes: float64(74), int64(13), object(24)\n",
      "memory usage: 33.6+ MB\n"
     ]
    }
   ],
   "source": [
    "df_loan.info()"
   ]
  },
  {
   "cell_type": "markdown",
   "id": "9f3da291-d319-4a40-ae22-e843639d012b",
   "metadata": {
    "id": "9f3da291-d319-4a40-ae22-e843639d012b"
   },
   "source": [
    "> _Basically in df_loan.head() there are many columns with NAN values, special characters like %..., </br> Column values including numbers and strings, date-month format ... need to be processed._"
   ]
  },
  {
   "cell_type": "markdown",
   "id": "7c2278d7-deef-4fa5-b4a8-bfe6840221df",
   "metadata": {
    "id": "7c2278d7-deef-4fa5-b4a8-bfe6840221df"
   },
   "source": [
    "<h1 align=\"center\">II. DATA REPROCESSING (Clean up & Filtering)</h1>"
   ]
  },
  {
   "cell_type": "markdown",
   "id": "22d428c0-d870-4b8b-8091-00d41967d543",
   "metadata": {
    "id": "22d428c0-d870-4b8b-8091-00d41967d543",
    "tags": []
   },
   "source": [
    "### Delete all columns with NaN value and ['member_id', 'id', 'zip_code','url', 'emp_title'] column because these columns value is not needed and delete columns ['out_prncp', 'out_prncp_inv'] as this column is only applicable for Current loan status which is not used for analysis "
   ]
  },
  {
   "cell_type": "code",
   "execution_count": 6,
   "id": "4a2d6569-66c5-4cc4-be0e-836db16e631a",
   "metadata": {
    "colab": {
     "base_uri": "https://localhost:8080/"
    },
    "executionInfo": {
     "elapsed": 20,
     "status": "ok",
     "timestamp": 1652179935748,
     "user": {
      "displayName": "Thái Phạm",
      "userId": "15721535778756978075"
     },
     "user_tz": -420
    },
    "id": "4a2d6569-66c5-4cc4-be0e-836db16e631a",
    "outputId": "467ae5a0-cf86-40b7-f129-250bd7b6ec21"
   },
   "outputs": [
    {
     "name": "stdout",
     "output_type": "stream",
     "text": [
      "41\n"
     ]
    },
    {
     "data": {
      "text/plain": [
       "emp_length                 1075\n",
       "desc                      12940\n",
       "mths_since_last_delinq    25682\n",
       "mths_since_last_record    36931\n",
       "next_pymnt_d              38577\n",
       "dtype: int64"
      ]
     },
     "execution_count": 6,
     "metadata": {},
     "output_type": "execute_result"
    }
   ],
   "source": [
    "# Drop Rows with NaN Values\n",
    "df_loan = df_loan.dropna(axis=1, how = 'all')\n",
    "# Delete Columns\n",
    "df_loan.drop(['id', 'member_id', 'zip_code', 'url', 'emp_title', 'policy_code', 'out_prncp', 'out_prncp_inv'], axis=1, inplace=True),\n",
    "# Delete All Columns that have only one Values\n",
    "unique_values = df_loan.nunique()\n",
    "unique_values.sort_values()[:10]\n",
    "df_loan=df_loan[unique_values[unique_values!=1].keys().tolist()]\n",
    "# Count all NaN values in all Columns\n",
    "count_nan = df_loan.isnull().sum(axis = 0)\n",
    "print(len(count_nan))    #count_nan[count_nan<10000].keys().tolist()\n",
    "count_nan[count_nan>1000].sort_values()[:10] # 1000/39717 ~ 2.5% , Show 10 columns with large number of NaN values"
   ]
  },
  {
   "cell_type": "markdown",
   "id": "431a2cf8-f86c-47f7-b293-1a283f5c31b3",
   "metadata": {
    "id": "431a2cf8-f86c-47f7-b293-1a283f5c31b3"
   },
   "source": [
    "> _Data has 39717 rows and the remaining columns have more than 10000 rows NaN is too large to apply delete those rows </br> because it will lose data and data information. </br> Can't replace these Nan with another value because an incorrect replacement will also skew the data. </br> Columns with values less than 1000 (~2.5%) we can delete these rows because the low NaN ratio will not seriously affect the data_"
   ]
  },
  {
   "cell_type": "code",
   "execution_count": 7,
   "id": "68e693f3-2198-41df-b43b-60a65589860f",
   "metadata": {
    "executionInfo": {
     "elapsed": 18,
     "status": "ok",
     "timestamp": 1652179935748,
     "user": {
      "displayName": "Thái Phạm",
      "userId": "15721535778756978075"
     },
     "user_tz": -420
    },
    "id": "68e693f3-2198-41df-b43b-60a65589860f"
   },
   "outputs": [],
   "source": [
    "# selected Columns have Sum of NaN value Smaller than 10.000. NaN in [0, 2459]\n",
    "# df_loan=df_loan[count_nan[count_nan<10000].keys().tolist()]\n"
   ]
  },
  {
   "cell_type": "code",
   "execution_count": 8,
   "id": "5663a155-e100-4895-a586-c61d9fc8ad53",
   "metadata": {
    "colab": {
     "base_uri": "https://localhost:8080/",
     "height": 386
    },
    "executionInfo": {
     "elapsed": 18,
     "status": "ok",
     "timestamp": 1652179935749,
     "user": {
      "displayName": "Thái Phạm",
      "userId": "15721535778756978075"
     },
     "user_tz": -420
    },
    "id": "5663a155-e100-4895-a586-c61d9fc8ad53",
    "outputId": "ab0f02f1-093b-4c70-f114-6395a48ee94b"
   },
   "outputs": [
    {
     "data": {
      "text/html": [
       "<div>\n",
       "<style scoped>\n",
       "    .dataframe tbody tr th:only-of-type {\n",
       "        vertical-align: middle;\n",
       "    }\n",
       "\n",
       "    .dataframe tbody tr th {\n",
       "        vertical-align: top;\n",
       "    }\n",
       "\n",
       "    .dataframe thead th {\n",
       "        text-align: right;\n",
       "    }\n",
       "</style>\n",
       "<table border=\"1\" class=\"dataframe\">\n",
       "  <thead>\n",
       "    <tr style=\"text-align: right;\">\n",
       "      <th></th>\n",
       "      <th>loan_amnt</th>\n",
       "      <th>funded_amnt</th>\n",
       "      <th>funded_amnt_inv</th>\n",
       "      <th>term</th>\n",
       "      <th>int_rate</th>\n",
       "      <th>installment</th>\n",
       "      <th>grade</th>\n",
       "      <th>sub_grade</th>\n",
       "      <th>emp_length</th>\n",
       "      <th>home_ownership</th>\n",
       "      <th>...</th>\n",
       "      <th>total_rec_prncp</th>\n",
       "      <th>total_rec_int</th>\n",
       "      <th>total_rec_late_fee</th>\n",
       "      <th>recoveries</th>\n",
       "      <th>collection_recovery_fee</th>\n",
       "      <th>last_pymnt_d</th>\n",
       "      <th>last_pymnt_amnt</th>\n",
       "      <th>next_pymnt_d</th>\n",
       "      <th>last_credit_pull_d</th>\n",
       "      <th>pub_rec_bankruptcies</th>\n",
       "    </tr>\n",
       "  </thead>\n",
       "  <tbody>\n",
       "    <tr>\n",
       "      <th>0</th>\n",
       "      <td>5000</td>\n",
       "      <td>5000</td>\n",
       "      <td>4975.0</td>\n",
       "      <td>36 months</td>\n",
       "      <td>10.65%</td>\n",
       "      <td>162.87</td>\n",
       "      <td>B</td>\n",
       "      <td>B2</td>\n",
       "      <td>10+ years</td>\n",
       "      <td>RENT</td>\n",
       "      <td>...</td>\n",
       "      <td>5000.00</td>\n",
       "      <td>863.16</td>\n",
       "      <td>0.00</td>\n",
       "      <td>0.00</td>\n",
       "      <td>0.00</td>\n",
       "      <td>Jan-15</td>\n",
       "      <td>171.62</td>\n",
       "      <td>NaN</td>\n",
       "      <td>May-16</td>\n",
       "      <td>0.0</td>\n",
       "    </tr>\n",
       "    <tr>\n",
       "      <th>1</th>\n",
       "      <td>2500</td>\n",
       "      <td>2500</td>\n",
       "      <td>2500.0</td>\n",
       "      <td>60 months</td>\n",
       "      <td>15.27%</td>\n",
       "      <td>59.83</td>\n",
       "      <td>C</td>\n",
       "      <td>C4</td>\n",
       "      <td>&lt; 1 year</td>\n",
       "      <td>RENT</td>\n",
       "      <td>...</td>\n",
       "      <td>456.46</td>\n",
       "      <td>435.17</td>\n",
       "      <td>0.00</td>\n",
       "      <td>117.08</td>\n",
       "      <td>1.11</td>\n",
       "      <td>Apr-13</td>\n",
       "      <td>119.66</td>\n",
       "      <td>NaN</td>\n",
       "      <td>Sep-13</td>\n",
       "      <td>0.0</td>\n",
       "    </tr>\n",
       "    <tr>\n",
       "      <th>2</th>\n",
       "      <td>2400</td>\n",
       "      <td>2400</td>\n",
       "      <td>2400.0</td>\n",
       "      <td>36 months</td>\n",
       "      <td>15.96%</td>\n",
       "      <td>84.33</td>\n",
       "      <td>C</td>\n",
       "      <td>C5</td>\n",
       "      <td>10+ years</td>\n",
       "      <td>RENT</td>\n",
       "      <td>...</td>\n",
       "      <td>2400.00</td>\n",
       "      <td>605.67</td>\n",
       "      <td>0.00</td>\n",
       "      <td>0.00</td>\n",
       "      <td>0.00</td>\n",
       "      <td>Jun-14</td>\n",
       "      <td>649.91</td>\n",
       "      <td>NaN</td>\n",
       "      <td>May-16</td>\n",
       "      <td>0.0</td>\n",
       "    </tr>\n",
       "    <tr>\n",
       "      <th>3</th>\n",
       "      <td>10000</td>\n",
       "      <td>10000</td>\n",
       "      <td>10000.0</td>\n",
       "      <td>36 months</td>\n",
       "      <td>13.49%</td>\n",
       "      <td>339.31</td>\n",
       "      <td>C</td>\n",
       "      <td>C1</td>\n",
       "      <td>10+ years</td>\n",
       "      <td>RENT</td>\n",
       "      <td>...</td>\n",
       "      <td>10000.00</td>\n",
       "      <td>2214.92</td>\n",
       "      <td>16.97</td>\n",
       "      <td>0.00</td>\n",
       "      <td>0.00</td>\n",
       "      <td>Jan-15</td>\n",
       "      <td>357.48</td>\n",
       "      <td>NaN</td>\n",
       "      <td>Apr-16</td>\n",
       "      <td>0.0</td>\n",
       "    </tr>\n",
       "    <tr>\n",
       "      <th>4</th>\n",
       "      <td>3000</td>\n",
       "      <td>3000</td>\n",
       "      <td>3000.0</td>\n",
       "      <td>60 months</td>\n",
       "      <td>12.69%</td>\n",
       "      <td>67.79</td>\n",
       "      <td>B</td>\n",
       "      <td>B5</td>\n",
       "      <td>1 year</td>\n",
       "      <td>RENT</td>\n",
       "      <td>...</td>\n",
       "      <td>2475.94</td>\n",
       "      <td>1037.39</td>\n",
       "      <td>0.00</td>\n",
       "      <td>0.00</td>\n",
       "      <td>0.00</td>\n",
       "      <td>May-16</td>\n",
       "      <td>67.79</td>\n",
       "      <td>Jun-16</td>\n",
       "      <td>May-16</td>\n",
       "      <td>0.0</td>\n",
       "    </tr>\n",
       "  </tbody>\n",
       "</table>\n",
       "<p>5 rows × 41 columns</p>\n",
       "</div>"
      ],
      "text/plain": [
       "   loan_amnt  funded_amnt  funded_amnt_inv        term int_rate  installment  \\\n",
       "0       5000         5000           4975.0   36 months   10.65%       162.87   \n",
       "1       2500         2500           2500.0   60 months   15.27%        59.83   \n",
       "2       2400         2400           2400.0   36 months   15.96%        84.33   \n",
       "3      10000        10000          10000.0   36 months   13.49%       339.31   \n",
       "4       3000         3000           3000.0   60 months   12.69%        67.79   \n",
       "\n",
       "  grade sub_grade emp_length home_ownership  ...  total_rec_prncp  \\\n",
       "0     B        B2  10+ years           RENT  ...          5000.00   \n",
       "1     C        C4   < 1 year           RENT  ...           456.46   \n",
       "2     C        C5  10+ years           RENT  ...          2400.00   \n",
       "3     C        C1  10+ years           RENT  ...         10000.00   \n",
       "4     B        B5     1 year           RENT  ...          2475.94   \n",
       "\n",
       "  total_rec_int total_rec_late_fee recoveries collection_recovery_fee  \\\n",
       "0        863.16               0.00       0.00                    0.00   \n",
       "1        435.17               0.00     117.08                    1.11   \n",
       "2        605.67               0.00       0.00                    0.00   \n",
       "3       2214.92              16.97       0.00                    0.00   \n",
       "4       1037.39               0.00       0.00                    0.00   \n",
       "\n",
       "  last_pymnt_d last_pymnt_amnt next_pymnt_d  last_credit_pull_d  \\\n",
       "0       Jan-15          171.62          NaN              May-16   \n",
       "1       Apr-13          119.66          NaN              Sep-13   \n",
       "2       Jun-14          649.91          NaN              May-16   \n",
       "3       Jan-15          357.48          NaN              Apr-16   \n",
       "4       May-16           67.79       Jun-16              May-16   \n",
       "\n",
       "   pub_rec_bankruptcies  \n",
       "0                   0.0  \n",
       "1                   0.0  \n",
       "2                   0.0  \n",
       "3                   0.0  \n",
       "4                   0.0  \n",
       "\n",
       "[5 rows x 41 columns]"
      ]
     },
     "execution_count": 8,
     "metadata": {},
     "output_type": "execute_result"
    }
   ],
   "source": [
    "df_loan.head()"
   ]
  },
  {
   "cell_type": "code",
   "execution_count": 9,
   "id": "9020537e-143a-4d2d-81a0-437e3eec96b1",
   "metadata": {
    "colab": {
     "base_uri": "https://localhost:8080/"
    },
    "executionInfo": {
     "elapsed": 19,
     "status": "ok",
     "timestamp": 1652179935751,
     "user": {
      "displayName": "Thái Phạm",
      "userId": "15721535778756978075"
     },
     "user_tz": -420
    },
    "id": "9020537e-143a-4d2d-81a0-437e3eec96b1",
    "outputId": "e8e212da-4130-4170-a65e-03b36ac438ee"
   },
   "outputs": [
    {
     "data": {
      "text/plain": [
       "(39717, 41)"
      ]
     },
     "execution_count": 9,
     "metadata": {},
     "output_type": "execute_result"
    }
   ],
   "source": [
    "#Check Size of data Again\n",
    "df_loan.shape"
   ]
  },
  {
   "cell_type": "code",
   "execution_count": 10,
   "id": "8cac690e-5ae2-4d68-83d8-8594c0ab63ae",
   "metadata": {
    "colab": {
     "base_uri": "https://localhost:8080/"
    },
    "executionInfo": {
     "elapsed": 14,
     "status": "ok",
     "timestamp": 1652179935751,
     "user": {
      "displayName": "Thái Phạm",
      "userId": "15721535778756978075"
     },
     "user_tz": -420
    },
    "id": "8cac690e-5ae2-4d68-83d8-8594c0ab63ae",
    "outputId": "37449f1e-361e-4ffc-c04d-fbd9a9effab6"
   },
   "outputs": [
    {
     "data": {
      "text/plain": [
       "emp_length                 1075\n",
       "desc                      12940\n",
       "mths_since_last_delinq    25682\n",
       "mths_since_last_record    36931\n",
       "next_pymnt_d              38577\n",
       "dtype: int64"
      ]
     },
     "execution_count": 10,
     "metadata": {},
     "output_type": "execute_result"
    }
   ],
   "source": [
    "# Check once again has eliminated all NaN values or not\n",
    "df_loan.isnull().sum(axis = 0).sort_values()[-5:]"
   ]
  },
  {
   "cell_type": "markdown",
   "id": "0cd093cd-d273-401a-90da-c28fc96685f8",
   "metadata": {
    "id": "0cd093cd-d273-401a-90da-c28fc96685f8"
   },
   "source": [
    "> * Columns with only one value have no effect in the analysis, so they need to be checked and removed"
   ]
  },
  {
   "cell_type": "code",
   "execution_count": 11,
   "id": "4b5cd701-9fa9-4af2-a850-25d63b124bc1",
   "metadata": {
    "colab": {
     "base_uri": "https://localhost:8080/"
    },
    "executionInfo": {
     "elapsed": 442,
     "status": "ok",
     "timestamp": 1652179936182,
     "user": {
      "displayName": "Thái Phạm",
      "userId": "15721535778756978075"
     },
     "user_tz": -420
    },
    "id": "4b5cd701-9fa9-4af2-a850-25d63b124bc1",
    "outputId": "1e60ff1f-a2d6-4790-d172-037b33591944"
   },
   "outputs": [
    {
     "data": {
      "text/plain": [
       "next_pymnt_d             2\n",
       "term                     2\n",
       "pub_rec_bankruptcies     3\n",
       "loan_status              3\n",
       "verification_status      3\n",
       "home_ownership           5\n",
       "pub_rec                  5\n",
       "grade                    7\n",
       "inq_last_6mths           9\n",
       "emp_length              11\n",
       "dtype: int64"
      ]
     },
     "execution_count": 11,
     "metadata": {},
     "output_type": "execute_result"
    }
   ],
   "source": [
    "# Validate if all columns having unique values are deleted\n",
    "unique_values = df_loan.nunique()\n",
    "unique_values.sort_values()[:10]"
   ]
  },
  {
   "cell_type": "code",
   "execution_count": 12,
   "id": "0dddf764-5dbd-46b0-862a-ffc35477d99d",
   "metadata": {
    "colab": {
     "base_uri": "https://localhost:8080/"
    },
    "executionInfo": {
     "elapsed": 25,
     "status": "ok",
     "timestamp": 1652179936184,
     "user": {
      "displayName": "Thái Phạm",
      "userId": "15721535778756978075"
     },
     "user_tz": -420
    },
    "id": "0dddf764-5dbd-46b0-862a-ffc35477d99d",
    "outputId": "edaebc34-f012-48a4-d52a-ed2db45213ba"
   },
   "outputs": [
    {
     "data": {
      "text/plain": [
       "(39717, 41)"
      ]
     },
     "execution_count": 12,
     "metadata": {},
     "output_type": "execute_result"
    }
   ],
   "source": [
    "df_loan.shape"
   ]
  },
  {
   "cell_type": "markdown",
   "id": "4743136e-e762-4672-a5aa-17ced7a211db",
   "metadata": {
    "id": "4743136e-e762-4672-a5aa-17ced7a211db"
   },
   "source": [
    "##### After dealing with missing values, the NaN value is the remaining size of the data, a significant reduction in the number of columns . From (39717, 111) to (39717, 41)"
   ]
  },
  {
   "cell_type": "markdown",
   "id": "24102df6-f8e2-4734-b027-e5725c5222d4",
   "metadata": {
    "id": "24102df6-f8e2-4734-b027-e5725c5222d4"
   },
   "source": [
    "### Handling date-month formats and special characters, convert data type"
   ]
  },
  {
   "cell_type": "markdown",
   "id": "441b2657-9acf-49c3-8597-fe37c429d4c9",
   "metadata": {
    "id": "441b2657-9acf-49c3-8597-fe37c429d4c9"
   },
   "source": [
    "> _Loan status is a important information, is the target to be analyzed. </br> Loan status has 3 values of 'Fully Paid', 'Charged Off' and 'Current'. </br> 'Current' is a value that does not affect the analysis, so it should be removed_"
   ]
  },
  {
   "cell_type": "code",
   "execution_count": 13,
   "id": "ba2be1e6-658a-473d-9c66-98f03b7429bc",
   "metadata": {
    "colab": {
     "base_uri": "https://localhost:8080/"
    },
    "executionInfo": {
     "elapsed": 25,
     "status": "ok",
     "timestamp": 1652179936188,
     "user": {
      "displayName": "Thái Phạm",
      "userId": "15721535778756978075"
     },
     "user_tz": -420
    },
    "id": "ba2be1e6-658a-473d-9c66-98f03b7429bc",
    "outputId": "23703d46-3e97-4685-ce88-a3b8556f3558"
   },
   "outputs": [
    {
     "data": {
      "text/plain": [
       "Fully Paid     32950\n",
       "Charged Off     5627\n",
       "Current         1140\n",
       "Name: loan_status, dtype: int64"
      ]
     },
     "execution_count": 13,
     "metadata": {},
     "output_type": "execute_result"
    }
   ],
   "source": [
    "# Processing load_status columns\n",
    "df_loan['loan_status'].value_counts()"
   ]
  },
  {
   "cell_type": "code",
   "execution_count": 14,
   "id": "f2b667f1-d7f3-4875-b6f5-5e6d0f7a39fd",
   "metadata": {
    "colab": {
     "base_uri": "https://localhost:8080/",
     "height": 386
    },
    "executionInfo": {
     "elapsed": 24,
     "status": "ok",
     "timestamp": 1652179936190,
     "user": {
      "displayName": "Thái Phạm",
      "userId": "15721535778756978075"
     },
     "user_tz": -420
    },
    "id": "f2b667f1-d7f3-4875-b6f5-5e6d0f7a39fd",
    "outputId": "5da90888-276e-476a-8d59-6ee0a17ae6a5"
   },
   "outputs": [
    {
     "data": {
      "text/plain": [
       "(38577, 41)"
      ]
     },
     "execution_count": 14,
     "metadata": {},
     "output_type": "execute_result"
    }
   ],
   "source": [
    "# Remove 'Current' status in 'loan_status'\n",
    "df_loan = df_loan[df_loan['loan_status'] != 'Current'].reset_index(drop=True)\n",
    "df_loan[:5]\n",
    "df_loan.shape"
   ]
  },
  {
   "cell_type": "code",
   "execution_count": 15,
   "id": "4e422f3c-ccda-4809-842e-126bb5683471",
   "metadata": {
    "executionInfo": {
     "elapsed": 23,
     "status": "ok",
     "timestamp": 1652179936191,
     "user": {
      "displayName": "Thái Phạm",
      "userId": "15721535778756978075"
     },
     "user_tz": -420
    },
    "id": "4e422f3c-ccda-4809-842e-126bb5683471"
   },
   "outputs": [],
   "source": [
    "#Converts the data type state of the loan column to a number variable where 'Fully Paid' = 0, 'Charged Off' = 0\n",
    "df_loan['loan_status'] = df_loan['loan_status'].map({'Fully Paid': 0, 'Charged Off': 1}).astype(np.int8)"
   ]
  },
  {
   "cell_type": "code",
   "execution_count": 16,
   "id": "c291b126-d70f-40a5-a233-38f18f710926",
   "metadata": {
    "colab": {
     "base_uri": "https://localhost:8080/"
    },
    "executionInfo": {
     "elapsed": 24,
     "status": "ok",
     "timestamp": 1652179936192,
     "user": {
      "displayName": "Thái Phạm",
      "userId": "15721535778756978075"
     },
     "user_tz": -420
    },
    "id": "c291b126-d70f-40a5-a233-38f18f710926",
    "outputId": "f66af405-b1a0-492b-a463-acb256bffb26"
   },
   "outputs": [
    {
     "data": {
      "text/plain": [
       "0    32950\n",
       "1     5627\n",
       "Name: loan_status, dtype: int64"
      ]
     },
     "execution_count": 16,
     "metadata": {},
     "output_type": "execute_result"
    }
   ],
   "source": [
    "df_loan['loan_status'].value_counts()"
   ]
  },
  {
   "cell_type": "markdown",
   "id": "8ca04d85-1f4a-4ef4-ab48-3ec40164f1dc",
   "metadata": {
    "id": "8ca04d85-1f4a-4ef4-ab48-3ec40164f1dc"
   },
   "source": [
    "### Get all columns of df_loan with dtypes = object for analysis"
   ]
  },
  {
   "cell_type": "code",
   "execution_count": 17,
   "id": "a71a7f9d-7986-46b3-8a10-e9ce465d8fda",
   "metadata": {
    "colab": {
     "base_uri": "https://localhost:8080/"
    },
    "executionInfo": {
     "elapsed": 21,
     "status": "ok",
     "timestamp": 1652179936192,
     "user": {
      "displayName": "Thái Phạm",
      "userId": "15721535778756978075"
     },
     "user_tz": -420
    },
    "id": "a71a7f9d-7986-46b3-8a10-e9ce465d8fda",
    "outputId": "5c43c4c3-9c0e-416a-b67d-065052a926d4"
   },
   "outputs": [
    {
     "data": {
      "text/plain": [
       "Index(['term', 'int_rate', 'grade', 'sub_grade', 'emp_length',\n",
       "       'home_ownership', 'verification_status', 'issue_d', 'desc', 'purpose',\n",
       "       'title', 'addr_state', 'earliest_cr_line', 'revol_util', 'last_pymnt_d',\n",
       "       'next_pymnt_d', 'last_credit_pull_d'],\n",
       "      dtype='object')"
      ]
     },
     "execution_count": 17,
     "metadata": {},
     "output_type": "execute_result"
    }
   ],
   "source": [
    "df_loan.columns[df_loan.dtypes == 'object']"
   ]
  },
  {
   "cell_type": "markdown",
   "id": "1f94a3ce-69f1-4934-a07f-d17f3751f192",
   "metadata": {
    "id": "1f94a3ce-69f1-4934-a07f-d17f3751f192"
   },
   "source": [
    "> _Date-month data column = ['term', 'issue_d', 'earliest_cr_line' 'last_pymnt_d', 'last_pymnt_d' ]_ </br> Percent data column = ['int_rate', 'revol_util']"
   ]
  },
  {
   "cell_type": "markdown",
   "id": "a19b1ac3-6f1f-40c5-a544-c60818d86585",
   "metadata": {
    "colab": {
     "base_uri": "https://localhost:8080/",
     "height": 444
    },
    "executionInfo": {
     "elapsed": 19,
     "status": "ok",
     "timestamp": 1652179936193,
     "user": {
      "displayName": "Thái Phạm",
      "userId": "15721535778756978075"
     },
     "user_tz": -420
    },
    "id": "af41d0d0-5304-4e9d-bfc3-8827d47010e4",
    "outputId": "dc7c1e44-ca24-454f-8485-402dd9f416a0",
    "tags": []
   },
   "source": [
    "# Get All columns have dtype == objects and Analysis values\n",
    "objects_col = df_loan.select_dtypes('object')\n",
    "objects_col[:5]"
   ]
  },
  {
   "cell_type": "code",
   "execution_count": 18,
   "id": "ef437323-a96e-4235-b067-ef89883a88d0",
   "metadata": {},
   "outputs": [],
   "source": [
    "df_loan = df_loan.dropna(subset=['last_credit_pull_d','last_pymnt_d'])"
   ]
  },
  {
   "cell_type": "markdown",
   "id": "de16c8de-082f-49bd-a1bd-b68a56a1b3f2",
   "metadata": {},
   "source": [
    "_last_credit_pull_d & last_pymnt_d have very few nas records so deleted ._"
   ]
  },
  {
   "cell_type": "markdown",
   "id": "e8e44b97-1fe9-412d-8f3f-40c88ad27ece",
   "metadata": {
    "id": "e8e44b97-1fe9-412d-8f3f-40c88ad27ece",
    "tags": []
   },
   "source": [
    "> _Have 15 columns have objects type, It is necessary to change to the appropriate data types to continue the analysis._"
   ]
  },
  {
   "cell_type": "code",
   "execution_count": 19,
   "id": "780c8633-7ba2-4b3a-beeb-23f42d3817a6",
   "metadata": {
    "colab": {
     "base_uri": "https://localhost:8080/",
     "height": 300
    },
    "executionInfo": {
     "elapsed": 1344,
     "status": "ok",
     "timestamp": 1652179937519,
     "user": {
      "displayName": "Thái Phạm",
      "userId": "15721535778756978075"
     },
     "user_tz": -420
    },
    "id": "780c8633-7ba2-4b3a-beeb-23f42d3817a6",
    "outputId": "b2324d9e-7ed6-444c-84eb-f02c8d0fa42a",
    "tags": []
   },
   "outputs": [
    {
     "data": {
      "text/html": [
       "<div>\n",
       "<style scoped>\n",
       "    .dataframe tbody tr th:only-of-type {\n",
       "        vertical-align: middle;\n",
       "    }\n",
       "\n",
       "    .dataframe tbody tr th {\n",
       "        vertical-align: top;\n",
       "    }\n",
       "\n",
       "    .dataframe thead th {\n",
       "        text-align: right;\n",
       "    }\n",
       "</style>\n",
       "<table border=\"1\" class=\"dataframe\">\n",
       "  <thead>\n",
       "    <tr style=\"text-align: right;\">\n",
       "      <th></th>\n",
       "      <th>loan_amnt</th>\n",
       "      <th>funded_amnt</th>\n",
       "      <th>funded_amnt_inv</th>\n",
       "      <th>term</th>\n",
       "      <th>int_rate</th>\n",
       "      <th>installment</th>\n",
       "      <th>grade</th>\n",
       "      <th>sub_grade</th>\n",
       "      <th>emp_length</th>\n",
       "      <th>home_ownership</th>\n",
       "      <th>...</th>\n",
       "      <th>total_rec_prncp</th>\n",
       "      <th>total_rec_int</th>\n",
       "      <th>total_rec_late_fee</th>\n",
       "      <th>recoveries</th>\n",
       "      <th>collection_recovery_fee</th>\n",
       "      <th>last_pymnt_d</th>\n",
       "      <th>last_pymnt_amnt</th>\n",
       "      <th>next_pymnt_d</th>\n",
       "      <th>last_credit_pull_d</th>\n",
       "      <th>pub_rec_bankruptcies</th>\n",
       "    </tr>\n",
       "  </thead>\n",
       "  <tbody>\n",
       "    <tr>\n",
       "      <th>0</th>\n",
       "      <td>5000</td>\n",
       "      <td>5000</td>\n",
       "      <td>4975.0</td>\n",
       "      <td>36</td>\n",
       "      <td>10.65</td>\n",
       "      <td>162.87</td>\n",
       "      <td>B</td>\n",
       "      <td>B2</td>\n",
       "      <td>10+ years</td>\n",
       "      <td>RENT</td>\n",
       "      <td>...</td>\n",
       "      <td>5000.00</td>\n",
       "      <td>863.16</td>\n",
       "      <td>0.00</td>\n",
       "      <td>0.00</td>\n",
       "      <td>0.00</td>\n",
       "      <td>1</td>\n",
       "      <td>171.62</td>\n",
       "      <td>NaN</td>\n",
       "      <td>5</td>\n",
       "      <td>0.0</td>\n",
       "    </tr>\n",
       "    <tr>\n",
       "      <th>1</th>\n",
       "      <td>2500</td>\n",
       "      <td>2500</td>\n",
       "      <td>2500.0</td>\n",
       "      <td>60</td>\n",
       "      <td>15.27</td>\n",
       "      <td>59.83</td>\n",
       "      <td>C</td>\n",
       "      <td>C4</td>\n",
       "      <td>&lt; 1 year</td>\n",
       "      <td>RENT</td>\n",
       "      <td>...</td>\n",
       "      <td>456.46</td>\n",
       "      <td>435.17</td>\n",
       "      <td>0.00</td>\n",
       "      <td>117.08</td>\n",
       "      <td>1.11</td>\n",
       "      <td>4</td>\n",
       "      <td>119.66</td>\n",
       "      <td>NaN</td>\n",
       "      <td>9</td>\n",
       "      <td>0.0</td>\n",
       "    </tr>\n",
       "    <tr>\n",
       "      <th>2</th>\n",
       "      <td>2400</td>\n",
       "      <td>2400</td>\n",
       "      <td>2400.0</td>\n",
       "      <td>36</td>\n",
       "      <td>15.96</td>\n",
       "      <td>84.33</td>\n",
       "      <td>C</td>\n",
       "      <td>C5</td>\n",
       "      <td>10+ years</td>\n",
       "      <td>RENT</td>\n",
       "      <td>...</td>\n",
       "      <td>2400.00</td>\n",
       "      <td>605.67</td>\n",
       "      <td>0.00</td>\n",
       "      <td>0.00</td>\n",
       "      <td>0.00</td>\n",
       "      <td>6</td>\n",
       "      <td>649.91</td>\n",
       "      <td>NaN</td>\n",
       "      <td>5</td>\n",
       "      <td>0.0</td>\n",
       "    </tr>\n",
       "    <tr>\n",
       "      <th>3</th>\n",
       "      <td>10000</td>\n",
       "      <td>10000</td>\n",
       "      <td>10000.0</td>\n",
       "      <td>36</td>\n",
       "      <td>13.49</td>\n",
       "      <td>339.31</td>\n",
       "      <td>C</td>\n",
       "      <td>C1</td>\n",
       "      <td>10+ years</td>\n",
       "      <td>RENT</td>\n",
       "      <td>...</td>\n",
       "      <td>10000.00</td>\n",
       "      <td>2214.92</td>\n",
       "      <td>16.97</td>\n",
       "      <td>0.00</td>\n",
       "      <td>0.00</td>\n",
       "      <td>1</td>\n",
       "      <td>357.48</td>\n",
       "      <td>NaN</td>\n",
       "      <td>4</td>\n",
       "      <td>0.0</td>\n",
       "    </tr>\n",
       "    <tr>\n",
       "      <th>4</th>\n",
       "      <td>5000</td>\n",
       "      <td>5000</td>\n",
       "      <td>5000.0</td>\n",
       "      <td>36</td>\n",
       "      <td>7.90</td>\n",
       "      <td>156.46</td>\n",
       "      <td>A</td>\n",
       "      <td>A4</td>\n",
       "      <td>3 years</td>\n",
       "      <td>RENT</td>\n",
       "      <td>...</td>\n",
       "      <td>5000.00</td>\n",
       "      <td>632.21</td>\n",
       "      <td>0.00</td>\n",
       "      <td>0.00</td>\n",
       "      <td>0.00</td>\n",
       "      <td>1</td>\n",
       "      <td>161.03</td>\n",
       "      <td>NaN</td>\n",
       "      <td>1</td>\n",
       "      <td>0.0</td>\n",
       "    </tr>\n",
       "  </tbody>\n",
       "</table>\n",
       "<p>5 rows × 41 columns</p>\n",
       "</div>"
      ],
      "text/plain": [
       "   loan_amnt  funded_amnt  funded_amnt_inv  term  int_rate  installment grade  \\\n",
       "0       5000         5000           4975.0    36     10.65       162.87     B   \n",
       "1       2500         2500           2500.0    60     15.27        59.83     C   \n",
       "2       2400         2400           2400.0    36     15.96        84.33     C   \n",
       "3      10000        10000          10000.0    36     13.49       339.31     C   \n",
       "4       5000         5000           5000.0    36      7.90       156.46     A   \n",
       "\n",
       "  sub_grade emp_length home_ownership  ...  total_rec_prncp total_rec_int  \\\n",
       "0        B2  10+ years           RENT  ...          5000.00        863.16   \n",
       "1        C4   < 1 year           RENT  ...           456.46        435.17   \n",
       "2        C5  10+ years           RENT  ...          2400.00        605.67   \n",
       "3        C1  10+ years           RENT  ...         10000.00       2214.92   \n",
       "4        A4    3 years           RENT  ...          5000.00        632.21   \n",
       "\n",
       "   total_rec_late_fee  recoveries collection_recovery_fee last_pymnt_d  \\\n",
       "0                0.00        0.00                    0.00            1   \n",
       "1                0.00      117.08                    1.11            4   \n",
       "2                0.00        0.00                    0.00            6   \n",
       "3               16.97        0.00                    0.00            1   \n",
       "4                0.00        0.00                    0.00            1   \n",
       "\n",
       "  last_pymnt_amnt next_pymnt_d  last_credit_pull_d  pub_rec_bankruptcies  \n",
       "0          171.62          NaN                   5                   0.0  \n",
       "1          119.66          NaN                   9                   0.0  \n",
       "2          649.91          NaN                   5                   0.0  \n",
       "3          357.48          NaN                   4                   0.0  \n",
       "4          161.03          NaN                   1                   0.0  \n",
       "\n",
       "[5 rows x 41 columns]"
      ]
     },
     "execution_count": 19,
     "metadata": {},
     "output_type": "execute_result"
    }
   ],
   "source": [
    "df_loan.int_rate = df_loan.int_rate.str.rstrip('%').astype('float')\n",
    "df_loan.revol_util = df_loan.revol_util.str.rstrip('%').astype('float')\n",
    "df_loan.term = df_loan.term.str.rstrip(' months').astype('int')\n",
    "df_loan.issue_d = df_loan.issue_d.apply(lambda x: strptime(x.split('-')[0], '%b').tm_mon)\n",
    "df_loan.last_credit_pull_d = df_loan.last_credit_pull_d.apply(lambda x: strptime(x.split('-')[0], '%b').tm_mon)\n",
    "df_loan.last_pymnt_d = df_loan.last_pymnt_d.apply(lambda x: strptime(x.split('-')[0], '%b').tm_mon)\n",
    "df_loan.earliest_cr_line = df_loan.earliest_cr_line.apply(lambda x: strptime(x.split('-')[0], '%b').tm_mon)\n",
    "df_loan[:5]"
   ]
  },
  {
   "cell_type": "code",
   "execution_count": 20,
   "id": "251dcd8e-0572-4cbb-82ca-91548f261a5f",
   "metadata": {
    "executionInfo": {
     "elapsed": 4,
     "status": "ok",
     "timestamp": 1652179937520,
     "user": {
      "displayName": "Thái Phạm",
      "userId": "15721535778756978075"
     },
     "user_tz": -420
    },
    "id": "251dcd8e-0572-4cbb-82ca-91548f261a5f"
   },
   "outputs": [],
   "source": [
    "# df_loan['long_emp'] = df_loan.emp_length.apply(lambda x: 1*(x=='10+ years'))\n",
    "# df_loan['short_emp'] = df_loan.emp_length.apply(lambda x: 1*(x=='1 year' or x=='< 1 year'))\n",
    "# df_loan.drop('emp_length', axis=1, inplace=True)\n",
    "# df_loan[:5]"
   ]
  },
  {
   "cell_type": "code",
   "execution_count": 21,
   "id": "y3zWfj5ikhxj",
   "metadata": {
    "colab": {
     "base_uri": "https://localhost:8080/",
     "height": 592
    },
    "executionInfo": {
     "elapsed": 1306,
     "status": "ok",
     "timestamp": 1652179938822,
     "user": {
      "displayName": "Thái Phạm",
      "userId": "15721535778756978075"
     },
     "user_tz": -420
    },
    "id": "y3zWfj5ikhxj",
    "outputId": "c9fc22e3-7f37-49e4-d868-741384d4e237"
   },
   "outputs": [
    {
     "data": {
      "image/png": "[encoded data removed]",
      "text/plain": [
       "<Figure size 1080x576 with 1 Axes>"
      ]
     },
     "metadata": {
      "needs_background": "light"
     },
     "output_type": "display_data"
    }
   ],
   "source": [
    "fig = plt.figure(figsize = (15,8))\n",
    "sns.countplot(x=\"emp_length\",hue = \"loan_status\",data = df_loan)\n",
    "plt.title(\"Loans by emp_length\", fontsize = 20)\n",
    "plt.xticks(rotation = 90, fontsize = 15)\n",
    "plt.xlabel(\"emp_length\", fontsize = 15)\n",
    "plt.ylabel(\"loan count\", fontsize = 15)\n",
    "plt.show()"
   ]
  },
  {
   "cell_type": "code",
   "execution_count": 22,
   "id": "SyIbXGfgkhxj",
   "metadata": {
    "colab": {
     "base_uri": "https://localhost:8080/"
    },
    "executionInfo": {
     "elapsed": 45,
     "status": "ok",
     "timestamp": 1652179938822,
     "user": {
      "displayName": "Thái Phạm",
      "userId": "15721535778756978075"
     },
     "user_tz": -420
    },
    "id": "SyIbXGfgkhxj",
    "outputId": "21d273b3-eaad-48ff-e81a-16e893b2ef79"
   },
   "outputs": [
    {
     "data": {
      "text/plain": [
       "emp_length\n",
       "1 year       14.091197\n",
       "10+ years    15.591461\n",
       "2 years      13.092182\n",
       "3 years      13.682896\n",
       "4 years      13.617277\n",
       "5 years      14.070352\n",
       "6 years      14.120904\n",
       "7 years      15.321637\n",
       "8 years      13.966480\n",
       "9 years      12.673753\n",
       "< 1 year     14.025339\n",
       "Name: loan_status, dtype: float64"
      ]
     },
     "execution_count": 22,
     "metadata": {},
     "output_type": "execute_result"
    }
   ],
   "source": [
    "defaultLoan = df_loan[df_loan[\"loan_status\"]==1]\n",
    "totalDefaultbyExp = defaultLoan.groupby(\"emp_length\")[\"loan_status\"].count()\n",
    "totalcountbyExp = df_loan.groupby(\"emp_length\")[\"loan_status\"].count()\n",
    "badLoanRatiobyExp = (totalDefaultbyExp / totalcountbyExp) *100\n",
    "badLoanRatiobyExp"
   ]
  },
  {
   "cell_type": "markdown",
   "id": "V16f7wFskhxj",
   "metadata": {
    "id": "V16f7wFskhxj"
   },
   "source": [
    "> -close to 3% increase in risky loans when employment length > 9"
   ]
  },
  {
   "cell_type": "code",
   "execution_count": 23,
   "id": "55d98eef-3634-415c-9107-786207b1ff4c",
   "metadata": {
    "colab": {
     "base_uri": "https://localhost:8080/"
    },
    "executionInfo": {
     "elapsed": 35,
     "status": "ok",
     "timestamp": 1652179938823,
     "user": {
      "displayName": "Thái Phạm",
      "userId": "15721535778756978075"
     },
     "user_tz": -420
    },
    "id": "55d98eef-3634-415c-9107-786207b1ff4c",
    "outputId": "db49e276-c6ff-47e9-f341-83fa16ec2c5b"
   },
   "outputs": [
    {
     "data": {
      "text/plain": [
       "['grade',\n",
       " 'sub_grade',\n",
       " 'emp_length',\n",
       " 'home_ownership',\n",
       " 'verification_status',\n",
       " 'desc',\n",
       " 'purpose',\n",
       " 'title',\n",
       " 'addr_state',\n",
       " 'next_pymnt_d']"
      ]
     },
     "execution_count": 23,
     "metadata": {},
     "output_type": "execute_result"
    }
   ],
   "source": [
    "obj_dCol = df_loan.columns[df_loan.dtypes == 'object'].tolist()\n",
    "obj_dCol"
   ]
  },
  {
   "cell_type": "markdown",
   "id": "2af66df7-511f-4894-865a-d5d066d3f2df",
   "metadata": {
    "id": "2af66df7-511f-4894-865a-d5d066d3f2df"
   },
   "source": [
    "> _From 15 columns containing object type reduced to 7 columns containing object type_"
   ]
  },
  {
   "cell_type": "code",
   "execution_count": 24,
   "id": "9b3ee5ca-3860-4180-b061-5dfbefe040e2",
   "metadata": {
    "executionInfo": {
     "elapsed": 30,
     "status": "ok",
     "timestamp": 1652179938824,
     "user": {
      "displayName": "Thái Phạm",
      "userId": "15721535778756978075"
     },
     "user_tz": -420
    },
    "id": "9b3ee5ca-3860-4180-b061-5dfbefe040e2"
   },
   "outputs": [],
   "source": [
    "df_loan_notObj = df_loan[df_loan.columns[df_loan.dtypes != 'object']]"
   ]
  },
  {
   "cell_type": "markdown",
   "id": "26418acf-a5fd-41e4-b91d-f607a14c5be0",
   "metadata": {
    "id": "26418acf-a5fd-41e4-b91d-f607a14c5be0"
   },
   "source": [
    "<h1 align=\"center\">III. DATA ANALYSiS</h1>"
   ]
  },
  {
   "cell_type": "markdown",
   "id": "d02e4e48-732d-4a00-a6a8-ea714beb8bae",
   "metadata": {
    "id": "d02e4e48-732d-4a00-a6a8-ea714beb8bae"
   },
   "source": [
    "### * Calculate the correlation matrix from which to derive the columns with the greatest correlation to loan_status"
   ]
  },
  {
   "cell_type": "code",
   "execution_count": 25,
   "id": "f8474d5f-6690-4a1e-96d5-55dfb0ec71dc",
   "metadata": {
    "colab": {
     "base_uri": "https://localhost:8080/",
     "height": 979
    },
    "executionInfo": {
     "elapsed": 26,
     "status": "ok",
     "timestamp": 1652179938824,
     "user": {
      "displayName": "Thái Phạm",
      "userId": "15721535778756978075"
     },
     "user_tz": -420
    },
    "id": "f8474d5f-6690-4a1e-96d5-55dfb0ec71dc",
    "outputId": "24a729b4-fb0b-42ef-acc0-b5a339460a23"
   },
   "outputs": [
    {
     "data": {
      "text/html": [
       "<style type=\"text/css\">\n",
       "#T_5d610_row0_col0, #T_5d610_row1_col1, #T_5d610_row2_col2, #T_5d610_row3_col3, #T_5d610_row4_col4, #T_5d610_row5_col5, #T_5d610_row6_col6, #T_5d610_row7_col7, #T_5d610_row8_col8, #T_5d610_row9_col9, #T_5d610_row10_col10, #T_5d610_row11_col11, #T_5d610_row12_col12, #T_5d610_row13_col13, #T_5d610_row14_col14, #T_5d610_row15_col15, #T_5d610_row16_col16, #T_5d610_row17_col17, #T_5d610_row18_col18, #T_5d610_row19_col19, #T_5d610_row20_col20, #T_5d610_row21_col21, #T_5d610_row22_col22, #T_5d610_row23_col23, #T_5d610_row24_col24, #T_5d610_row25_col25, #T_5d610_row26_col26, #T_5d610_row27_col27, #T_5d610_row28_col28, #T_5d610_row29_col29, #T_5d610_row30_col30 {\n",
       "  background-color: #b40426;\n",
       "  color: #f1f1f1;\n",
       "}\n",
       "#T_5d610_row0_col1, #T_5d610_row1_col0 {\n",
       "  background-color: #b70d28;\n",
       "  color: #f1f1f1;\n",
       "}\n",
       "#T_5d610_row0_col2, #T_5d610_row2_col0 {\n",
       "  background-color: #c32e31;\n",
       "  color: #f1f1f1;\n",
       "}\n",
       "#T_5d610_row0_col3, #T_5d610_row3_col0 {\n",
       "  background-color: #efcebd;\n",
       "  color: #000000;\n",
       "}\n",
       "#T_5d610_row0_col4, #T_5d610_row2_col4, #T_5d610_row4_col0, #T_5d610_row4_col2, #T_5d610_row17_col18, #T_5d610_row18_col17 {\n",
       "  background-color: #ead5c9;\n",
       "  color: #000000;\n",
       "}\n",
       "#T_5d610_row0_col5, #T_5d610_row5_col0 {\n",
       "  background-color: #c43032;\n",
       "  color: #f1f1f1;\n",
       "}\n",
       "#T_5d610_row0_col6, #T_5d610_row3_col28, #T_5d610_row5_col6, #T_5d610_row6_col0, #T_5d610_row6_col5, #T_5d610_row28_col3 {\n",
       "  background-color: #e5d8d1;\n",
       "  color: #000000;\n",
       "}\n",
       "#T_5d610_row0_col7, #T_5d610_row5_col9, #T_5d610_row7_col0, #T_5d610_row7_col13, #T_5d610_row7_col28, #T_5d610_row9_col5, #T_5d610_row13_col7, #T_5d610_row18_col25, #T_5d610_row25_col18, #T_5d610_row28_col7 {\n",
       "  background-color: #bfd3f6;\n",
       "  color: #000000;\n",
       "}\n",
       "#T_5d610_row0_col8, #T_5d610_row0_col9, #T_5d610_row1_col8, #T_5d610_row1_col9, #T_5d610_row5_col24, #T_5d610_row8_col0, #T_5d610_row8_col1, #T_5d610_row8_col14, #T_5d610_row9_col0, #T_5d610_row9_col1, #T_5d610_row9_col20, #T_5d610_row13_col16, #T_5d610_row13_col21, #T_5d610_row14_col8, #T_5d610_row16_col13, #T_5d610_row16_col18, #T_5d610_row18_col16, #T_5d610_row18_col30, #T_5d610_row20_col9, #T_5d610_row21_col13, #T_5d610_row24_col5, #T_5d610_row30_col18 {\n",
       "  background-color: #c0d4f5;\n",
       "  color: #000000;\n",
       "}\n",
       "#T_5d610_row0_col10, #T_5d610_row1_col10, #T_5d610_row5_col30, #T_5d610_row6_col14, #T_5d610_row9_col10, #T_5d610_row10_col0, #T_5d610_row10_col1, #T_5d610_row10_col9, #T_5d610_row10_col21, #T_5d610_row12_col14, #T_5d610_row14_col6, #T_5d610_row14_col12, #T_5d610_row16_col28, #T_5d610_row21_col10, #T_5d610_row28_col16, #T_5d610_row30_col5 {\n",
       "  background-color: #adc9fd;\n",
       "  color: #000000;\n",
       "}\n",
       "#T_5d610_row0_col11, #T_5d610_row0_col29, #T_5d610_row1_col11, #T_5d610_row1_col14, #T_5d610_row2_col11, #T_5d610_row2_col29, #T_5d610_row3_col11, #T_5d610_row4_col29, #T_5d610_row5_col29, #T_5d610_row6_col29, #T_5d610_row6_col30, #T_5d610_row7_col10, #T_5d610_row9_col24, #T_5d610_row9_col29, #T_5d610_row10_col7, #T_5d610_row10_col28, #T_5d610_row11_col0, #T_5d610_row11_col1, #T_5d610_row11_col2, #T_5d610_row11_col3, #T_5d610_row11_col17, #T_5d610_row11_col23, #T_5d610_row14_col1, #T_5d610_row14_col25, #T_5d610_row16_col29, #T_5d610_row17_col11, #T_5d610_row17_col29, #T_5d610_row18_col28, #T_5d610_row19_col30, #T_5d610_row20_col27, #T_5d610_row21_col29, #T_5d610_row22_col29, #T_5d610_row23_col11, #T_5d610_row23_col27, #T_5d610_row24_col9, #T_5d610_row25_col14, #T_5d610_row27_col20, #T_5d610_row27_col23, #T_5d610_row28_col10, #T_5d610_row28_col18, #T_5d610_row28_col29, #T_5d610_row29_col0, #T_5d610_row29_col2, #T_5d610_row29_col4, #T_5d610_row29_col5, #T_5d610_row29_col6, #T_5d610_row29_col9, #T_5d610_row29_col16, #T_5d610_row29_col17, #T_5d610_row29_col21, #T_5d610_row29_col22, #T_5d610_row29_col28, #T_5d610_row29_col30, #T_5d610_row30_col6, #T_5d610_row30_col19, #T_5d610_row30_col29 {\n",
       "  background-color: #b1cbfc;\n",
       "  color: #000000;\n",
       "}\n",
       "#T_5d610_row0_col12, #T_5d610_row1_col12, #T_5d610_row3_col16, #T_5d610_row3_col24, #T_5d610_row5_col12, #T_5d610_row6_col7, #T_5d610_row7_col6, #T_5d610_row7_col12, #T_5d610_row9_col11, #T_5d610_row9_col26, #T_5d610_row9_col27, #T_5d610_row9_col28, #T_5d610_row10_col12, #T_5d610_row10_col15, #T_5d610_row10_col25, #T_5d610_row11_col9, #T_5d610_row12_col0, #T_5d610_row12_col1, #T_5d610_row12_col5, #T_5d610_row12_col7, #T_5d610_row12_col10, #T_5d610_row12_col26, #T_5d610_row13_col17, #T_5d610_row13_col19, #T_5d610_row13_col20, #T_5d610_row15_col10, #T_5d610_row16_col3, #T_5d610_row17_col13, #T_5d610_row19_col13, #T_5d610_row19_col26, #T_5d610_row20_col13, #T_5d610_row20_col24, #T_5d610_row24_col3, #T_5d610_row24_col20, #T_5d610_row25_col10, #T_5d610_row25_col27, #T_5d610_row26_col9, #T_5d610_row26_col12, #T_5d610_row26_col19, #T_5d610_row27_col9, #T_5d610_row27_col25, #T_5d610_row28_col9 {\n",
       "  background-color: #b6cefa;\n",
       "  color: #000000;\n",
       "}\n",
       "#T_5d610_row0_col13, #T_5d610_row1_col13, #T_5d610_row3_col30, #T_5d610_row6_col18, #T_5d610_row6_col26, #T_5d610_row7_col9, #T_5d610_row7_col17, #T_5d610_row8_col10, #T_5d610_row8_col23, #T_5d610_row8_col27, #T_5d610_row9_col7, #T_5d610_row10_col8, #T_5d610_row10_col26, #T_5d610_row12_col25, #T_5d610_row12_col30, #T_5d610_row13_col0, #T_5d610_row13_col1, #T_5d610_row13_col22, #T_5d610_row13_col29, #T_5d610_row14_col15, #T_5d610_row15_col14, #T_5d610_row15_col25, #T_5d610_row17_col7, #T_5d610_row18_col6, #T_5d610_row21_col26, #T_5d610_row22_col13, #T_5d610_row23_col8, #T_5d610_row25_col12, #T_5d610_row25_col15, #T_5d610_row26_col6, #T_5d610_row26_col10, #T_5d610_row26_col21, #T_5d610_row27_col8, #T_5d610_row29_col13, #T_5d610_row30_col3, #T_5d610_row30_col12 {\n",
       "  background-color: #b7cff9;\n",
       "  color: #000000;\n",
       "}\n",
       "#T_5d610_row0_col14, #T_5d610_row2_col12, #T_5d610_row2_col27, #T_5d610_row5_col13, #T_5d610_row5_col27, #T_5d610_row7_col11, #T_5d610_row7_col15, #T_5d610_row7_col26, #T_5d610_row8_col29, #T_5d610_row10_col11, #T_5d610_row10_col27, #T_5d610_row10_col29, #T_5d610_row11_col7, #T_5d610_row11_col10, #T_5d610_row11_col24, #T_5d610_row11_col25, #T_5d610_row12_col2, #T_5d610_row12_col29, #T_5d610_row13_col5, #T_5d610_row14_col0, #T_5d610_row15_col7, #T_5d610_row15_col16, #T_5d610_row15_col27, #T_5d610_row16_col15, #T_5d610_row16_col23, #T_5d610_row16_col24, #T_5d610_row19_col27, #T_5d610_row21_col24, #T_5d610_row23_col16, #T_5d610_row23_col30, #T_5d610_row24_col11, #T_5d610_row24_col16, #T_5d610_row24_col21, #T_5d610_row25_col11, #T_5d610_row26_col7, #T_5d610_row27_col2, #T_5d610_row27_col5, #T_5d610_row27_col10, #T_5d610_row27_col15, #T_5d610_row27_col19, #T_5d610_row29_col8, #T_5d610_row29_col10, #T_5d610_row29_col12, #T_5d610_row30_col23 {\n",
       "  background-color: #b3cdfb;\n",
       "  color: #000000;\n",
       "}\n",
       "#T_5d610_row0_col15, #T_5d610_row1_col15, #T_5d610_row3_col8, #T_5d610_row4_col22, #T_5d610_row4_col28, #T_5d610_row8_col3, #T_5d610_row15_col0, #T_5d610_row15_col1, #T_5d610_row22_col4, #T_5d610_row28_col4 {\n",
       "  background-color: #d6dce4;\n",
       "  color: #000000;\n",
       "}\n",
       "#T_5d610_row0_col16, #T_5d610_row1_col16, #T_5d610_row2_col16, #T_5d610_row16_col0, #T_5d610_row16_col1, #T_5d610_row16_col2, #T_5d610_row16_col20, #T_5d610_row16_col21, #T_5d610_row17_col30, #T_5d610_row20_col16, #T_5d610_row21_col16, #T_5d610_row22_col30, #T_5d610_row27_col28, #T_5d610_row28_col27, #T_5d610_row30_col17, #T_5d610_row30_col22 {\n",
       "  background-color: #a9c6fd;\n",
       "  color: #000000;\n",
       "}\n",
       "#T_5d610_row0_col17, #T_5d610_row5_col17, #T_5d610_row17_col0, #T_5d610_row17_col5, #T_5d610_row17_col19, #T_5d610_row19_col17 {\n",
       "  background-color: #ebd3c6;\n",
       "  color: #000000;\n",
       "}\n",
       "#T_5d610_row0_col18, #T_5d610_row1_col18, #T_5d610_row2_col7, #T_5d610_row2_col26, #T_5d610_row3_col17, #T_5d610_row3_col18, #T_5d610_row7_col2, #T_5d610_row9_col13, #T_5d610_row9_col21, #T_5d610_row10_col19, #T_5d610_row13_col9, #T_5d610_row17_col3, #T_5d610_row18_col0, #T_5d610_row18_col1, #T_5d610_row18_col3, #T_5d610_row19_col10, #T_5d610_row21_col9, #T_5d610_row26_col2 {\n",
       "  background-color: #c1d4f4;\n",
       "  color: #000000;\n",
       "}\n",
       "#T_5d610_row0_col19, #T_5d610_row6_col20, #T_5d610_row6_col22, #T_5d610_row7_col27, #T_5d610_row19_col0, #T_5d610_row20_col6, #T_5d610_row22_col6, #T_5d610_row27_col7 {\n",
       "  background-color: #e3d9d3;\n",
       "  color: #000000;\n",
       "}\n",
       "#T_5d610_row0_col20, #T_5d610_row20_col0 {\n",
       "  background-color: #cf453c;\n",
       "  color: #f1f1f1;\n",
       "}\n",
       "#T_5d610_row0_col21, #T_5d610_row0_col22, #T_5d610_row5_col22, #T_5d610_row21_col0, #T_5d610_row22_col0, #T_5d610_row22_col5 {\n",
       "  background-color: #d55042;\n",
       "  color: #f1f1f1;\n",
       "}\n",
       "#T_5d610_row0_col23, #T_5d610_row2_col23, #T_5d610_row23_col0, #T_5d610_row23_col2 {\n",
       "  background-color: #e9785d;\n",
       "  color: #f1f1f1;\n",
       "}\n",
       "#T_5d610_row0_col24, #T_5d610_row1_col24, #T_5d610_row3_col12, #T_5d610_row3_col15, #T_5d610_row4_col6, #T_5d610_row6_col4, #T_5d610_row7_col18, #T_5d610_row7_col21, #T_5d610_row8_col9, #T_5d610_row8_col16, #T_5d610_row8_col30, #T_5d610_row9_col8, #T_5d610_row12_col3, #T_5d610_row15_col3, #T_5d610_row16_col8, #T_5d610_row18_col7, #T_5d610_row21_col7, #T_5d610_row24_col0, #T_5d610_row24_col1, #T_5d610_row30_col8 {\n",
       "  background-color: #bed2f6;\n",
       "  color: #000000;\n",
       "}\n",
       "#T_5d610_row0_col25, #T_5d610_row1_col25, #T_5d610_row6_col28, #T_5d610_row7_col29, #T_5d610_row19_col23, #T_5d610_row23_col19, #T_5d610_row25_col0, #T_5d610_row25_col1, #T_5d610_row28_col6, #T_5d610_row29_col7 {\n",
       "  background-color: #d1dae9;\n",
       "  color: #000000;\n",
       "}\n",
       "#T_5d610_row0_col26, #T_5d610_row1_col26, #T_5d610_row3_col9, #T_5d610_row5_col26, #T_5d610_row9_col3, #T_5d610_row14_col27, #T_5d610_row18_col21, #T_5d610_row21_col18, #T_5d610_row23_col24, #T_5d610_row24_col23, #T_5d610_row26_col0, #T_5d610_row26_col1, #T_5d610_row26_col5, #T_5d610_row27_col14 {\n",
       "  background-color: #c4d5f3;\n",
       "  color: #000000;\n",
       "}\n",
       "#T_5d610_row0_col27, #T_5d610_row1_col27, #T_5d610_row4_col11, #T_5d610_row4_col27, #T_5d610_row5_col11, #T_5d610_row6_col11, #T_5d610_row6_col13, #T_5d610_row6_col27, #T_5d610_row7_col24, #T_5d610_row8_col15, #T_5d610_row9_col16, #T_5d610_row11_col4, #T_5d610_row11_col5, #T_5d610_row11_col6, #T_5d610_row11_col12, #T_5d610_row11_col13, #T_5d610_row11_col16, #T_5d610_row11_col19, #T_5d610_row11_col20, #T_5d610_row11_col21, #T_5d610_row11_col22, #T_5d610_row11_col28, #T_5d610_row11_col30, #T_5d610_row12_col11, #T_5d610_row12_col13, #T_5d610_row12_col20, #T_5d610_row12_col27, #T_5d610_row13_col6, #T_5d610_row13_col11, #T_5d610_row13_col12, #T_5d610_row13_col25, #T_5d610_row14_col20, #T_5d610_row15_col8, #T_5d610_row16_col9, #T_5d610_row16_col11, #T_5d610_row16_col25, #T_5d610_row16_col26, #T_5d610_row16_col27, #T_5d610_row18_col29, #T_5d610_row19_col11, #T_5d610_row20_col11, #T_5d610_row20_col12, #T_5d610_row20_col14, #T_5d610_row21_col11, #T_5d610_row21_col27, #T_5d610_row22_col11, #T_5d610_row24_col7, #T_5d610_row24_col30, #T_5d610_row25_col13, #T_5d610_row25_col16, #T_5d610_row25_col30, #T_5d610_row26_col16, #T_5d610_row26_col29, #T_5d610_row26_col30, #T_5d610_row27_col0, #T_5d610_row27_col1, #T_5d610_row27_col4, #T_5d610_row27_col6, #T_5d610_row27_col12, #T_5d610_row27_col16, #T_5d610_row27_col21, #T_5d610_row27_col30, #T_5d610_row28_col11, #T_5d610_row29_col18, #T_5d610_row29_col26, #T_5d610_row30_col11, #T_5d610_row30_col24, #T_5d610_row30_col25, #T_5d610_row30_col26, #T_5d610_row30_col27 {\n",
       "  background-color: #b2ccfb;\n",
       "  color: #000000;\n",
       "}\n",
       "#T_5d610_row0_col28, #T_5d610_row1_col28, #T_5d610_row28_col0, #T_5d610_row28_col1 {\n",
       "  background-color: #f7b89c;\n",
       "  color: #000000;\n",
       "}\n",
       "#T_5d610_row0_col30, #T_5d610_row1_col30, #T_5d610_row2_col10, #T_5d610_row2_col30, #T_5d610_row6_col8, #T_5d610_row8_col6, #T_5d610_row10_col2, #T_5d610_row10_col14, #T_5d610_row10_col22, #T_5d610_row14_col10, #T_5d610_row14_col26, #T_5d610_row22_col10, #T_5d610_row26_col14, #T_5d610_row30_col0, #T_5d610_row30_col1, #T_5d610_row30_col2 {\n",
       "  background-color: #abc8fd;\n",
       "  color: #000000;\n",
       "}\n",
       "#T_5d610_row1_col2, #T_5d610_row2_col1 {\n",
       "  background-color: #be242e;\n",
       "  color: #f1f1f1;\n",
       "}\n",
       "#T_5d610_row1_col3, #T_5d610_row3_col1, #T_5d610_row3_col21, #T_5d610_row4_col14, #T_5d610_row14_col4, #T_5d610_row21_col3 {\n",
       "  background-color: #edd2c3;\n",
       "  color: #000000;\n",
       "}\n",
       "#T_5d610_row1_col4, #T_5d610_row1_col17, #T_5d610_row3_col20, #T_5d610_row4_col1, #T_5d610_row17_col1, #T_5d610_row20_col3 {\n",
       "  background-color: #ead4c8;\n",
       "  color: #000000;\n",
       "}\n",
       "#T_5d610_row1_col5, #T_5d610_row5_col1 {\n",
       "  background-color: #bd1f2d;\n",
       "  color: #f1f1f1;\n",
       "}\n",
       "#T_5d610_row1_col6, #T_5d610_row6_col1 {\n",
       "  background-color: #e4d9d2;\n",
       "  color: #000000;\n",
       "}\n",
       "#T_5d610_row1_col7, #T_5d610_row2_col8, #T_5d610_row3_col6, #T_5d610_row6_col3, #T_5d610_row7_col1, #T_5d610_row8_col2, #T_5d610_row17_col25, #T_5d610_row18_col24, #T_5d610_row23_col26, #T_5d610_row24_col18, #T_5d610_row25_col17, #T_5d610_row26_col23 {\n",
       "  background-color: #bcd2f7;\n",
       "  color: #000000;\n",
       "}\n",
       "#T_5d610_row1_col19, #T_5d610_row2_col6, #T_5d610_row6_col2, #T_5d610_row19_col1 {\n",
       "  background-color: #e2dad5;\n",
       "  color: #000000;\n",
       "}\n",
       "#T_5d610_row1_col20, #T_5d610_row20_col1 {\n",
       "  background-color: #cb3e38;\n",
       "  color: #f1f1f1;\n",
       "}\n",
       "#T_5d610_row1_col21, #T_5d610_row1_col22, #T_5d610_row21_col1, #T_5d610_row22_col1 {\n",
       "  background-color: #d1493f;\n",
       "  color: #f1f1f1;\n",
       "}\n",
       "#T_5d610_row1_col23, #T_5d610_row23_col1 {\n",
       "  background-color: #e7745b;\n",
       "  color: #f1f1f1;\n",
       "}\n",
       "#T_5d610_row1_col29, #T_5d610_row3_col27, #T_5d610_row3_col29, #T_5d610_row5_col10, #T_5d610_row6_col16, #T_5d610_row7_col16, #T_5d610_row7_col30, #T_5d610_row8_col11, #T_5d610_row8_col19, #T_5d610_row10_col5, #T_5d610_row10_col20, #T_5d610_row11_col8, #T_5d610_row12_col17, #T_5d610_row12_col21, #T_5d610_row12_col22, #T_5d610_row13_col26, #T_5d610_row14_col29, #T_5d610_row15_col24, #T_5d610_row16_col6, #T_5d610_row16_col7, #T_5d610_row17_col12, #T_5d610_row19_col8, #T_5d610_row20_col10, #T_5d610_row20_col29, #T_5d610_row21_col12, #T_5d610_row22_col12, #T_5d610_row22_col24, #T_5d610_row22_col27, #T_5d610_row24_col15, #T_5d610_row24_col22, #T_5d610_row26_col13, #T_5d610_row27_col3, #T_5d610_row27_col22, #T_5d610_row29_col1, #T_5d610_row29_col3, #T_5d610_row29_col14, #T_5d610_row29_col20, #T_5d610_row30_col7 {\n",
       "  background-color: #afcafc;\n",
       "  color: #000000;\n",
       "}\n",
       "#T_5d610_row2_col3, #T_5d610_row3_col2, #T_5d610_row8_col25, #T_5d610_row25_col8, #T_5d610_row27_col29, #T_5d610_row29_col27 {\n",
       "  background-color: #efcfbf;\n",
       "  color: #000000;\n",
       "}\n",
       "#T_5d610_row2_col5, #T_5d610_row5_col2 {\n",
       "  background-color: #ca3b37;\n",
       "  color: #f1f1f1;\n",
       "}\n",
       "#T_5d610_row2_col9, #T_5d610_row2_col13, #T_5d610_row2_col18, #T_5d610_row4_col26, #T_5d610_row8_col12, #T_5d610_row9_col2, #T_5d610_row12_col8, #T_5d610_row13_col2, #T_5d610_row18_col2, #T_5d610_row18_col20, #T_5d610_row20_col18, #T_5d610_row26_col4 {\n",
       "  background-color: #c3d5f4;\n",
       "  color: #000000;\n",
       "}\n",
       "#T_5d610_row2_col14, #T_5d610_row3_col4, #T_5d610_row4_col3, #T_5d610_row14_col2 {\n",
       "  background-color: #f6bfa6;\n",
       "  color: #000000;\n",
       "}\n",
       "#T_5d610_row2_col15, #T_5d610_row8_col24, #T_5d610_row15_col2, #T_5d610_row15_col20, #T_5d610_row19_col28, #T_5d610_row20_col15, #T_5d610_row24_col8, #T_5d610_row28_col19 {\n",
       "  background-color: #d4dbe6;\n",
       "  color: #000000;\n",
       "}\n",
       "#T_5d610_row2_col17, #T_5d610_row4_col21, #T_5d610_row9_col15, #T_5d610_row15_col9, #T_5d610_row15_col17, #T_5d610_row17_col2, #T_5d610_row17_col15, #T_5d610_row17_col20, #T_5d610_row20_col17, #T_5d610_row21_col4 {\n",
       "  background-color: #e8d6cc;\n",
       "  color: #000000;\n",
       "}\n",
       "#T_5d610_row2_col19, #T_5d610_row6_col21, #T_5d610_row17_col23, #T_5d610_row19_col2, #T_5d610_row21_col6, #T_5d610_row23_col17, #T_5d610_row23_col28, #T_5d610_row28_col23 {\n",
       "  background-color: #e1dad6;\n",
       "  color: #000000;\n",
       "}\n",
       "#T_5d610_row2_col20, #T_5d610_row20_col2 {\n",
       "  background-color: #d0473d;\n",
       "  color: #f1f1f1;\n",
       "}\n",
       "#T_5d610_row2_col21, #T_5d610_row21_col2 {\n",
       "  background-color: #c83836;\n",
       "  color: #f1f1f1;\n",
       "}\n",
       "#T_5d610_row2_col22, #T_5d610_row22_col2 {\n",
       "  background-color: #d75445;\n",
       "  color: #f1f1f1;\n",
       "}\n",
       "#T_5d610_row2_col24, #T_5d610_row5_col7, #T_5d610_row5_col8, #T_5d610_row7_col5, #T_5d610_row7_col20, #T_5d610_row8_col5, #T_5d610_row9_col25, #T_5d610_row10_col24, #T_5d610_row12_col23, #T_5d610_row12_col24, #T_5d610_row12_col28, #T_5d610_row18_col26, #T_5d610_row20_col7, #T_5d610_row20_col25, #T_5d610_row20_col26, #T_5d610_row23_col12, #T_5d610_row24_col2, #T_5d610_row24_col10, #T_5d610_row24_col12, #T_5d610_row25_col9, #T_5d610_row25_col20, #T_5d610_row26_col18, #T_5d610_row26_col20, #T_5d610_row28_col12 {\n",
       "  background-color: #bad0f8;\n",
       "  color: #000000;\n",
       "}\n",
       "#T_5d610_row2_col25, #T_5d610_row4_col12, #T_5d610_row12_col4, #T_5d610_row25_col2 {\n",
       "  background-color: #cedaeb;\n",
       "  color: #000000;\n",
       "}\n",
       "#T_5d610_row2_col28, #T_5d610_row4_col18, #T_5d610_row18_col4, #T_5d610_row28_col2 {\n",
       "  background-color: #f7b99e;\n",
       "  color: #000000;\n",
       "}\n",
       "#T_5d610_row3_col5, #T_5d610_row5_col3, #T_5d610_row5_col18, #T_5d610_row18_col5 {\n",
       "  background-color: #c6d6f1;\n",
       "  color: #000000;\n",
       "}\n",
       "#T_5d610_row3_col7, #T_5d610_row3_col13, #T_5d610_row3_col26, #T_5d610_row6_col12, #T_5d610_row7_col3, #T_5d610_row9_col22, #T_5d610_row12_col6, #T_5d610_row13_col3, #T_5d610_row22_col9, #T_5d610_row26_col3 {\n",
       "  background-color: #bbd1f8;\n",
       "  color: #000000;\n",
       "}\n",
       "#T_5d610_row3_col10, #T_5d610_row4_col15, #T_5d610_row6_col24, #T_5d610_row7_col19, #T_5d610_row8_col13, #T_5d610_row8_col17, #T_5d610_row9_col12, #T_5d610_row9_col30, #T_5d610_row10_col3, #T_5d610_row10_col16, #T_5d610_row10_col30, #T_5d610_row11_col15, #T_5d610_row11_col18, #T_5d610_row11_col26, #T_5d610_row11_col27, #T_5d610_row11_col29, #T_5d610_row12_col9, #T_5d610_row13_col8, #T_5d610_row13_col23, #T_5d610_row13_col28, #T_5d610_row15_col4, #T_5d610_row15_col11, #T_5d610_row15_col26, #T_5d610_row15_col30, #T_5d610_row16_col10, #T_5d610_row17_col8, #T_5d610_row17_col24, #T_5d610_row17_col27, #T_5d610_row18_col11, #T_5d610_row19_col7, #T_5d610_row23_col13, #T_5d610_row24_col6, #T_5d610_row24_col17, #T_5d610_row24_col27, #T_5d610_row24_col29, #T_5d610_row25_col29, #T_5d610_row26_col11, #T_5d610_row26_col15, #T_5d610_row26_col27, #T_5d610_row27_col11, #T_5d610_row27_col17, #T_5d610_row27_col24, #T_5d610_row27_col26, #T_5d610_row28_col13, #T_5d610_row29_col11, #T_5d610_row29_col24, #T_5d610_row29_col25, #T_5d610_row30_col9, #T_5d610_row30_col10, #T_5d610_row30_col15 {\n",
       "  background-color: #b5cdfa;\n",
       "  color: #000000;\n",
       "}\n",
       "#T_5d610_row3_col14, #T_5d610_row4_col5, #T_5d610_row5_col4, #T_5d610_row9_col18, #T_5d610_row14_col3, #T_5d610_row18_col9 {\n",
       "  background-color: #e7d7ce;\n",
       "  color: #000000;\n",
       "}\n",
       "#T_5d610_row3_col19, #T_5d610_row4_col16, #T_5d610_row4_col17, #T_5d610_row4_col24, #T_5d610_row12_col15, #T_5d610_row15_col12, #T_5d610_row16_col4, #T_5d610_row17_col4, #T_5d610_row19_col3, #T_5d610_row23_col25, #T_5d610_row24_col4, #T_5d610_row24_col26, #T_5d610_row25_col23, #T_5d610_row26_col24 {\n",
       "  background-color: #c7d7f0;\n",
       "  color: #000000;\n",
       "}\n",
       "#T_5d610_row3_col22, #T_5d610_row22_col3 {\n",
       "  background-color: #dadce0;\n",
       "  color: #000000;\n",
       "}\n",
       "#T_5d610_row3_col23, #T_5d610_row23_col3 {\n",
       "  background-color: #f7b194;\n",
       "  color: #000000;\n",
       "}\n",
       "#T_5d610_row3_col25, #T_5d610_row12_col19, #T_5d610_row14_col23, #T_5d610_row19_col12, #T_5d610_row23_col14, #T_5d610_row25_col3 {\n",
       "  background-color: #cbd8ee;\n",
       "  color: #000000;\n",
       "}\n",
       "#T_5d610_row4_col7, #T_5d610_row6_col10, #T_5d610_row6_col25, #T_5d610_row7_col4, #T_5d610_row7_col8, #T_5d610_row7_col22, #T_5d610_row7_col23, #T_5d610_row7_col25, #T_5d610_row8_col7, #T_5d610_row10_col6, #T_5d610_row10_col23, #T_5d610_row12_col16, #T_5d610_row13_col15, #T_5d610_row13_col27, #T_5d610_row13_col30, #T_5d610_row15_col13, #T_5d610_row16_col12, #T_5d610_row17_col26, #T_5d610_row18_col22, #T_5d610_row18_col27, #T_5d610_row19_col25, #T_5d610_row21_col25, #T_5d610_row22_col7, #T_5d610_row22_col18, #T_5d610_row23_col7, #T_5d610_row23_col10, #T_5d610_row25_col6, #T_5d610_row25_col7, #T_5d610_row25_col19, #T_5d610_row25_col21, #T_5d610_row26_col17, #T_5d610_row27_col13, #T_5d610_row27_col18, #T_5d610_row30_col13 {\n",
       "  background-color: #b9d0f9;\n",
       "  color: #000000;\n",
       "}\n",
       "#T_5d610_row4_col8, #T_5d610_row8_col4 {\n",
       "  background-color: #dcdddd;\n",
       "  color: #000000;\n",
       "}\n",
       "#T_5d610_row4_col9, #T_5d610_row9_col4, #T_5d610_row13_col18, #T_5d610_row18_col13 {\n",
       "  background-color: #cad8ef;\n",
       "  color: #000000;\n",
       "}\n",
       "#T_5d610_row4_col10, #T_5d610_row6_col15, #T_5d610_row10_col4, #T_5d610_row15_col6, #T_5d610_row15_col22, #T_5d610_row22_col15 {\n",
       "  background-color: #d3dbe7;\n",
       "  color: #000000;\n",
       "}\n",
       "#T_5d610_row4_col13, #T_5d610_row10_col17, #T_5d610_row13_col4, #T_5d610_row17_col10, #T_5d610_row22_col26, #T_5d610_row26_col22 {\n",
       "  background-color: #a7c5fe;\n",
       "  color: #000000;\n",
       "}\n",
       "#T_5d610_row4_col19, #T_5d610_row5_col16, #T_5d610_row10_col18, #T_5d610_row14_col22, #T_5d610_row16_col5, #T_5d610_row18_col10, #T_5d610_row19_col4, #T_5d610_row20_col30, #T_5d610_row21_col30, #T_5d610_row22_col14, #T_5d610_row26_col28, #T_5d610_row28_col26, #T_5d610_row30_col20, #T_5d610_row30_col21 {\n",
       "  background-color: #aac7fd;\n",
       "  color: #000000;\n",
       "}\n",
       "#T_5d610_row4_col20, #T_5d610_row20_col4 {\n",
       "  background-color: #e9d5cb;\n",
       "  color: #000000;\n",
       "}\n",
       "#T_5d610_row4_col23, #T_5d610_row23_col4 {\n",
       "  background-color: #f7ad90;\n",
       "  color: #000000;\n",
       "}\n",
       "#T_5d610_row4_col25, #T_5d610_row17_col28, #T_5d610_row25_col4, #T_5d610_row28_col17 {\n",
       "  background-color: #cdd9ec;\n",
       "  color: #000000;\n",
       "}\n",
       "#T_5d610_row4_col30, #T_5d610_row14_col28, #T_5d610_row15_col28, #T_5d610_row28_col14, #T_5d610_row28_col15, #T_5d610_row30_col4 {\n",
       "  background-color: #c5d6f2;\n",
       "  color: #000000;\n",
       "}\n",
       "#T_5d610_row5_col14, #T_5d610_row14_col5, #T_5d610_row16_col17, #T_5d610_row16_col22, #T_5d610_row17_col16, #T_5d610_row22_col16, #T_5d610_row24_col28, #T_5d610_row28_col24 {\n",
       "  background-color: #a6c4fe;\n",
       "  color: #000000;\n",
       "}\n",
       "#T_5d610_row5_col15, #T_5d610_row15_col5 {\n",
       "  background-color: #d5dbe5;\n",
       "  color: #000000;\n",
       "}\n",
       "#T_5d610_row5_col19, #T_5d610_row6_col19, #T_5d610_row9_col19, #T_5d610_row19_col5, #T_5d610_row19_col6, #T_5d610_row19_col9, #T_5d610_row19_col22, #T_5d610_row22_col19 {\n",
       "  background-color: #dfdbd9;\n",
       "  color: #000000;\n",
       "}\n",
       "#T_5d610_row5_col20, #T_5d610_row20_col5 {\n",
       "  background-color: #d24b40;\n",
       "  color: #f1f1f1;\n",
       "}\n",
       "#T_5d610_row5_col21, #T_5d610_row20_col23, #T_5d610_row21_col5, #T_5d610_row23_col20 {\n",
       "  background-color: #da5a49;\n",
       "  color: #f1f1f1;\n",
       "}\n",
       "#T_5d610_row5_col23, #T_5d610_row23_col5 {\n",
       "  background-color: #f29072;\n",
       "  color: #f1f1f1;\n",
       "}\n",
       "#T_5d610_row5_col25, #T_5d610_row15_col23, #T_5d610_row23_col15, #T_5d610_row25_col5 {\n",
       "  background-color: #ccd9ed;\n",
       "  color: #000000;\n",
       "}\n",
       "#T_5d610_row5_col28, #T_5d610_row28_col5 {\n",
       "  background-color: #f5c4ac;\n",
       "  color: #000000;\n",
       "}\n",
       "#T_5d610_row6_col9, #T_5d610_row9_col6 {\n",
       "  background-color: #98b9ff;\n",
       "  color: #000000;\n",
       "}\n",
       "#T_5d610_row6_col17, #T_5d610_row17_col6, #T_5d610_row17_col21, #T_5d610_row17_col22, #T_5d610_row21_col17, #T_5d610_row22_col17 {\n",
       "  background-color: #e6d7cf;\n",
       "  color: #000000;\n",
       "}\n",
       "#T_5d610_row6_col23, #T_5d610_row23_col6 {\n",
       "  background-color: #d7dce3;\n",
       "  color: #000000;\n",
       "}\n",
       "#T_5d610_row7_col14, #T_5d610_row14_col7, #T_5d610_row14_col18, #T_5d610_row18_col14, #T_5d610_row19_col21, #T_5d610_row21_col19 {\n",
       "  background-color: #dddcdc;\n",
       "  color: #000000;\n",
       "}\n",
       "#T_5d610_row8_col18, #T_5d610_row9_col23, #T_5d610_row14_col19, #T_5d610_row18_col8, #T_5d610_row19_col14, #T_5d610_row23_col9, #T_5d610_row24_col25, #T_5d610_row25_col24 {\n",
       "  background-color: #c9d7f0;\n",
       "  color: #000000;\n",
       "}\n",
       "#T_5d610_row8_col20, #T_5d610_row20_col8 {\n",
       "  background-color: #80a3fa;\n",
       "  color: #f1f1f1;\n",
       "}\n",
       "#T_5d610_row8_col21, #T_5d610_row21_col8 {\n",
       "  background-color: #81a4fb;\n",
       "  color: #f1f1f1;\n",
       "}\n",
       "#T_5d610_row8_col22, #T_5d610_row22_col8 {\n",
       "  background-color: #6a8bef;\n",
       "  color: #f1f1f1;\n",
       "}\n",
       "#T_5d610_row8_col26, #T_5d610_row26_col8 {\n",
       "  background-color: #dbdcde;\n",
       "  color: #000000;\n",
       "}\n",
       "#T_5d610_row8_col28, #T_5d610_row28_col8 {\n",
       "  background-color: #82a6fb;\n",
       "  color: #f1f1f1;\n",
       "}\n",
       "#T_5d610_row9_col14, #T_5d610_row14_col9 {\n",
       "  background-color: #d8dce2;\n",
       "  color: #000000;\n",
       "}\n",
       "#T_5d610_row9_col17, #T_5d610_row17_col9, #T_5d610_row19_col20, #T_5d610_row20_col19 {\n",
       "  background-color: #dedcdb;\n",
       "  color: #000000;\n",
       "}\n",
       "#T_5d610_row10_col13, #T_5d610_row13_col10 {\n",
       "  background-color: #3b4cc0;\n",
       "  color: #f1f1f1;\n",
       "}\n",
       "#T_5d610_row11_col14, #T_5d610_row13_col24, #T_5d610_row14_col11, #T_5d610_row15_col29, #T_5d610_row16_col19, #T_5d610_row19_col16, #T_5d610_row19_col24, #T_5d610_row19_col29, #T_5d610_row23_col29, #T_5d610_row24_col13, #T_5d610_row24_col19, #T_5d610_row28_col30, #T_5d610_row29_col15, #T_5d610_row29_col19, #T_5d610_row29_col23, #T_5d610_row30_col28 {\n",
       "  background-color: #aec9fc;\n",
       "  color: #000000;\n",
       "}\n",
       "#T_5d610_row12_col18, #T_5d610_row18_col12, #T_5d610_row18_col19, #T_5d610_row19_col18 {\n",
       "  background-color: #a5c3fe;\n",
       "  color: #000000;\n",
       "}\n",
       "#T_5d610_row13_col14, #T_5d610_row14_col13 {\n",
       "  background-color: #f7b79b;\n",
       "  color: #000000;\n",
       "}\n",
       "#T_5d610_row14_col16, #T_5d610_row16_col14 {\n",
       "  background-color: #e16751;\n",
       "  color: #f1f1f1;\n",
       "}\n",
       "#T_5d610_row14_col17, #T_5d610_row17_col14 {\n",
       "  background-color: #9dbdff;\n",
       "  color: #000000;\n",
       "}\n",
       "#T_5d610_row14_col21, #T_5d610_row21_col14 {\n",
       "  background-color: #f2cab5;\n",
       "  color: #000000;\n",
       "}\n",
       "#T_5d610_row14_col24, #T_5d610_row24_col14 {\n",
       "  background-color: #9ebeff;\n",
       "  color: #000000;\n",
       "}\n",
       "#T_5d610_row14_col30, #T_5d610_row30_col14 {\n",
       "  background-color: #d95847;\n",
       "  color: #f1f1f1;\n",
       "}\n",
       "#T_5d610_row15_col18, #T_5d610_row18_col15 {\n",
       "  background-color: #a1c0ff;\n",
       "  color: #000000;\n",
       "}\n",
       "#T_5d610_row15_col19, #T_5d610_row19_col15, #T_5d610_row22_col23, #T_5d610_row23_col22 {\n",
       "  background-color: #ee8468;\n",
       "  color: #f1f1f1;\n",
       "}\n",
       "#T_5d610_row15_col21, #T_5d610_row21_col15 {\n",
       "  background-color: #d2dbe8;\n",
       "  color: #000000;\n",
       "}\n",
       "#T_5d610_row16_col30, #T_5d610_row30_col16 {\n",
       "  background-color: #d65244;\n",
       "  color: #f1f1f1;\n",
       "}\n",
       "#T_5d610_row18_col23, #T_5d610_row23_col18 {\n",
       "  background-color: #d9dce1;\n",
       "  color: #000000;\n",
       "}\n",
       "#T_5d610_row20_col21, #T_5d610_row21_col20 {\n",
       "  background-color: #bb1b2c;\n",
       "  color: #f1f1f1;\n",
       "}\n",
       "#T_5d610_row20_col22, #T_5d610_row22_col20 {\n",
       "  background-color: #ba162b;\n",
       "  color: #f1f1f1;\n",
       "}\n",
       "#T_5d610_row20_col28, #T_5d610_row28_col20 {\n",
       "  background-color: #f7b093;\n",
       "  color: #000000;\n",
       "}\n",
       "#T_5d610_row21_col22, #T_5d610_row22_col21 {\n",
       "  background-color: #c12b30;\n",
       "  color: #f1f1f1;\n",
       "}\n",
       "#T_5d610_row21_col23, #T_5d610_row23_col21 {\n",
       "  background-color: #dd5f4b;\n",
       "  color: #f1f1f1;\n",
       "}\n",
       "#T_5d610_row21_col28, #T_5d610_row28_col21 {\n",
       "  background-color: #f7b396;\n",
       "  color: #000000;\n",
       "}\n",
       "#T_5d610_row22_col25, #T_5d610_row25_col22 {\n",
       "  background-color: #9fbfff;\n",
       "  color: #000000;\n",
       "}\n",
       "#T_5d610_row22_col28, #T_5d610_row28_col22 {\n",
       "  background-color: #f6a385;\n",
       "  color: #000000;\n",
       "}\n",
       "#T_5d610_row25_col26, #T_5d610_row26_col25 {\n",
       "  background-color: #de614d;\n",
       "  color: #f1f1f1;\n",
       "}\n",
       "#T_5d610_row25_col28, #T_5d610_row28_col25 {\n",
       "  background-color: #a3c2fe;\n",
       "  color: #000000;\n",
       "}\n",
       "</style>\n",
       "<table id=\"T_5d610\">\n",
       "  <thead>\n",
       "    <tr>\n",
       "      <th class=\"blank level0\" >&nbsp;</th>\n",
       "      <th id=\"T_5d610_level0_col0\" class=\"col_heading level0 col0\" >loan_amnt</th>\n",
       "      <th id=\"T_5d610_level0_col1\" class=\"col_heading level0 col1\" >funded_amnt</th>\n",
       "      <th id=\"T_5d610_level0_col2\" class=\"col_heading level0 col2\" >funded_amnt_inv</th>\n",
       "      <th id=\"T_5d610_level0_col3\" class=\"col_heading level0 col3\" >term</th>\n",
       "      <th id=\"T_5d610_level0_col4\" class=\"col_heading level0 col4\" >int_rate</th>\n",
       "      <th id=\"T_5d610_level0_col5\" class=\"col_heading level0 col5\" >installment</th>\n",
       "      <th id=\"T_5d610_level0_col6\" class=\"col_heading level0 col6\" >annual_inc</th>\n",
       "      <th id=\"T_5d610_level0_col7\" class=\"col_heading level0 col7\" >issue_d</th>\n",
       "      <th id=\"T_5d610_level0_col8\" class=\"col_heading level0 col8\" >loan_status</th>\n",
       "      <th id=\"T_5d610_level0_col9\" class=\"col_heading level0 col9\" >dti</th>\n",
       "      <th id=\"T_5d610_level0_col10\" class=\"col_heading level0 col10\" >delinq_2yrs</th>\n",
       "      <th id=\"T_5d610_level0_col11\" class=\"col_heading level0 col11\" >earliest_cr_line</th>\n",
       "      <th id=\"T_5d610_level0_col12\" class=\"col_heading level0 col12\" >inq_last_6mths</th>\n",
       "      <th id=\"T_5d610_level0_col13\" class=\"col_heading level0 col13\" >mths_since_last_delinq</th>\n",
       "      <th id=\"T_5d610_level0_col14\" class=\"col_heading level0 col14\" >mths_since_last_record</th>\n",
       "      <th id=\"T_5d610_level0_col15\" class=\"col_heading level0 col15\" >open_acc</th>\n",
       "      <th id=\"T_5d610_level0_col16\" class=\"col_heading level0 col16\" >pub_rec</th>\n",
       "      <th id=\"T_5d610_level0_col17\" class=\"col_heading level0 col17\" >revol_bal</th>\n",
       "      <th id=\"T_5d610_level0_col18\" class=\"col_heading level0 col18\" >revol_util</th>\n",
       "      <th id=\"T_5d610_level0_col19\" class=\"col_heading level0 col19\" >total_acc</th>\n",
       "      <th id=\"T_5d610_level0_col20\" class=\"col_heading level0 col20\" >total_pymnt</th>\n",
       "      <th id=\"T_5d610_level0_col21\" class=\"col_heading level0 col21\" >total_pymnt_inv</th>\n",
       "      <th id=\"T_5d610_level0_col22\" class=\"col_heading level0 col22\" >total_rec_prncp</th>\n",
       "      <th id=\"T_5d610_level0_col23\" class=\"col_heading level0 col23\" >total_rec_int</th>\n",
       "      <th id=\"T_5d610_level0_col24\" class=\"col_heading level0 col24\" >total_rec_late_fee</th>\n",
       "      <th id=\"T_5d610_level0_col25\" class=\"col_heading level0 col25\" >recoveries</th>\n",
       "      <th id=\"T_5d610_level0_col26\" class=\"col_heading level0 col26\" >collection_recovery_fee</th>\n",
       "      <th id=\"T_5d610_level0_col27\" class=\"col_heading level0 col27\" >last_pymnt_d</th>\n",
       "      <th id=\"T_5d610_level0_col28\" class=\"col_heading level0 col28\" >last_pymnt_amnt</th>\n",
       "      <th id=\"T_5d610_level0_col29\" class=\"col_heading level0 col29\" >last_credit_pull_d</th>\n",
       "      <th id=\"T_5d610_level0_col30\" class=\"col_heading level0 col30\" >pub_rec_bankruptcies</th>\n",
       "    </tr>\n",
       "  </thead>\n",
       "  <tbody>\n",
       "    <tr>\n",
       "      <th id=\"T_5d610_level0_row0\" class=\"row_heading level0 row0\" >loan_amnt</th>\n",
       "      <td id=\"T_5d610_row0_col0\" class=\"data row0 col0\" >1.000000</td>\n",
       "      <td id=\"T_5d610_row0_col1\" class=\"data row0 col1\" >0.981748</td>\n",
       "      <td id=\"T_5d610_row0_col2\" class=\"data row0 col2\" >0.938018</td>\n",
       "      <td id=\"T_5d610_row0_col3\" class=\"data row0 col3\" >0.346831</td>\n",
       "      <td id=\"T_5d610_row0_col4\" class=\"data row0 col4\" >0.301894</td>\n",
       "      <td id=\"T_5d610_row0_col5\" class=\"data row0 col5\" >0.932160</td>\n",
       "      <td id=\"T_5d610_row0_col6\" class=\"data row0 col6\" >0.268716</td>\n",
       "      <td id=\"T_5d610_row0_col7\" class=\"data row0 col7\" >0.051922</td>\n",
       "      <td id=\"T_5d610_row0_col8\" class=\"data row0 col8\" >0.061573</td>\n",
       "      <td id=\"T_5d610_row0_col9\" class=\"data row0 col9\" >0.062656</td>\n",
       "      <td id=\"T_5d610_row0_col10\" class=\"data row0 col10\" >-0.031520</td>\n",
       "      <td id=\"T_5d610_row0_col11\" class=\"data row0 col11\" >-0.013374</td>\n",
       "      <td id=\"T_5d610_row0_col12\" class=\"data row0 col12\" >0.012590</td>\n",
       "      <td id=\"T_5d610_row0_col13\" class=\"data row0 col13\" >0.014812</td>\n",
       "      <td id=\"T_5d610_row0_col14\" class=\"data row0 col14\" >-0.000493</td>\n",
       "      <td id=\"T_5d610_row0_col15\" class=\"data row0 col15\" >0.176640</td>\n",
       "      <td id=\"T_5d610_row0_col16\" class=\"data row0 col16\" >-0.049735</td>\n",
       "      <td id=\"T_5d610_row0_col17\" class=\"data row0 col17\" >0.313894</td>\n",
       "      <td id=\"T_5d610_row0_col18\" class=\"data row0 col18\" >0.064045</td>\n",
       "      <td id=\"T_5d610_row0_col19\" class=\"data row0 col19\" >0.255830</td>\n",
       "      <td id=\"T_5d610_row0_col20\" class=\"data row0 col20\" >0.883312</td>\n",
       "      <td id=\"T_5d610_row0_col21\" class=\"data row0 col21\" >0.848906</td>\n",
       "      <td id=\"T_5d610_row0_col22\" class=\"data row0 col22\" >0.847354</td>\n",
       "      <td id=\"T_5d610_row0_col23\" class=\"data row0 col23\" >0.729079</td>\n",
       "      <td id=\"T_5d610_row0_col24\" class=\"data row0 col24\" >0.047020</td>\n",
       "      <td id=\"T_5d610_row0_col25\" class=\"data row0 col25\" >0.143378</td>\n",
       "      <td id=\"T_5d610_row0_col26\" class=\"data row0 col26\" >0.077207</td>\n",
       "      <td id=\"T_5d610_row0_col27\" class=\"data row0 col27\" >-0.006606</td>\n",
       "      <td id=\"T_5d610_row0_col28\" class=\"data row0 col28\" >0.474882</td>\n",
       "      <td id=\"T_5d610_row0_col29\" class=\"data row0 col29\" >-0.015728</td>\n",
       "      <td id=\"T_5d610_row0_col30\" class=\"data row0 col30\" >-0.035673</td>\n",
       "    </tr>\n",
       "    <tr>\n",
       "      <th id=\"T_5d610_level0_row1\" class=\"row_heading level0 row1\" >funded_amnt</th>\n",
       "      <td id=\"T_5d610_row1_col0\" class=\"data row1 col0\" >0.981748</td>\n",
       "      <td id=\"T_5d610_row1_col1\" class=\"data row1 col1\" >1.000000</td>\n",
       "      <td id=\"T_5d610_row1_col2\" class=\"data row1 col2\" >0.956327</td>\n",
       "      <td id=\"T_5d610_row1_col3\" class=\"data row1 col3\" >0.325027</td>\n",
       "      <td id=\"T_5d610_row1_col4\" class=\"data row1 col4\" >0.305546</td>\n",
       "      <td id=\"T_5d610_row1_col5\" class=\"data row1 col5\" >0.957992</td>\n",
       "      <td id=\"T_5d610_row1_col6\" class=\"data row1 col6\" >0.264523</td>\n",
       "      <td id=\"T_5d610_row1_col7\" class=\"data row1 col7\" >0.041852</td>\n",
       "      <td id=\"T_5d610_row1_col8\" class=\"data row1 col8\" >0.058485</td>\n",
       "      <td id=\"T_5d610_row1_col9\" class=\"data row1 col9\" >0.062435</td>\n",
       "      <td id=\"T_5d610_row1_col10\" class=\"data row1 col10\" >-0.031435</td>\n",
       "      <td id=\"T_5d610_row1_col11\" class=\"data row1 col11\" >-0.012405</td>\n",
       "      <td id=\"T_5d610_row1_col12\" class=\"data row1 col12\" >0.012467</td>\n",
       "      <td id=\"T_5d610_row1_col13\" class=\"data row1 col13\" >0.015335</td>\n",
       "      <td id=\"T_5d610_row1_col14\" class=\"data row1 col14\" >-0.010906</td>\n",
       "      <td id=\"T_5d610_row1_col15\" class=\"data row1 col15\" >0.175129</td>\n",
       "      <td id=\"T_5d610_row1_col16\" class=\"data row1 col16\" >-0.050316</td>\n",
       "      <td id=\"T_5d610_row1_col17\" class=\"data row1 col17\" >0.306385</td>\n",
       "      <td id=\"T_5d610_row1_col18\" class=\"data row1 col18\" >0.067939</td>\n",
       "      <td id=\"T_5d610_row1_col19\" class=\"data row1 col19\" >0.250209</td>\n",
       "      <td id=\"T_5d610_row1_col20\" class=\"data row1 col20\" >0.900263</td>\n",
       "      <td id=\"T_5d610_row1_col21\" class=\"data row1 col21\" >0.865920</td>\n",
       "      <td id=\"T_5d610_row1_col22\" class=\"data row1 col22\" >0.865731</td>\n",
       "      <td id=\"T_5d610_row1_col23\" class=\"data row1 col23\" >0.737488</td>\n",
       "      <td id=\"T_5d610_row1_col24\" class=\"data row1 col24\" >0.049396</td>\n",
       "      <td id=\"T_5d610_row1_col25\" class=\"data row1 col25\" >0.143988</td>\n",
       "      <td id=\"T_5d610_row1_col26\" class=\"data row1 col26\" >0.078951</td>\n",
       "      <td id=\"T_5d610_row1_col27\" class=\"data row1 col27\" >-0.009798</td>\n",
       "      <td id=\"T_5d610_row1_col28\" class=\"data row1 col28\" >0.478777</td>\n",
       "      <td id=\"T_5d610_row1_col29\" class=\"data row1 col29\" >-0.017583</td>\n",
       "      <td id=\"T_5d610_row1_col30\" class=\"data row1 col30\" >-0.036691</td>\n",
       "    </tr>\n",
       "    <tr>\n",
       "      <th id=\"T_5d610_level0_row2\" class=\"row_heading level0 row2\" >funded_amnt_inv</th>\n",
       "      <td id=\"T_5d610_row2_col0\" class=\"data row2 col0\" >0.938018</td>\n",
       "      <td id=\"T_5d610_row2_col1\" class=\"data row2 col1\" >0.956327</td>\n",
       "      <td id=\"T_5d610_row2_col2\" class=\"data row2 col2\" >1.000000</td>\n",
       "      <td id=\"T_5d610_row2_col3\" class=\"data row2 col3\" >0.344153</td>\n",
       "      <td id=\"T_5d610_row2_col4\" class=\"data row2 col4\" >0.298314</td>\n",
       "      <td id=\"T_5d610_row2_col5\" class=\"data row2 col5\" >0.905565</td>\n",
       "      <td id=\"T_5d610_row2_col6\" class=\"data row2 col6\" >0.251687</td>\n",
       "      <td id=\"T_5d610_row2_col7\" class=\"data row2 col7\" >0.068137</td>\n",
       "      <td id=\"T_5d610_row2_col8\" class=\"data row2 col8\" >0.040126</td>\n",
       "      <td id=\"T_5d610_row2_col9\" class=\"data row2 col9\" >0.070866</td>\n",
       "      <td id=\"T_5d610_row2_col10\" class=\"data row2 col10\" >-0.037840</td>\n",
       "      <td id=\"T_5d610_row2_col11\" class=\"data row2 col11\" >-0.011718</td>\n",
       "      <td id=\"T_5d610_row2_col12\" class=\"data row2 col12\" >-0.002952</td>\n",
       "      <td id=\"T_5d610_row2_col13\" class=\"data row2 col13\" >0.072960</td>\n",
       "      <td id=\"T_5d610_row2_col14\" class=\"data row2 col14\" >0.440245</td>\n",
       "      <td id=\"T_5d610_row2_col15\" class=\"data row2 col15\" >0.162255</td>\n",
       "      <td id=\"T_5d610_row2_col16\" class=\"data row2 col16\" >-0.051250</td>\n",
       "      <td id=\"T_5d610_row2_col17\" class=\"data row2 col17\" >0.286156</td>\n",
       "      <td id=\"T_5d610_row2_col18\" class=\"data row2 col18\" >0.072843</td>\n",
       "      <td id=\"T_5d610_row2_col19\" class=\"data row2 col19\" >0.242575</td>\n",
       "      <td id=\"T_5d610_row2_col20\" class=\"data row2 col20\" >0.875754</td>\n",
       "      <td id=\"T_5d610_row2_col21\" class=\"data row2 col21\" >0.910185</td>\n",
       "      <td id=\"T_5d610_row2_col22\" class=\"data row2 col22\" >0.839670</td>\n",
       "      <td id=\"T_5d610_row2_col23\" class=\"data row2 col23\" >0.727189</td>\n",
       "      <td id=\"T_5d610_row2_col24\" class=\"data row2 col24\" >0.029240</td>\n",
       "      <td id=\"T_5d610_row2_col25\" class=\"data row2 col25\" >0.131772</td>\n",
       "      <td id=\"T_5d610_row2_col26\" class=\"data row2 col26\" >0.064700</td>\n",
       "      <td id=\"T_5d610_row2_col27\" class=\"data row2 col27\" >-0.002046</td>\n",
       "      <td id=\"T_5d610_row2_col28\" class=\"data row2 col28\" >0.469239</td>\n",
       "      <td id=\"T_5d610_row2_col29\" class=\"data row2 col29\" >-0.014284</td>\n",
       "      <td id=\"T_5d610_row2_col30\" class=\"data row2 col30\" >-0.040938</td>\n",
       "    </tr>\n",
       "    <tr>\n",
       "      <th id=\"T_5d610_level0_row3\" class=\"row_heading level0 row3\" >term</th>\n",
       "      <td id=\"T_5d610_row3_col0\" class=\"data row3 col0\" >0.346831</td>\n",
       "      <td id=\"T_5d610_row3_col1\" class=\"data row3 col1\" >0.325027</td>\n",
       "      <td id=\"T_5d610_row3_col2\" class=\"data row3 col2\" >0.344153</td>\n",
       "      <td id=\"T_5d610_row3_col3\" class=\"data row3 col3\" >1.000000</td>\n",
       "      <td id=\"T_5d610_row3_col4\" class=\"data row3 col4\" >0.440308</td>\n",
       "      <td id=\"T_5d610_row3_col5\" class=\"data row3 col5\" >0.090417</td>\n",
       "      <td id=\"T_5d610_row3_col6\" class=\"data row3 col6\" >0.043967</td>\n",
       "      <td id=\"T_5d610_row3_col7\" class=\"data row3 col7\" >0.033128</td>\n",
       "      <td id=\"T_5d610_row3_col8\" class=\"data row3 col8\" >0.174560</td>\n",
       "      <td id=\"T_5d610_row3_col9\" class=\"data row3 col9\" >0.076213</td>\n",
       "      <td id=\"T_5d610_row3_col10\" class=\"data row3 col10\" >0.007899</td>\n",
       "      <td id=\"T_5d610_row3_col11\" class=\"data row3 col11\" >-0.015842</td>\n",
       "      <td id=\"T_5d610_row3_col12\" class=\"data row3 col12\" >0.047701</td>\n",
       "      <td id=\"T_5d610_row3_col13\" class=\"data row3 col13\" >0.037580</td>\n",
       "      <td id=\"T_5d610_row3_col14\" class=\"data row3 col14\" >0.279794</td>\n",
       "      <td id=\"T_5d610_row3_col15\" class=\"data row3 col15\" >0.046372</td>\n",
       "      <td id=\"T_5d610_row3_col16\" class=\"data row3 col16\" >0.010221</td>\n",
       "      <td id=\"T_5d610_row3_col17\" class=\"data row3 col17\" >0.066459</td>\n",
       "      <td id=\"T_5d610_row3_col18\" class=\"data row3 col18\" >0.065947</td>\n",
       "      <td id=\"T_5d610_row3_col19\" class=\"data row3 col19\" >0.096537</td>\n",
       "      <td id=\"T_5d610_row3_col20\" class=\"data row3 col20\" >0.306281</td>\n",
       "      <td id=\"T_5d610_row3_col21\" class=\"data row3 col21\" >0.321620</td>\n",
       "      <td id=\"T_5d610_row3_col22\" class=\"data row3 col22\" >0.200782</td>\n",
       "      <td id=\"T_5d610_row3_col23\" class=\"data row3 col23\" >0.507121</td>\n",
       "      <td id=\"T_5d610_row3_col24\" class=\"data row3 col24\" >0.012863</td>\n",
       "      <td id=\"T_5d610_row3_col25\" class=\"data row3 col25\" >0.112621</td>\n",
       "      <td id=\"T_5d610_row3_col26\" class=\"data row3 col26\" >0.037417</td>\n",
       "      <td id=\"T_5d610_row3_col27\" class=\"data row3 col27\" >-0.019617</td>\n",
       "      <td id=\"T_5d610_row3_col28\" class=\"data row3 col28\" >0.270547</td>\n",
       "      <td id=\"T_5d610_row3_col29\" class=\"data row3 col29\" >-0.018641</td>\n",
       "      <td id=\"T_5d610_row3_col30\" class=\"data row3 col30\" >0.014419</td>\n",
       "    </tr>\n",
       "    <tr>\n",
       "      <th id=\"T_5d610_level0_row4\" class=\"row_heading level0 row4\" >int_rate</th>\n",
       "      <td id=\"T_5d610_row4_col0\" class=\"data row4 col0\" >0.301894</td>\n",
       "      <td id=\"T_5d610_row4_col1\" class=\"data row4 col1\" >0.305546</td>\n",
       "      <td id=\"T_5d610_row4_col2\" class=\"data row4 col2\" >0.298314</td>\n",
       "      <td id=\"T_5d610_row4_col3\" class=\"data row4 col3\" >0.440308</td>\n",
       "      <td id=\"T_5d610_row4_col4\" class=\"data row4 col4\" >1.000000</td>\n",
       "      <td id=\"T_5d610_row4_col5\" class=\"data row4 col5\" >0.277783</td>\n",
       "      <td id=\"T_5d610_row4_col6\" class=\"data row4 col6\" >0.049300</td>\n",
       "      <td id=\"T_5d610_row4_col7\" class=\"data row4 col7\" >0.025284</td>\n",
       "      <td id=\"T_5d610_row4_col8\" class=\"data row4 col8\" >0.210217</td>\n",
       "      <td id=\"T_5d610_row4_col9\" class=\"data row4 col9\" >0.111313</td>\n",
       "      <td id=\"T_5d610_row4_col10\" class=\"data row4 col10\" >0.158429</td>\n",
       "      <td id=\"T_5d610_row4_col11\" class=\"data row4 col11\" >-0.008059</td>\n",
       "      <td id=\"T_5d610_row4_col12\" class=\"data row4 col12\" >0.132959</td>\n",
       "      <td id=\"T_5d610_row4_col13\" class=\"data row4 col13\" >-0.054893</td>\n",
       "      <td id=\"T_5d610_row4_col14\" class=\"data row4 col14\" >0.323319</td>\n",
       "      <td id=\"T_5d610_row4_col15\" class=\"data row4 col15\" >0.006587</td>\n",
       "      <td id=\"T_5d610_row4_col16\" class=\"data row4 col16\" >0.098331</td>\n",
       "      <td id=\"T_5d610_row4_col17\" class=\"data row4 col17\" >0.094770</td>\n",
       "      <td id=\"T_5d610_row4_col18\" class=\"data row4 col18\" >0.467701</td>\n",
       "      <td id=\"T_5d610_row4_col19\" class=\"data row4 col19\" >-0.045943</td>\n",
       "      <td id=\"T_5d610_row4_col20\" class=\"data row4 col20\" >0.292734</td>\n",
       "      <td id=\"T_5d610_row4_col21\" class=\"data row4 col21\" >0.286920</td>\n",
       "      <td id=\"T_5d610_row4_col22\" class=\"data row4 col22\" >0.176609</td>\n",
       "      <td id=\"T_5d610_row4_col23\" class=\"data row4 col23\" >0.523050</td>\n",
       "      <td id=\"T_5d610_row4_col24\" class=\"data row4 col24\" >0.094607</td>\n",
       "      <td id=\"T_5d610_row4_col25\" class=\"data row4 col25\" >0.128955</td>\n",
       "      <td id=\"T_5d610_row4_col26\" class=\"data row4 col26\" >0.069835</td>\n",
       "      <td id=\"T_5d610_row4_col27\" class=\"data row4 col27\" >-0.008339</td>\n",
       "      <td id=\"T_5d610_row4_col28\" class=\"data row4 col28\" >0.175236</td>\n",
       "      <td id=\"T_5d610_row4_col29\" class=\"data row4 col29\" >-0.013659</td>\n",
       "      <td id=\"T_5d610_row4_col30\" class=\"data row4 col30\" >0.082629</td>\n",
       "    </tr>\n",
       "    <tr>\n",
       "      <th id=\"T_5d610_level0_row5\" class=\"row_heading level0 row5\" >installment</th>\n",
       "      <td id=\"T_5d610_row5_col0\" class=\"data row5 col0\" >0.932160</td>\n",
       "      <td id=\"T_5d610_row5_col1\" class=\"data row5 col1\" >0.957992</td>\n",
       "      <td id=\"T_5d610_row5_col2\" class=\"data row5 col2\" >0.905565</td>\n",
       "      <td id=\"T_5d610_row5_col3\" class=\"data row5 col3\" >0.090417</td>\n",
       "      <td id=\"T_5d610_row5_col4\" class=\"data row5 col4\" >0.277783</td>\n",
       "      <td id=\"T_5d610_row5_col5\" class=\"data row5 col5\" >1.000000</td>\n",
       "      <td id=\"T_5d610_row5_col6\" class=\"data row5 col6\" >0.267546</td>\n",
       "      <td id=\"T_5d610_row5_col7\" class=\"data row5 col7\" >0.029431</td>\n",
       "      <td id=\"T_5d610_row5_col8\" class=\"data row5 col8\" >0.028837</td>\n",
       "      <td id=\"T_5d610_row5_col9\" class=\"data row5 col9\" >0.052354</td>\n",
       "      <td id=\"T_5d610_row5_col10\" class=\"data row5 col10\" >-0.019406</td>\n",
       "      <td id=\"T_5d610_row5_col11\" class=\"data row5 col11\" >-0.009078</td>\n",
       "      <td id=\"T_5d610_row5_col12\" class=\"data row5 col12\" >0.010644</td>\n",
       "      <td id=\"T_5d610_row5_col13\" class=\"data row5 col13\" >-0.000258</td>\n",
       "      <td id=\"T_5d610_row5_col14\" class=\"data row5 col14\" >-0.064122</td>\n",
       "      <td id=\"T_5d610_row5_col15\" class=\"data row5 col15\" >0.172276</td>\n",
       "      <td id=\"T_5d610_row5_col16\" class=\"data row5 col16\" >-0.045446</td>\n",
       "      <td id=\"T_5d610_row5_col17\" class=\"data row5 col17\" >0.309427</td>\n",
       "      <td id=\"T_5d610_row5_col18\" class=\"data row5 col18\" >0.093695</td>\n",
       "      <td id=\"T_5d610_row5_col19\" class=\"data row5 col19\" >0.229459</td>\n",
       "      <td id=\"T_5d610_row5_col20\" class=\"data row5 col20\" >0.859997</td>\n",
       "      <td id=\"T_5d610_row5_col21\" class=\"data row5 col21\" >0.819018</td>\n",
       "      <td id=\"T_5d610_row5_col22\" class=\"data row5 col22\" >0.849414</td>\n",
       "      <td id=\"T_5d610_row5_col23\" class=\"data row5 col23\" >0.643338</td>\n",
       "      <td id=\"T_5d610_row5_col24\" class=\"data row5 col24\" >0.058336</td>\n",
       "      <td id=\"T_5d610_row5_col25\" class=\"data row5 col25\" >0.122017</td>\n",
       "      <td id=\"T_5d610_row5_col26\" class=\"data row5 col26\" >0.077666</td>\n",
       "      <td id=\"T_5d610_row5_col27\" class=\"data row5 col27\" >-0.004082</td>\n",
       "      <td id=\"T_5d610_row5_col28\" class=\"data row5 col28\" >0.413838</td>\n",
       "      <td id=\"T_5d610_row5_col29\" class=\"data row5 col29\" >-0.013753</td>\n",
       "      <td id=\"T_5d610_row5_col30\" class=\"data row5 col30\" >-0.033054</td>\n",
       "    </tr>\n",
       "    <tr>\n",
       "      <th id=\"T_5d610_level0_row6\" class=\"row_heading level0 row6\" >annual_inc</th>\n",
       "      <td id=\"T_5d610_row6_col0\" class=\"data row6 col0\" >0.268716</td>\n",
       "      <td id=\"T_5d610_row6_col1\" class=\"data row6 col1\" >0.264523</td>\n",
       "      <td id=\"T_5d610_row6_col2\" class=\"data row6 col2\" >0.251687</td>\n",
       "      <td id=\"T_5d610_row6_col3\" class=\"data row6 col3\" >0.043967</td>\n",
       "      <td id=\"T_5d610_row6_col4\" class=\"data row6 col4\" >0.049300</td>\n",
       "      <td id=\"T_5d610_row6_col5\" class=\"data row6 col5\" >0.267546</td>\n",
       "      <td id=\"T_5d610_row6_col6\" class=\"data row6 col6\" >1.000000</td>\n",
       "      <td id=\"T_5d610_row6_col7\" class=\"data row6 col7\" >0.008900</td>\n",
       "      <td id=\"T_5d610_row6_col8\" class=\"data row6 col8\" >-0.039522</td>\n",
       "      <td id=\"T_5d610_row6_col9\" class=\"data row6 col9\" >-0.121635</td>\n",
       "      <td id=\"T_5d610_row6_col10\" class=\"data row6 col10\" >0.022713</td>\n",
       "      <td id=\"T_5d610_row6_col11\" class=\"data row6 col11\" >-0.010021</td>\n",
       "      <td id=\"T_5d610_row6_col12\" class=\"data row6 col12\" >0.035656</td>\n",
       "      <td id=\"T_5d610_row6_col13\" class=\"data row6 col13\" >-0.007739</td>\n",
       "      <td id=\"T_5d610_row6_col14\" class=\"data row6 col14\" >-0.030948</td>\n",
       "      <td id=\"T_5d610_row6_col15\" class=\"data row6 col15\" >0.156484</td>\n",
       "      <td id=\"T_5d610_row6_col16\" class=\"data row6 col16\" >-0.017897</td>\n",
       "      <td id=\"T_5d610_row6_col17\" class=\"data row6 col17\" >0.277120</td>\n",
       "      <td id=\"T_5d610_row6_col18\" class=\"data row6 col18\" >0.016940</td>\n",
       "      <td id=\"T_5d610_row6_col19\" class=\"data row6 col19\" >0.234195</td>\n",
       "      <td id=\"T_5d610_row6_col20\" class=\"data row6 col20\" >0.255972</td>\n",
       "      <td id=\"T_5d610_row6_col21\" class=\"data row6 col21\" >0.244842</td>\n",
       "      <td id=\"T_5d610_row6_col22\" class=\"data row6 col22\" >0.256507</td>\n",
       "      <td id=\"T_5d610_row6_col23\" class=\"data row6 col23\" >0.184684</td>\n",
       "      <td id=\"T_5d610_row6_col24\" class=\"data row6 col24\" >0.006699</td>\n",
       "      <td id=\"T_5d610_row6_col25\" class=\"data row6 col25\" >0.022678</td>\n",
       "      <td id=\"T_5d610_row6_col26\" class=\"data row6 col26\" >0.016337</td>\n",
       "      <td id=\"T_5d610_row6_col27\" class=\"data row6 col27\" >-0.006456</td>\n",
       "      <td id=\"T_5d610_row6_col28\" class=\"data row6 col28\" >0.142949</td>\n",
       "      <td id=\"T_5d610_row6_col29\" class=\"data row6 col29\" >-0.015494</td>\n",
       "      <td id=\"T_5d610_row6_col30\" class=\"data row6 col30\" >-0.016264</td>\n",
       "    </tr>\n",
       "    <tr>\n",
       "      <th id=\"T_5d610_level0_row7\" class=\"row_heading level0 row7\" >issue_d</th>\n",
       "      <td id=\"T_5d610_row7_col0\" class=\"data row7 col0\" >0.051922</td>\n",
       "      <td id=\"T_5d610_row7_col1\" class=\"data row7 col1\" >0.041852</td>\n",
       "      <td id=\"T_5d610_row7_col2\" class=\"data row7 col2\" >0.068137</td>\n",
       "      <td id=\"T_5d610_row7_col3\" class=\"data row7 col3\" >0.033128</td>\n",
       "      <td id=\"T_5d610_row7_col4\" class=\"data row7 col4\" >0.025284</td>\n",
       "      <td id=\"T_5d610_row7_col5\" class=\"data row7 col5\" >0.029431</td>\n",
       "      <td id=\"T_5d610_row7_col6\" class=\"data row7 col6\" >0.008900</td>\n",
       "      <td id=\"T_5d610_row7_col7\" class=\"data row7 col7\" >1.000000</td>\n",
       "      <td id=\"T_5d610_row7_col8\" class=\"data row7 col8\" >0.025013</td>\n",
       "      <td id=\"T_5d610_row7_col9\" class=\"data row7 col9\" >0.014194</td>\n",
       "      <td id=\"T_5d610_row7_col10\" class=\"data row7 col10\" >-0.011002</td>\n",
       "      <td id=\"T_5d610_row7_col11\" class=\"data row7 col11\" >-0.003306</td>\n",
       "      <td id=\"T_5d610_row7_col12\" class=\"data row7 col12\" >0.013323</td>\n",
       "      <td id=\"T_5d610_row7_col13\" class=\"data row7 col13\" >0.053062</td>\n",
       "      <td id=\"T_5d610_row7_col14\" class=\"data row7 col14\" >0.216268</td>\n",
       "      <td id=\"T_5d610_row7_col15\" class=\"data row7 col15\" >0.000472</td>\n",
       "      <td id=\"T_5d610_row7_col16\" class=\"data row7 col16\" >-0.022294</td>\n",
       "      <td id=\"T_5d610_row7_col17\" class=\"data row7 col17\" >0.014574</td>\n",
       "      <td id=\"T_5d610_row7_col18\" class=\"data row7 col18\" >0.047232</td>\n",
       "      <td id=\"T_5d610_row7_col19\" class=\"data row7 col19\" >0.002742</td>\n",
       "      <td id=\"T_5d610_row7_col20\" class=\"data row7 col20\" >0.026527</td>\n",
       "      <td id=\"T_5d610_row7_col21\" class=\"data row7 col21\" >0.049240</td>\n",
       "      <td id=\"T_5d610_row7_col22\" class=\"data row7 col22\" >0.023494</td>\n",
       "      <td id=\"T_5d610_row7_col23\" class=\"data row7 col23\" >0.022231</td>\n",
       "      <td id=\"T_5d610_row7_col24\" class=\"data row7 col24\" >-0.005300</td>\n",
       "      <td id=\"T_5d610_row7_col25\" class=\"data row7 col25\" >0.022888</td>\n",
       "      <td id=\"T_5d610_row7_col26\" class=\"data row7 col26\" >-0.000494</td>\n",
       "      <td id=\"T_5d610_row7_col27\" class=\"data row7 col27\" >0.256652</td>\n",
       "      <td id=\"T_5d610_row7_col28\" class=\"data row7 col28\" >0.054928</td>\n",
       "      <td id=\"T_5d610_row7_col29\" class=\"data row7 col29\" >0.144862</td>\n",
       "      <td id=\"T_5d610_row7_col30\" class=\"data row7 col30\" >-0.021366</td>\n",
       "    </tr>\n",
       "    <tr>\n",
       "      <th id=\"T_5d610_level0_row8\" class=\"row_heading level0 row8\" >loan_status</th>\n",
       "      <td id=\"T_5d610_row8_col0\" class=\"data row8 col0\" >0.061573</td>\n",
       "      <td id=\"T_5d610_row8_col1\" class=\"data row8 col1\" >0.058485</td>\n",
       "      <td id=\"T_5d610_row8_col2\" class=\"data row8 col2\" >0.040126</td>\n",
       "      <td id=\"T_5d610_row8_col3\" class=\"data row8 col3\" >0.174560</td>\n",
       "      <td id=\"T_5d610_row8_col4\" class=\"data row8 col4\" >0.210217</td>\n",
       "      <td id=\"T_5d610_row8_col5\" class=\"data row8 col5\" >0.028837</td>\n",
       "      <td id=\"T_5d610_row8_col6\" class=\"data row8 col6\" >-0.039522</td>\n",
       "      <td id=\"T_5d610_row8_col7\" class=\"data row8 col7\" >0.025013</td>\n",
       "      <td id=\"T_5d610_row8_col8\" class=\"data row8 col8\" >1.000000</td>\n",
       "      <td id=\"T_5d610_row8_col9\" class=\"data row8 col9\" >0.046195</td>\n",
       "      <td id=\"T_5d610_row8_col10\" class=\"data row8 col10\" >0.019036</td>\n",
       "      <td id=\"T_5d610_row8_col11\" class=\"data row8 col11\" >-0.019691</td>\n",
       "      <td id=\"T_5d610_row8_col12\" class=\"data row8 col12\" >0.070650</td>\n",
       "      <td id=\"T_5d610_row8_col13\" class=\"data row8 col13\" >0.006320</td>\n",
       "      <td id=\"T_5d610_row8_col14\" class=\"data row8 col14\" >0.060510</td>\n",
       "      <td id=\"T_5d610_row8_col15\" class=\"data row8 col15\" >-0.007023</td>\n",
       "      <td id=\"T_5d610_row8_col16\" class=\"data row8 col16\" >0.050555</td>\n",
       "      <td id=\"T_5d610_row8_col17\" class=\"data row8 col17\" >0.007776</td>\n",
       "      <td id=\"T_5d610_row8_col18\" class=\"data row8 col18\" >0.100388</td>\n",
       "      <td id=\"T_5d610_row8_col19\" class=\"data row8 col19\" >-0.020163</td>\n",
       "      <td id=\"T_5d610_row8_col20\" class=\"data row8 col20\" >-0.231787</td>\n",
       "      <td id=\"T_5d610_row8_col21\" class=\"data row8 col21\" >-0.228956</td>\n",
       "      <td id=\"T_5d610_row8_col22\" class=\"data row8 col22\" >-0.331157</td>\n",
       "      <td id=\"T_5d610_row8_col23\" class=\"data row8 col23\" >0.017101</td>\n",
       "      <td id=\"T_5d610_row8_col24\" class=\"data row8 col24\" >0.166882</td>\n",
       "      <td id=\"T_5d610_row8_col25\" class=\"data row8 col25\" >0.339996</td>\n",
       "      <td id=\"T_5d610_row8_col26\" class=\"data row8 col26\" >0.204881</td>\n",
       "      <td id=\"T_5d610_row8_col27\" class=\"data row8 col27\" >0.019689</td>\n",
       "      <td id=\"T_5d610_row8_col28\" class=\"data row8 col28\" >-0.221059</td>\n",
       "      <td id=\"T_5d610_row8_col29\" class=\"data row8 col29\" >0.000422</td>\n",
       "      <td id=\"T_5d610_row8_col30\" class=\"data row8 col30\" >0.047206</td>\n",
       "    </tr>\n",
       "    <tr>\n",
       "      <th id=\"T_5d610_level0_row9\" class=\"row_heading level0 row9\" >dti</th>\n",
       "      <td id=\"T_5d610_row9_col0\" class=\"data row9 col0\" >0.062656</td>\n",
       "      <td id=\"T_5d610_row9_col1\" class=\"data row9 col1\" >0.062435</td>\n",
       "      <td id=\"T_5d610_row9_col2\" class=\"data row9 col2\" >0.070866</td>\n",
       "      <td id=\"T_5d610_row9_col3\" class=\"data row9 col3\" >0.076213</td>\n",
       "      <td id=\"T_5d610_row9_col4\" class=\"data row9 col4\" >0.111313</td>\n",
       "      <td id=\"T_5d610_row9_col5\" class=\"data row9 col5\" >0.052354</td>\n",
       "      <td id=\"T_5d610_row9_col6\" class=\"data row9 col6\" >-0.121635</td>\n",
       "      <td id=\"T_5d610_row9_col7\" class=\"data row9 col7\" >0.014194</td>\n",
       "      <td id=\"T_5d610_row9_col8\" class=\"data row9 col8\" >0.046195</td>\n",
       "      <td id=\"T_5d610_row9_col9\" class=\"data row9 col9\" >1.000000</td>\n",
       "      <td id=\"T_5d610_row9_col10\" class=\"data row9 col10\" >-0.033097</td>\n",
       "      <td id=\"T_5d610_row9_col11\" class=\"data row9 col11\" >0.008989</td>\n",
       "      <td id=\"T_5d610_row9_col12\" class=\"data row9 col12\" >0.001888</td>\n",
       "      <td id=\"T_5d610_row9_col13\" class=\"data row9 col13\" >0.068505</td>\n",
       "      <td id=\"T_5d610_row9_col14\" class=\"data row9 col14\" >0.186052</td>\n",
       "      <td id=\"T_5d610_row9_col15\" class=\"data row9 col15\" >0.288075</td>\n",
       "      <td id=\"T_5d610_row9_col16\" class=\"data row9 col16\" >-0.004737</td>\n",
       "      <td id=\"T_5d610_row9_col17\" class=\"data row9 col17\" >0.228054</td>\n",
       "      <td id=\"T_5d610_row9_col18\" class=\"data row9 col18\" >0.278811</td>\n",
       "      <td id=\"T_5d610_row9_col19\" class=\"data row9 col19\" >0.228863</td>\n",
       "      <td id=\"T_5d610_row9_col20\" class=\"data row9 col20\" >0.058945</td>\n",
       "      <td id=\"T_5d610_row9_col21\" class=\"data row9 col21\" >0.065974</td>\n",
       "      <td id=\"T_5d610_row9_col22\" class=\"data row9 col22\" >0.036341</td>\n",
       "      <td id=\"T_5d610_row9_col23\" class=\"data row9 col23\" >0.102963</td>\n",
       "      <td id=\"T_5d610_row9_col24\" class=\"data row9 col24\" >-0.011499</td>\n",
       "      <td id=\"T_5d610_row9_col25\" class=\"data row9 col25\" >0.026553</td>\n",
       "      <td id=\"T_5d610_row9_col26\" class=\"data row9 col26\" >0.012020</td>\n",
       "      <td id=\"T_5d610_row9_col27\" class=\"data row9 col27\" >0.011102</td>\n",
       "      <td id=\"T_5d610_row9_col28\" class=\"data row9 col28\" >0.008342</td>\n",
       "      <td id=\"T_5d610_row9_col29\" class=\"data row9 col29\" >-0.014161</td>\n",
       "      <td id=\"T_5d610_row9_col30\" class=\"data row9 col30\" >0.005952</td>\n",
       "    </tr>\n",
       "    <tr>\n",
       "      <th id=\"T_5d610_level0_row10\" class=\"row_heading level0 row10\" >delinq_2yrs</th>\n",
       "      <td id=\"T_5d610_row10_col0\" class=\"data row10 col0\" >-0.031520</td>\n",
       "      <td id=\"T_5d610_row10_col1\" class=\"data row10 col1\" >-0.031435</td>\n",
       "      <td id=\"T_5d610_row10_col2\" class=\"data row10 col2\" >-0.037840</td>\n",
       "      <td id=\"T_5d610_row10_col3\" class=\"data row10 col3\" >0.007899</td>\n",
       "      <td id=\"T_5d610_row10_col4\" class=\"data row10 col4\" >0.158429</td>\n",
       "      <td id=\"T_5d610_row10_col5\" class=\"data row10 col5\" >-0.019406</td>\n",
       "      <td id=\"T_5d610_row10_col6\" class=\"data row10 col6\" >0.022713</td>\n",
       "      <td id=\"T_5d610_row10_col7\" class=\"data row10 col7\" >-0.011002</td>\n",
       "      <td id=\"T_5d610_row10_col8\" class=\"data row10 col8\" >0.019036</td>\n",
       "      <td id=\"T_5d610_row10_col9\" class=\"data row10 col9\" >-0.033097</td>\n",
       "      <td id=\"T_5d610_row10_col10\" class=\"data row10 col10\" >1.000000</td>\n",
       "      <td id=\"T_5d610_row10_col11\" class=\"data row10 col11\" >0.000836</td>\n",
       "      <td id=\"T_5d610_row10_col12\" class=\"data row10 col12\" >0.008309</td>\n",
       "      <td id=\"T_5d610_row10_col13\" class=\"data row10 col13\" >-0.567601</td>\n",
       "      <td id=\"T_5d610_row10_col14\" class=\"data row10 col14\" >-0.038944</td>\n",
       "      <td id=\"T_5d610_row10_col15\" class=\"data row10 col15\" >0.012322</td>\n",
       "      <td id=\"T_5d610_row10_col16\" class=\"data row10 col16\" >0.007106</td>\n",
       "      <td id=\"T_5d610_row10_col17\" class=\"data row10 col17\" >-0.054125</td>\n",
       "      <td id=\"T_5d610_row10_col18\" class=\"data row10 col18\" >-0.042830</td>\n",
       "      <td id=\"T_5d610_row10_col19\" class=\"data row10 col19\" >0.067492</td>\n",
       "      <td id=\"T_5d610_row10_col20\" class=\"data row10 col20\" >-0.022535</td>\n",
       "      <td id=\"T_5d610_row10_col21\" class=\"data row10 col21\" >-0.029064</td>\n",
       "      <td id=\"T_5d610_row10_col22\" class=\"data row10 col22\" >-0.037924</td>\n",
       "      <td id=\"T_5d610_row10_col23\" class=\"data row10 col23\" >0.024290</td>\n",
       "      <td id=\"T_5d610_row10_col24\" class=\"data row10 col24\" >0.028932</td>\n",
       "      <td id=\"T_5d610_row10_col25\" class=\"data row10 col25\" >0.012843</td>\n",
       "      <td id=\"T_5d610_row10_col26\" class=\"data row10 col26\" >0.014359</td>\n",
       "      <td id=\"T_5d610_row10_col27\" class=\"data row10 col27\" >0.000057</td>\n",
       "      <td id=\"T_5d610_row10_col28\" class=\"data row10 col28\" >-0.012244</td>\n",
       "      <td id=\"T_5d610_row10_col29\" class=\"data row10 col29\" >-0.004131</td>\n",
       "      <td id=\"T_5d610_row10_col30\" class=\"data row10 col30\" >0.002702</td>\n",
       "    </tr>\n",
       "    <tr>\n",
       "      <th id=\"T_5d610_level0_row11\" class=\"row_heading level0 row11\" >earliest_cr_line</th>\n",
       "      <td id=\"T_5d610_row11_col0\" class=\"data row11 col0\" >-0.013374</td>\n",
       "      <td id=\"T_5d610_row11_col1\" class=\"data row11 col1\" >-0.012405</td>\n",
       "      <td id=\"T_5d610_row11_col2\" class=\"data row11 col2\" >-0.011718</td>\n",
       "      <td id=\"T_5d610_row11_col3\" class=\"data row11 col3\" >-0.015842</td>\n",
       "      <td id=\"T_5d610_row11_col4\" class=\"data row11 col4\" >-0.008059</td>\n",
       "      <td id=\"T_5d610_row11_col5\" class=\"data row11 col5\" >-0.009078</td>\n",
       "      <td id=\"T_5d610_row11_col6\" class=\"data row11 col6\" >-0.010021</td>\n",
       "      <td id=\"T_5d610_row11_col7\" class=\"data row11 col7\" >-0.003306</td>\n",
       "      <td id=\"T_5d610_row11_col8\" class=\"data row11 col8\" >-0.019691</td>\n",
       "      <td id=\"T_5d610_row11_col9\" class=\"data row11 col9\" >0.008989</td>\n",
       "      <td id=\"T_5d610_row11_col10\" class=\"data row11 col10\" >0.000836</td>\n",
       "      <td id=\"T_5d610_row11_col11\" class=\"data row11 col11\" >1.000000</td>\n",
       "      <td id=\"T_5d610_row11_col12\" class=\"data row11 col12\" >-0.007722</td>\n",
       "      <td id=\"T_5d610_row11_col13\" class=\"data row11 col13\" >-0.007013</td>\n",
       "      <td id=\"T_5d610_row11_col14\" class=\"data row11 col14\" >-0.026657</td>\n",
       "      <td id=\"T_5d610_row11_col15\" class=\"data row11 col15\" >0.002883</td>\n",
       "      <td id=\"T_5d610_row11_col16\" class=\"data row11 col16\" >-0.009025</td>\n",
       "      <td id=\"T_5d610_row11_col17\" class=\"data row11 col17\" >-0.013718</td>\n",
       "      <td id=\"T_5d610_row11_col18\" class=\"data row11 col18\" >0.002250</td>\n",
       "      <td id=\"T_5d610_row11_col19\" class=\"data row11 col19\" >-0.004263</td>\n",
       "      <td id=\"T_5d610_row11_col20\" class=\"data row11 col20\" >-0.006994</td>\n",
       "      <td id=\"T_5d610_row11_col21\" class=\"data row11 col21\" >-0.006591</td>\n",
       "      <td id=\"T_5d610_row11_col22\" class=\"data row11 col22\" >-0.005057</td>\n",
       "      <td id=\"T_5d610_row11_col23\" class=\"data row11 col23\" >-0.011344</td>\n",
       "      <td id=\"T_5d610_row11_col24\" class=\"data row11 col24\" >-0.002540</td>\n",
       "      <td id=\"T_5d610_row11_col25\" class=\"data row11 col25\" >0.001396</td>\n",
       "      <td id=\"T_5d610_row11_col26\" class=\"data row11 col26\" >0.004482</td>\n",
       "      <td id=\"T_5d610_row11_col27\" class=\"data row11 col27\" >0.001996</td>\n",
       "      <td id=\"T_5d610_row11_col28\" class=\"data row11 col28\" >-0.007270</td>\n",
       "      <td id=\"T_5d610_row11_col29\" class=\"data row11 col29\" >0.003354</td>\n",
       "      <td id=\"T_5d610_row11_col30\" class=\"data row11 col30\" >-0.008298</td>\n",
       "    </tr>\n",
       "    <tr>\n",
       "      <th id=\"T_5d610_level0_row12\" class=\"row_heading level0 row12\" >inq_last_6mths</th>\n",
       "      <td id=\"T_5d610_row12_col0\" class=\"data row12 col0\" >0.012590</td>\n",
       "      <td id=\"T_5d610_row12_col1\" class=\"data row12 col1\" >0.012467</td>\n",
       "      <td id=\"T_5d610_row12_col2\" class=\"data row12 col2\" >-0.002952</td>\n",
       "      <td id=\"T_5d610_row12_col3\" class=\"data row12 col3\" >0.047701</td>\n",
       "      <td id=\"T_5d610_row12_col4\" class=\"data row12 col4\" >0.132959</td>\n",
       "      <td id=\"T_5d610_row12_col5\" class=\"data row12 col5\" >0.010644</td>\n",
       "      <td id=\"T_5d610_row12_col6\" class=\"data row12 col6\" >0.035656</td>\n",
       "      <td id=\"T_5d610_row12_col7\" class=\"data row12 col7\" >0.013323</td>\n",
       "      <td id=\"T_5d610_row12_col8\" class=\"data row12 col8\" >0.070650</td>\n",
       "      <td id=\"T_5d610_row12_col9\" class=\"data row12 col9\" >0.001888</td>\n",
       "      <td id=\"T_5d610_row12_col10\" class=\"data row12 col10\" >0.008309</td>\n",
       "      <td id=\"T_5d610_row12_col11\" class=\"data row12 col11\" >-0.007722</td>\n",
       "      <td id=\"T_5d610_row12_col12\" class=\"data row12 col12\" >1.000000</td>\n",
       "      <td id=\"T_5d610_row12_col13\" class=\"data row12 col13\" >-0.005175</td>\n",
       "      <td id=\"T_5d610_row12_col14\" class=\"data row12 col14\" >-0.029221</td>\n",
       "      <td id=\"T_5d610_row12_col15\" class=\"data row12 col15\" >0.093985</td>\n",
       "      <td id=\"T_5d610_row12_col16\" class=\"data row12 col16\" >0.023766</td>\n",
       "      <td id=\"T_5d610_row12_col17\" class=\"data row12 col17\" >-0.020690</td>\n",
       "      <td id=\"T_5d610_row12_col18\" class=\"data row12 col18\" >-0.070669</td>\n",
       "      <td id=\"T_5d610_row12_col19\" class=\"data row12 col19\" >0.113808</td>\n",
       "      <td id=\"T_5d610_row12_col20\" class=\"data row12 col20\" >-0.007356</td>\n",
       "      <td id=\"T_5d610_row12_col21\" class=\"data row12 col21\" >-0.017746</td>\n",
       "      <td id=\"T_5d610_row12_col22\" class=\"data row12 col22\" >-0.020406</td>\n",
       "      <td id=\"T_5d610_row12_col23\" class=\"data row12 col23\" >0.027244</td>\n",
       "      <td id=\"T_5d610_row12_col24\" class=\"data row12 col24\" >0.030918</td>\n",
       "      <td id=\"T_5d610_row12_col25\" class=\"data row12 col25\" >0.018416</td>\n",
       "      <td id=\"T_5d610_row12_col26\" class=\"data row12 col26\" >0.011814</td>\n",
       "      <td id=\"T_5d610_row12_col27\" class=\"data row12 col27\" >-0.008832</td>\n",
       "      <td id=\"T_5d610_row12_col28\" class=\"data row12 col28\" >0.028257</td>\n",
       "      <td id=\"T_5d610_row12_col29\" class=\"data row12 col29\" >-0.001323</td>\n",
       "      <td id=\"T_5d610_row12_col30\" class=\"data row12 col30\" >0.015505</td>\n",
       "    </tr>\n",
       "    <tr>\n",
       "      <th id=\"T_5d610_level0_row13\" class=\"row_heading level0 row13\" >mths_since_last_delinq</th>\n",
       "      <td id=\"T_5d610_row13_col0\" class=\"data row13 col0\" >0.014812</td>\n",
       "      <td id=\"T_5d610_row13_col1\" class=\"data row13 col1\" >0.015335</td>\n",
       "      <td id=\"T_5d610_row13_col2\" class=\"data row13 col2\" >0.072960</td>\n",
       "      <td id=\"T_5d610_row13_col3\" class=\"data row13 col3\" >0.037580</td>\n",
       "      <td id=\"T_5d610_row13_col4\" class=\"data row13 col4\" >-0.054893</td>\n",
       "      <td id=\"T_5d610_row13_col5\" class=\"data row13 col5\" >-0.000258</td>\n",
       "      <td id=\"T_5d610_row13_col6\" class=\"data row13 col6\" >-0.007739</td>\n",
       "      <td id=\"T_5d610_row13_col7\" class=\"data row13 col7\" >0.053062</td>\n",
       "      <td id=\"T_5d610_row13_col8\" class=\"data row13 col8\" >0.006320</td>\n",
       "      <td id=\"T_5d610_row13_col9\" class=\"data row13 col9\" >0.068505</td>\n",
       "      <td id=\"T_5d610_row13_col10\" class=\"data row13 col10\" >-0.567601</td>\n",
       "      <td id=\"T_5d610_row13_col11\" class=\"data row13 col11\" >-0.007013</td>\n",
       "      <td id=\"T_5d610_row13_col12\" class=\"data row13 col12\" >-0.005175</td>\n",
       "      <td id=\"T_5d610_row13_col13\" class=\"data row13 col13\" >1.000000</td>\n",
       "      <td id=\"T_5d610_row13_col14\" class=\"data row13 col14\" >0.484375</td>\n",
       "      <td id=\"T_5d610_row13_col15\" class=\"data row13 col15\" >0.024392</td>\n",
       "      <td id=\"T_5d610_row13_col16\" class=\"data row13 col16\" >0.058849</td>\n",
       "      <td id=\"T_5d610_row13_col17\" class=\"data row13 col17\" >0.013783</td>\n",
       "      <td id=\"T_5d610_row13_col18\" class=\"data row13 col18\" >0.107859</td>\n",
       "      <td id=\"T_5d610_row13_col19\" class=\"data row13 col19\" >0.009976</td>\n",
       "      <td id=\"T_5d610_row13_col20\" class=\"data row13 col20\" >0.011927</td>\n",
       "      <td id=\"T_5d610_row13_col21\" class=\"data row13 col21\" >0.059363</td>\n",
       "      <td id=\"T_5d610_row13_col22\" class=\"data row13 col22\" >0.014674</td>\n",
       "      <td id=\"T_5d610_row13_col23\" class=\"data row13 col23\" >0.004357</td>\n",
       "      <td id=\"T_5d610_row13_col24\" class=\"data row13 col24\" >-0.026495</td>\n",
       "      <td id=\"T_5d610_row13_col25\" class=\"data row13 col25\" >-0.008948</td>\n",
       "      <td id=\"T_5d610_row13_col26\" class=\"data row13 col26\" >-0.019403</td>\n",
       "      <td id=\"T_5d610_row13_col27\" class=\"data row13 col27\" >0.023403</td>\n",
       "      <td id=\"T_5d610_row13_col28\" class=\"data row13 col28\" >0.007284</td>\n",
       "      <td id=\"T_5d610_row13_col29\" class=\"data row13 col29\" >0.014516</td>\n",
       "      <td id=\"T_5d610_row13_col30\" class=\"data row13 col30\" >0.025245</td>\n",
       "    </tr>\n",
       "    <tr>\n",
       "      <th id=\"T_5d610_level0_row14\" class=\"row_heading level0 row14\" >mths_since_last_record</th>\n",
       "      <td id=\"T_5d610_row14_col0\" class=\"data row14 col0\" >-0.000493</td>\n",
       "      <td id=\"T_5d610_row14_col1\" class=\"data row14 col1\" >-0.010906</td>\n",
       "      <td id=\"T_5d610_row14_col2\" class=\"data row14 col2\" >0.440245</td>\n",
       "      <td id=\"T_5d610_row14_col3\" class=\"data row14 col3\" >0.279794</td>\n",
       "      <td id=\"T_5d610_row14_col4\" class=\"data row14 col4\" >0.323319</td>\n",
       "      <td id=\"T_5d610_row14_col5\" class=\"data row14 col5\" >-0.064122</td>\n",
       "      <td id=\"T_5d610_row14_col6\" class=\"data row14 col6\" >-0.030948</td>\n",
       "      <td id=\"T_5d610_row14_col7\" class=\"data row14 col7\" >0.216268</td>\n",
       "      <td id=\"T_5d610_row14_col8\" class=\"data row14 col8\" >0.060510</td>\n",
       "      <td id=\"T_5d610_row14_col9\" class=\"data row14 col9\" >0.186052</td>\n",
       "      <td id=\"T_5d610_row14_col10\" class=\"data row14 col10\" >-0.038944</td>\n",
       "      <td id=\"T_5d610_row14_col11\" class=\"data row14 col11\" >-0.026657</td>\n",
       "      <td id=\"T_5d610_row14_col12\" class=\"data row14 col12\" >-0.029221</td>\n",
       "      <td id=\"T_5d610_row14_col13\" class=\"data row14 col13\" >0.484375</td>\n",
       "      <td id=\"T_5d610_row14_col14\" class=\"data row14 col14\" >1.000000</td>\n",
       "      <td id=\"T_5d610_row14_col15\" class=\"data row14 col15\" >0.020175</td>\n",
       "      <td id=\"T_5d610_row14_col16\" class=\"data row14 col16\" >0.781125</td>\n",
       "      <td id=\"T_5d610_row14_col17\" class=\"data row14 col17\" >-0.104178</td>\n",
       "      <td id=\"T_5d610_row14_col18\" class=\"data row14 col18\" >0.218383</td>\n",
       "      <td id=\"T_5d610_row14_col19\" class=\"data row14 col19\" >0.102592</td>\n",
       "      <td id=\"T_5d610_row14_col20\" class=\"data row14 col20\" >-0.004258</td>\n",
       "      <td id=\"T_5d610_row14_col21\" class=\"data row14 col21\" >0.375519</td>\n",
       "      <td id=\"T_5d610_row14_col22\" class=\"data row14 col22\" >-0.046290</td>\n",
       "      <td id=\"T_5d610_row14_col23\" class=\"data row14 col23\" >0.117980</td>\n",
       "      <td id=\"T_5d610_row14_col24\" class=\"data row14 col24\" >-0.097648</td>\n",
       "      <td id=\"T_5d610_row14_col25\" class=\"data row14 col25\" >-0.012074</td>\n",
       "      <td id=\"T_5d610_row14_col26\" class=\"data row14 col26\" >-0.038082</td>\n",
       "      <td id=\"T_5d610_row14_col27\" class=\"data row14 col27\" >0.079645</td>\n",
       "      <td id=\"T_5d610_row14_col28\" class=\"data row14 col28\" >0.084742</td>\n",
       "      <td id=\"T_5d610_row14_col29\" class=\"data row14 col29\" >-0.021146</td>\n",
       "      <td id=\"T_5d610_row14_col30\" class=\"data row14 col30\" >0.826231</td>\n",
       "    </tr>\n",
       "    <tr>\n",
       "      <th id=\"T_5d610_level0_row15\" class=\"row_heading level0 row15\" >open_acc</th>\n",
       "      <td id=\"T_5d610_row15_col0\" class=\"data row15 col0\" >0.176640</td>\n",
       "      <td id=\"T_5d610_row15_col1\" class=\"data row15 col1\" >0.175129</td>\n",
       "      <td id=\"T_5d610_row15_col2\" class=\"data row15 col2\" >0.162255</td>\n",
       "      <td id=\"T_5d610_row15_col3\" class=\"data row15 col3\" >0.046372</td>\n",
       "      <td id=\"T_5d610_row15_col4\" class=\"data row15 col4\" >0.006587</td>\n",
       "      <td id=\"T_5d610_row15_col5\" class=\"data row15 col5\" >0.172276</td>\n",
       "      <td id=\"T_5d610_row15_col6\" class=\"data row15 col6\" >0.156484</td>\n",
       "      <td id=\"T_5d610_row15_col7\" class=\"data row15 col7\" >0.000472</td>\n",
       "      <td id=\"T_5d610_row15_col8\" class=\"data row15 col8\" >-0.007023</td>\n",
       "      <td id=\"T_5d610_row15_col9\" class=\"data row15 col9\" >0.288075</td>\n",
       "      <td id=\"T_5d610_row15_col10\" class=\"data row15 col10\" >0.012322</td>\n",
       "      <td id=\"T_5d610_row15_col11\" class=\"data row15 col11\" >0.002883</td>\n",
       "      <td id=\"T_5d610_row15_col12\" class=\"data row15 col12\" >0.093985</td>\n",
       "      <td id=\"T_5d610_row15_col13\" class=\"data row15 col13\" >0.024392</td>\n",
       "      <td id=\"T_5d610_row15_col14\" class=\"data row15 col14\" >0.020175</td>\n",
       "      <td id=\"T_5d610_row15_col15\" class=\"data row15 col15\" >1.000000</td>\n",
       "      <td id=\"T_5d610_row15_col16\" class=\"data row15 col16\" >0.000386</td>\n",
       "      <td id=\"T_5d610_row15_col17\" class=\"data row15 col17\" >0.287585</td>\n",
       "      <td id=\"T_5d610_row15_col18\" class=\"data row15 col18\" >-0.089836</td>\n",
       "      <td id=\"T_5d610_row15_col19\" class=\"data row15 col19\" >0.687256</td>\n",
       "      <td id=\"T_5d610_row15_col20\" class=\"data row15 col20\" >0.161357</td>\n",
       "      <td id=\"T_5d610_row15_col21\" class=\"data row15 col21\" >0.151229</td>\n",
       "      <td id=\"T_5d610_row15_col22\" class=\"data row15 col22\" >0.159183</td>\n",
       "      <td id=\"T_5d610_row15_col23\" class=\"data row15 col23\" >0.122881</td>\n",
       "      <td id=\"T_5d610_row15_col24\" class=\"data row15 col24\" >-0.019015</td>\n",
       "      <td id=\"T_5d610_row15_col25\" class=\"data row15 col25\" >0.017633</td>\n",
       "      <td id=\"T_5d610_row15_col26\" class=\"data row15 col26\" >0.007272</td>\n",
       "      <td id=\"T_5d610_row15_col27\" class=\"data row15 col27\" >0.000386</td>\n",
       "      <td id=\"T_5d610_row15_col28\" class=\"data row15 col28\" >0.081944</td>\n",
       "      <td id=\"T_5d610_row15_col29\" class=\"data row15 col29\" >-0.023946</td>\n",
       "      <td id=\"T_5d610_row15_col30\" class=\"data row15 col30\" >0.006145</td>\n",
       "    </tr>\n",
       "    <tr>\n",
       "      <th id=\"T_5d610_level0_row16\" class=\"row_heading level0 row16\" >pub_rec</th>\n",
       "      <td id=\"T_5d610_row16_col0\" class=\"data row16 col0\" >-0.049735</td>\n",
       "      <td id=\"T_5d610_row16_col1\" class=\"data row16 col1\" >-0.050316</td>\n",
       "      <td id=\"T_5d610_row16_col2\" class=\"data row16 col2\" >-0.051250</td>\n",
       "      <td id=\"T_5d610_row16_col3\" class=\"data row16 col3\" >0.010221</td>\n",
       "      <td id=\"T_5d610_row16_col4\" class=\"data row16 col4\" >0.098331</td>\n",
       "      <td id=\"T_5d610_row16_col5\" class=\"data row16 col5\" >-0.045446</td>\n",
       "      <td id=\"T_5d610_row16_col6\" class=\"data row16 col6\" >-0.017897</td>\n",
       "      <td id=\"T_5d610_row16_col7\" class=\"data row16 col7\" >-0.022294</td>\n",
       "      <td id=\"T_5d610_row16_col8\" class=\"data row16 col8\" >0.050555</td>\n",
       "      <td id=\"T_5d610_row16_col9\" class=\"data row16 col9\" >-0.004737</td>\n",
       "      <td id=\"T_5d610_row16_col10\" class=\"data row16 col10\" >0.007106</td>\n",
       "      <td id=\"T_5d610_row16_col11\" class=\"data row16 col11\" >-0.009025</td>\n",
       "      <td id=\"T_5d610_row16_col12\" class=\"data row16 col12\" >0.023766</td>\n",
       "      <td id=\"T_5d610_row16_col13\" class=\"data row16 col13\" >0.058849</td>\n",
       "      <td id=\"T_5d610_row16_col14\" class=\"data row16 col14\" >0.781125</td>\n",
       "      <td id=\"T_5d610_row16_col15\" class=\"data row16 col15\" >0.000386</td>\n",
       "      <td id=\"T_5d610_row16_col16\" class=\"data row16 col16\" >1.000000</td>\n",
       "      <td id=\"T_5d610_row16_col17\" class=\"data row16 col17\" >-0.060282</td>\n",
       "      <td id=\"T_5d610_row16_col18\" class=\"data row16 col18\" >0.059278</td>\n",
       "      <td id=\"T_5d610_row16_col19\" class=\"data row16 col19\" >-0.023558</td>\n",
       "      <td id=\"T_5d610_row16_col20\" class=\"data row16 col20\" >-0.052552</td>\n",
       "      <td id=\"T_5d610_row16_col21\" class=\"data row16 col21\" >-0.052803</td>\n",
       "      <td id=\"T_5d610_row16_col22\" class=\"data row16 col22\" >-0.064124</td>\n",
       "      <td id=\"T_5d610_row16_col23\" class=\"data row16 col23\" >-0.004032</td>\n",
       "      <td id=\"T_5d610_row16_col24\" class=\"data row16 col24\" >-0.002051</td>\n",
       "      <td id=\"T_5d610_row16_col25\" class=\"data row16 col25\" >-0.005670</td>\n",
       "      <td id=\"T_5d610_row16_col26\" class=\"data row16 col26\" >-0.005695</td>\n",
       "      <td id=\"T_5d610_row16_col27\" class=\"data row16 col27\" >-0.005897</td>\n",
       "      <td id=\"T_5d610_row16_col28\" class=\"data row16 col28\" >-0.033303</td>\n",
       "      <td id=\"T_5d610_row16_col29\" class=\"data row16 col29\" >-0.012411</td>\n",
       "      <td id=\"T_5d610_row16_col30\" class=\"data row16 col30\" >0.845706</td>\n",
       "    </tr>\n",
       "    <tr>\n",
       "      <th id=\"T_5d610_level0_row17\" class=\"row_heading level0 row17\" >revol_bal</th>\n",
       "      <td id=\"T_5d610_row17_col0\" class=\"data row17 col0\" >0.313894</td>\n",
       "      <td id=\"T_5d610_row17_col1\" class=\"data row17 col1\" >0.306385</td>\n",
       "      <td id=\"T_5d610_row17_col2\" class=\"data row17 col2\" >0.286156</td>\n",
       "      <td id=\"T_5d610_row17_col3\" class=\"data row17 col3\" >0.066459</td>\n",
       "      <td id=\"T_5d610_row17_col4\" class=\"data row17 col4\" >0.094770</td>\n",
       "      <td id=\"T_5d610_row17_col5\" class=\"data row17 col5\" >0.309427</td>\n",
       "      <td id=\"T_5d610_row17_col6\" class=\"data row17 col6\" >0.277120</td>\n",
       "      <td id=\"T_5d610_row17_col7\" class=\"data row17 col7\" >0.014574</td>\n",
       "      <td id=\"T_5d610_row17_col8\" class=\"data row17 col8\" >0.007776</td>\n",
       "      <td id=\"T_5d610_row17_col9\" class=\"data row17 col9\" >0.228054</td>\n",
       "      <td id=\"T_5d610_row17_col10\" class=\"data row17 col10\" >-0.054125</td>\n",
       "      <td id=\"T_5d610_row17_col11\" class=\"data row17 col11\" >-0.013718</td>\n",
       "      <td id=\"T_5d610_row17_col12\" class=\"data row17 col12\" >-0.020690</td>\n",
       "      <td id=\"T_5d610_row17_col13\" class=\"data row17 col13\" >0.013783</td>\n",
       "      <td id=\"T_5d610_row17_col14\" class=\"data row17 col14\" >-0.104178</td>\n",
       "      <td id=\"T_5d610_row17_col15\" class=\"data row17 col15\" >0.287585</td>\n",
       "      <td id=\"T_5d610_row17_col16\" class=\"data row17 col16\" >-0.060282</td>\n",
       "      <td id=\"T_5d610_row17_col17\" class=\"data row17 col17\" >1.000000</td>\n",
       "      <td id=\"T_5d610_row17_col18\" class=\"data row17 col18\" >0.301417</td>\n",
       "      <td id=\"T_5d610_row17_col19\" class=\"data row17 col19\" >0.312296</td>\n",
       "      <td id=\"T_5d610_row17_col20\" class=\"data row17 col20\" >0.288802</td>\n",
       "      <td id=\"T_5d610_row17_col21\" class=\"data row17 col21\" >0.272523</td>\n",
       "      <td id=\"T_5d610_row17_col22\" class=\"data row17 col22\" >0.276281</td>\n",
       "      <td id=\"T_5d610_row17_col23\" class=\"data row17 col23\" >0.241557</td>\n",
       "      <td id=\"T_5d610_row17_col24\" class=\"data row17 col24\" >0.005707</td>\n",
       "      <td id=\"T_5d610_row17_col25\" class=\"data row17 col25\" >0.043743</td>\n",
       "      <td id=\"T_5d610_row17_col26\" class=\"data row17 col26\" >0.023694</td>\n",
       "      <td id=\"T_5d610_row17_col27\" class=\"data row17 col27\" >0.005329</td>\n",
       "      <td id=\"T_5d610_row17_col28\" class=\"data row17 col28\" >0.124927</td>\n",
       "      <td id=\"T_5d610_row17_col29\" class=\"data row17 col29\" >-0.013048</td>\n",
       "      <td id=\"T_5d610_row17_col30\" class=\"data row17 col30\" >-0.048299</td>\n",
       "    </tr>\n",
       "    <tr>\n",
       "      <th id=\"T_5d610_level0_row18\" class=\"row_heading level0 row18\" >revol_util</th>\n",
       "      <td id=\"T_5d610_row18_col0\" class=\"data row18 col0\" >0.064045</td>\n",
       "      <td id=\"T_5d610_row18_col1\" class=\"data row18 col1\" >0.067939</td>\n",
       "      <td id=\"T_5d610_row18_col2\" class=\"data row18 col2\" >0.072843</td>\n",
       "      <td id=\"T_5d610_row18_col3\" class=\"data row18 col3\" >0.065947</td>\n",
       "      <td id=\"T_5d610_row18_col4\" class=\"data row18 col4\" >0.467701</td>\n",
       "      <td id=\"T_5d610_row18_col5\" class=\"data row18 col5\" >0.093695</td>\n",
       "      <td id=\"T_5d610_row18_col6\" class=\"data row18 col6\" >0.016940</td>\n",
       "      <td id=\"T_5d610_row18_col7\" class=\"data row18 col7\" >0.047232</td>\n",
       "      <td id=\"T_5d610_row18_col8\" class=\"data row18 col8\" >0.100388</td>\n",
       "      <td id=\"T_5d610_row18_col9\" class=\"data row18 col9\" >0.278811</td>\n",
       "      <td id=\"T_5d610_row18_col10\" class=\"data row18 col10\" >-0.042830</td>\n",
       "      <td id=\"T_5d610_row18_col11\" class=\"data row18 col11\" >0.002250</td>\n",
       "      <td id=\"T_5d610_row18_col12\" class=\"data row18 col12\" >-0.070669</td>\n",
       "      <td id=\"T_5d610_row18_col13\" class=\"data row18 col13\" >0.107859</td>\n",
       "      <td id=\"T_5d610_row18_col14\" class=\"data row18 col14\" >0.218383</td>\n",
       "      <td id=\"T_5d610_row18_col15\" class=\"data row18 col15\" >-0.089836</td>\n",
       "      <td id=\"T_5d610_row18_col16\" class=\"data row18 col16\" >0.059278</td>\n",
       "      <td id=\"T_5d610_row18_col17\" class=\"data row18 col17\" >0.301417</td>\n",
       "      <td id=\"T_5d610_row18_col18\" class=\"data row18 col18\" >1.000000</td>\n",
       "      <td id=\"T_5d610_row18_col19\" class=\"data row18 col19\" >-0.070597</td>\n",
       "      <td id=\"T_5d610_row18_col20\" class=\"data row18 col20\" >0.074528</td>\n",
       "      <td id=\"T_5d610_row18_col21\" class=\"data row18 col21\" >0.078013</td>\n",
       "      <td id=\"T_5d610_row18_col22\" class=\"data row18 col22\" >0.021981</td>\n",
       "      <td id=\"T_5d610_row18_col23\" class=\"data row18 col23\" >0.194819</td>\n",
       "      <td id=\"T_5d610_row18_col24\" class=\"data row18 col24\" >0.038701</td>\n",
       "      <td id=\"T_5d610_row18_col25\" class=\"data row18 col25\" >0.052035</td>\n",
       "      <td id=\"T_5d610_row18_col26\" class=\"data row18 col26\" >0.027327</td>\n",
       "      <td id=\"T_5d610_row18_col27\" class=\"data row18 col27\" >0.023295</td>\n",
       "      <td id=\"T_5d610_row18_col28\" class=\"data row18 col28\" >-0.016019</td>\n",
       "      <td id=\"T_5d610_row18_col29\" class=\"data row18 col29\" >-0.007539</td>\n",
       "      <td id=\"T_5d610_row18_col30\" class=\"data row18 col30\" >0.060900</td>\n",
       "    </tr>\n",
       "    <tr>\n",
       "      <th id=\"T_5d610_level0_row19\" class=\"row_heading level0 row19\" >total_acc</th>\n",
       "      <td id=\"T_5d610_row19_col0\" class=\"data row19 col0\" >0.255830</td>\n",
       "      <td id=\"T_5d610_row19_col1\" class=\"data row19 col1\" >0.250209</td>\n",
       "      <td id=\"T_5d610_row19_col2\" class=\"data row19 col2\" >0.242575</td>\n",
       "      <td id=\"T_5d610_row19_col3\" class=\"data row19 col3\" >0.096537</td>\n",
       "      <td id=\"T_5d610_row19_col4\" class=\"data row19 col4\" >-0.045943</td>\n",
       "      <td id=\"T_5d610_row19_col5\" class=\"data row19 col5\" >0.229459</td>\n",
       "      <td id=\"T_5d610_row19_col6\" class=\"data row19 col6\" >0.234195</td>\n",
       "      <td id=\"T_5d610_row19_col7\" class=\"data row19 col7\" >0.002742</td>\n",
       "      <td id=\"T_5d610_row19_col8\" class=\"data row19 col8\" >-0.020163</td>\n",
       "      <td id=\"T_5d610_row19_col9\" class=\"data row19 col9\" >0.228863</td>\n",
       "      <td id=\"T_5d610_row19_col10\" class=\"data row19 col10\" >0.067492</td>\n",
       "      <td id=\"T_5d610_row19_col11\" class=\"data row19 col11\" >-0.004263</td>\n",
       "      <td id=\"T_5d610_row19_col12\" class=\"data row19 col12\" >0.113808</td>\n",
       "      <td id=\"T_5d610_row19_col13\" class=\"data row19 col13\" >0.009976</td>\n",
       "      <td id=\"T_5d610_row19_col14\" class=\"data row19 col14\" >0.102592</td>\n",
       "      <td id=\"T_5d610_row19_col15\" class=\"data row19 col15\" >0.687256</td>\n",
       "      <td id=\"T_5d610_row19_col16\" class=\"data row19 col16\" >-0.023558</td>\n",
       "      <td id=\"T_5d610_row19_col17\" class=\"data row19 col17\" >0.312296</td>\n",
       "      <td id=\"T_5d610_row19_col18\" class=\"data row19 col18\" >-0.070597</td>\n",
       "      <td id=\"T_5d610_row19_col19\" class=\"data row19 col19\" >1.000000</td>\n",
       "      <td id=\"T_5d610_row19_col20\" class=\"data row19 col20\" >0.224613</td>\n",
       "      <td id=\"T_5d610_row19_col21\" class=\"data row19 col21\" >0.218693</td>\n",
       "      <td id=\"T_5d610_row19_col22\" class=\"data row19 col22\" >0.229375</td>\n",
       "      <td id=\"T_5d610_row19_col23\" class=\"data row19 col23\" >0.148129</td>\n",
       "      <td id=\"T_5d610_row19_col24\" class=\"data row19 col24\" >-0.024593</td>\n",
       "      <td id=\"T_5d610_row19_col25\" class=\"data row19 col25\" >0.024867</td>\n",
       "      <td id=\"T_5d610_row19_col26\" class=\"data row19 col26\" >0.011534</td>\n",
       "      <td id=\"T_5d610_row19_col27\" class=\"data row19 col27\" >-0.002308</td>\n",
       "      <td id=\"T_5d610_row19_col28\" class=\"data row19 col28\" >0.166489</td>\n",
       "      <td id=\"T_5d610_row19_col29\" class=\"data row19 col29\" >-0.027206</td>\n",
       "      <td id=\"T_5d610_row19_col30\" class=\"data row19 col30\" >-0.011100</td>\n",
       "    </tr>\n",
       "    <tr>\n",
       "      <th id=\"T_5d610_level0_row20\" class=\"row_heading level0 row20\" >total_pymnt</th>\n",
       "      <td id=\"T_5d610_row20_col0\" class=\"data row20 col0\" >0.883312</td>\n",
       "      <td id=\"T_5d610_row20_col1\" class=\"data row20 col1\" >0.900263</td>\n",
       "      <td id=\"T_5d610_row20_col2\" class=\"data row20 col2\" >0.875754</td>\n",
       "      <td id=\"T_5d610_row20_col3\" class=\"data row20 col3\" >0.306281</td>\n",
       "      <td id=\"T_5d610_row20_col4\" class=\"data row20 col4\" >0.292734</td>\n",
       "      <td id=\"T_5d610_row20_col5\" class=\"data row20 col5\" >0.859997</td>\n",
       "      <td id=\"T_5d610_row20_col6\" class=\"data row20 col6\" >0.255972</td>\n",
       "      <td id=\"T_5d610_row20_col7\" class=\"data row20 col7\" >0.026527</td>\n",
       "      <td id=\"T_5d610_row20_col8\" class=\"data row20 col8\" >-0.231787</td>\n",
       "      <td id=\"T_5d610_row20_col9\" class=\"data row20 col9\" >0.058945</td>\n",
       "      <td id=\"T_5d610_row20_col10\" class=\"data row20 col10\" >-0.022535</td>\n",
       "      <td id=\"T_5d610_row20_col11\" class=\"data row20 col11\" >-0.006994</td>\n",
       "      <td id=\"T_5d610_row20_col12\" class=\"data row20 col12\" >-0.007356</td>\n",
       "      <td id=\"T_5d610_row20_col13\" class=\"data row20 col13\" >0.011927</td>\n",
       "      <td id=\"T_5d610_row20_col14\" class=\"data row20 col14\" >-0.004258</td>\n",
       "      <td id=\"T_5d610_row20_col15\" class=\"data row20 col15\" >0.161357</td>\n",
       "      <td id=\"T_5d610_row20_col16\" class=\"data row20 col16\" >-0.052552</td>\n",
       "      <td id=\"T_5d610_row20_col17\" class=\"data row20 col17\" >0.288802</td>\n",
       "      <td id=\"T_5d610_row20_col18\" class=\"data row20 col18\" >0.074528</td>\n",
       "      <td id=\"T_5d610_row20_col19\" class=\"data row20 col19\" >0.224613</td>\n",
       "      <td id=\"T_5d610_row20_col20\" class=\"data row20 col20\" >1.000000</td>\n",
       "      <td id=\"T_5d610_row20_col21\" class=\"data row20 col21\" >0.968487</td>\n",
       "      <td id=\"T_5d610_row20_col22\" class=\"data row20 col22\" >0.973494</td>\n",
       "      <td id=\"T_5d610_row20_col23\" class=\"data row20 col23\" >0.822200</td>\n",
       "      <td id=\"T_5d610_row20_col24\" class=\"data row20 col24\" >0.013864</td>\n",
       "      <td id=\"T_5d610_row20_col25\" class=\"data row20 col25\" >0.030679</td>\n",
       "      <td id=\"T_5d610_row20_col26\" class=\"data row20 col26\" >0.029140</td>\n",
       "      <td id=\"T_5d610_row20_col27\" class=\"data row20 col27\" >-0.016137</td>\n",
       "      <td id=\"T_5d610_row20_col28\" class=\"data row20 col28\" >0.511045</td>\n",
       "      <td id=\"T_5d610_row20_col29\" class=\"data row20 col29\" >-0.018611</td>\n",
       "      <td id=\"T_5d610_row20_col30\" class=\"data row20 col30\" >-0.042797</td>\n",
       "    </tr>\n",
       "    <tr>\n",
       "      <th id=\"T_5d610_level0_row21\" class=\"row_heading level0 row21\" >total_pymnt_inv</th>\n",
       "      <td id=\"T_5d610_row21_col0\" class=\"data row21 col0\" >0.848906</td>\n",
       "      <td id=\"T_5d610_row21_col1\" class=\"data row21 col1\" >0.865920</td>\n",
       "      <td id=\"T_5d610_row21_col2\" class=\"data row21 col2\" >0.910185</td>\n",
       "      <td id=\"T_5d610_row21_col3\" class=\"data row21 col3\" >0.321620</td>\n",
       "      <td id=\"T_5d610_row21_col4\" class=\"data row21 col4\" >0.286920</td>\n",
       "      <td id=\"T_5d610_row21_col5\" class=\"data row21 col5\" >0.819018</td>\n",
       "      <td id=\"T_5d610_row21_col6\" class=\"data row21 col6\" >0.244842</td>\n",
       "      <td id=\"T_5d610_row21_col7\" class=\"data row21 col7\" >0.049240</td>\n",
       "      <td id=\"T_5d610_row21_col8\" class=\"data row21 col8\" >-0.228956</td>\n",
       "      <td id=\"T_5d610_row21_col9\" class=\"data row21 col9\" >0.065974</td>\n",
       "      <td id=\"T_5d610_row21_col10\" class=\"data row21 col10\" >-0.029064</td>\n",
       "      <td id=\"T_5d610_row21_col11\" class=\"data row21 col11\" >-0.006591</td>\n",
       "      <td id=\"T_5d610_row21_col12\" class=\"data row21 col12\" >-0.017746</td>\n",
       "      <td id=\"T_5d610_row21_col13\" class=\"data row21 col13\" >0.059363</td>\n",
       "      <td id=\"T_5d610_row21_col14\" class=\"data row21 col14\" >0.375519</td>\n",
       "      <td id=\"T_5d610_row21_col15\" class=\"data row21 col15\" >0.151229</td>\n",
       "      <td id=\"T_5d610_row21_col16\" class=\"data row21 col16\" >-0.052803</td>\n",
       "      <td id=\"T_5d610_row21_col17\" class=\"data row21 col17\" >0.272523</td>\n",
       "      <td id=\"T_5d610_row21_col18\" class=\"data row21 col18\" >0.078013</td>\n",
       "      <td id=\"T_5d610_row21_col19\" class=\"data row21 col19\" >0.218693</td>\n",
       "      <td id=\"T_5d610_row21_col20\" class=\"data row21 col20\" >0.968487</td>\n",
       "      <td id=\"T_5d610_row21_col21\" class=\"data row21 col21\" >1.000000</td>\n",
       "      <td id=\"T_5d610_row21_col22\" class=\"data row21 col22\" >0.940155</td>\n",
       "      <td id=\"T_5d610_row21_col23\" class=\"data row21 col23\" >0.805652</td>\n",
       "      <td id=\"T_5d610_row21_col24\" class=\"data row21 col24\" >-0.000484</td>\n",
       "      <td id=\"T_5d610_row21_col25\" class=\"data row21 col25\" >0.024494</td>\n",
       "      <td id=\"T_5d610_row21_col26\" class=\"data row21 col26\" >0.019307</td>\n",
       "      <td id=\"T_5d610_row21_col27\" class=\"data row21 col27\" >-0.008090</td>\n",
       "      <td id=\"T_5d610_row21_col28\" class=\"data row21 col28\" >0.499553</td>\n",
       "      <td id=\"T_5d610_row21_col29\" class=\"data row21 col29\" >-0.016299</td>\n",
       "      <td id=\"T_5d610_row21_col30\" class=\"data row21 col30\" >-0.046091</td>\n",
       "    </tr>\n",
       "    <tr>\n",
       "      <th id=\"T_5d610_level0_row22\" class=\"row_heading level0 row22\" >total_rec_prncp</th>\n",
       "      <td id=\"T_5d610_row22_col0\" class=\"data row22 col0\" >0.847354</td>\n",
       "      <td id=\"T_5d610_row22_col1\" class=\"data row22 col1\" >0.865731</td>\n",
       "      <td id=\"T_5d610_row22_col2\" class=\"data row22 col2\" >0.839670</td>\n",
       "      <td id=\"T_5d610_row22_col3\" class=\"data row22 col3\" >0.200782</td>\n",
       "      <td id=\"T_5d610_row22_col4\" class=\"data row22 col4\" >0.176609</td>\n",
       "      <td id=\"T_5d610_row22_col5\" class=\"data row22 col5\" >0.849414</td>\n",
       "      <td id=\"T_5d610_row22_col6\" class=\"data row22 col6\" >0.256507</td>\n",
       "      <td id=\"T_5d610_row22_col7\" class=\"data row22 col7\" >0.023494</td>\n",
       "      <td id=\"T_5d610_row22_col8\" class=\"data row22 col8\" >-0.331157</td>\n",
       "      <td id=\"T_5d610_row22_col9\" class=\"data row22 col9\" >0.036341</td>\n",
       "      <td id=\"T_5d610_row22_col10\" class=\"data row22 col10\" >-0.037924</td>\n",
       "      <td id=\"T_5d610_row22_col11\" class=\"data row22 col11\" >-0.005057</td>\n",
       "      <td id=\"T_5d610_row22_col12\" class=\"data row22 col12\" >-0.020406</td>\n",
       "      <td id=\"T_5d610_row22_col13\" class=\"data row22 col13\" >0.014674</td>\n",
       "      <td id=\"T_5d610_row22_col14\" class=\"data row22 col14\" >-0.046290</td>\n",
       "      <td id=\"T_5d610_row22_col15\" class=\"data row22 col15\" >0.159183</td>\n",
       "      <td id=\"T_5d610_row22_col16\" class=\"data row22 col16\" >-0.064124</td>\n",
       "      <td id=\"T_5d610_row22_col17\" class=\"data row22 col17\" >0.276281</td>\n",
       "      <td id=\"T_5d610_row22_col18\" class=\"data row22 col18\" >0.021981</td>\n",
       "      <td id=\"T_5d610_row22_col19\" class=\"data row22 col19\" >0.229375</td>\n",
       "      <td id=\"T_5d610_row22_col20\" class=\"data row22 col20\" >0.973494</td>\n",
       "      <td id=\"T_5d610_row22_col21\" class=\"data row22 col21\" >0.940155</td>\n",
       "      <td id=\"T_5d610_row22_col22\" class=\"data row22 col22\" >1.000000</td>\n",
       "      <td id=\"T_5d610_row22_col23\" class=\"data row22 col23\" >0.682948</td>\n",
       "      <td id=\"T_5d610_row22_col24\" class=\"data row22 col24\" >-0.020086</td>\n",
       "      <td id=\"T_5d610_row22_col25\" class=\"data row22 col25\" >-0.092906</td>\n",
       "      <td id=\"T_5d610_row22_col26\" class=\"data row22 col26\" >-0.057483</td>\n",
       "      <td id=\"T_5d610_row22_col27\" class=\"data row22 col27\" >-0.017516</td>\n",
       "      <td id=\"T_5d610_row22_col28\" class=\"data row22 col28\" >0.567088</td>\n",
       "      <td id=\"T_5d610_row22_col29\" class=\"data row22 col29\" >-0.015023</td>\n",
       "      <td id=\"T_5d610_row22_col30\" class=\"data row22 col30\" >-0.052992</td>\n",
       "    </tr>\n",
       "    <tr>\n",
       "      <th id=\"T_5d610_level0_row23\" class=\"row_heading level0 row23\" >total_rec_int</th>\n",
       "      <td id=\"T_5d610_row23_col0\" class=\"data row23 col0\" >0.729079</td>\n",
       "      <td id=\"T_5d610_row23_col1\" class=\"data row23 col1\" >0.737488</td>\n",
       "      <td id=\"T_5d610_row23_col2\" class=\"data row23 col2\" >0.727189</td>\n",
       "      <td id=\"T_5d610_row23_col3\" class=\"data row23 col3\" >0.507121</td>\n",
       "      <td id=\"T_5d610_row23_col4\" class=\"data row23 col4\" >0.523050</td>\n",
       "      <td id=\"T_5d610_row23_col5\" class=\"data row23 col5\" >0.643338</td>\n",
       "      <td id=\"T_5d610_row23_col6\" class=\"data row23 col6\" >0.184684</td>\n",
       "      <td id=\"T_5d610_row23_col7\" class=\"data row23 col7\" >0.022231</td>\n",
       "      <td id=\"T_5d610_row23_col8\" class=\"data row23 col8\" >0.017101</td>\n",
       "      <td id=\"T_5d610_row23_col9\" class=\"data row23 col9\" >0.102963</td>\n",
       "      <td id=\"T_5d610_row23_col10\" class=\"data row23 col10\" >0.024290</td>\n",
       "      <td id=\"T_5d610_row23_col11\" class=\"data row23 col11\" >-0.011344</td>\n",
       "      <td id=\"T_5d610_row23_col12\" class=\"data row23 col12\" >0.027244</td>\n",
       "      <td id=\"T_5d610_row23_col13\" class=\"data row23 col13\" >0.004357</td>\n",
       "      <td id=\"T_5d610_row23_col14\" class=\"data row23 col14\" >0.117980</td>\n",
       "      <td id=\"T_5d610_row23_col15\" class=\"data row23 col15\" >0.122881</td>\n",
       "      <td id=\"T_5d610_row23_col16\" class=\"data row23 col16\" >-0.004032</td>\n",
       "      <td id=\"T_5d610_row23_col17\" class=\"data row23 col17\" >0.241557</td>\n",
       "      <td id=\"T_5d610_row23_col18\" class=\"data row23 col18\" >0.194819</td>\n",
       "      <td id=\"T_5d610_row23_col19\" class=\"data row23 col19\" >0.148129</td>\n",
       "      <td id=\"T_5d610_row23_col20\" class=\"data row23 col20\" >0.822200</td>\n",
       "      <td id=\"T_5d610_row23_col21\" class=\"data row23 col21\" >0.805652</td>\n",
       "      <td id=\"T_5d610_row23_col22\" class=\"data row23 col22\" >0.682948</td>\n",
       "      <td id=\"T_5d610_row23_col23\" class=\"data row23 col23\" >1.000000</td>\n",
       "      <td id=\"T_5d610_row23_col24\" class=\"data row23 col24\" >0.077253</td>\n",
       "      <td id=\"T_5d610_row23_col25\" class=\"data row23 col25\" >0.093986</td>\n",
       "      <td id=\"T_5d610_row23_col26\" class=\"data row23 col26\" >0.042820</td>\n",
       "      <td id=\"T_5d610_row23_col27\" class=\"data row23 col27\" >-0.011857</td>\n",
       "      <td id=\"T_5d610_row23_col28\" class=\"data row23 col28\" >0.241970</td>\n",
       "      <td id=\"T_5d610_row23_col29\" class=\"data row23 col29\" >-0.025575</td>\n",
       "      <td id=\"T_5d610_row23_col30\" class=\"data row23 col30\" >-0.001084</td>\n",
       "    </tr>\n",
       "    <tr>\n",
       "      <th id=\"T_5d610_level0_row24\" class=\"row_heading level0 row24\" >total_rec_late_fee</th>\n",
       "      <td id=\"T_5d610_row24_col0\" class=\"data row24 col0\" >0.047020</td>\n",
       "      <td id=\"T_5d610_row24_col1\" class=\"data row24 col1\" >0.049396</td>\n",
       "      <td id=\"T_5d610_row24_col2\" class=\"data row24 col2\" >0.029240</td>\n",
       "      <td id=\"T_5d610_row24_col3\" class=\"data row24 col3\" >0.012863</td>\n",
       "      <td id=\"T_5d610_row24_col4\" class=\"data row24 col4\" >0.094607</td>\n",
       "      <td id=\"T_5d610_row24_col5\" class=\"data row24 col5\" >0.058336</td>\n",
       "      <td id=\"T_5d610_row24_col6\" class=\"data row24 col6\" >0.006699</td>\n",
       "      <td id=\"T_5d610_row24_col7\" class=\"data row24 col7\" >-0.005300</td>\n",
       "      <td id=\"T_5d610_row24_col8\" class=\"data row24 col8\" >0.166882</td>\n",
       "      <td id=\"T_5d610_row24_col9\" class=\"data row24 col9\" >-0.011499</td>\n",
       "      <td id=\"T_5d610_row24_col10\" class=\"data row24 col10\" >0.028932</td>\n",
       "      <td id=\"T_5d610_row24_col11\" class=\"data row24 col11\" >-0.002540</td>\n",
       "      <td id=\"T_5d610_row24_col12\" class=\"data row24 col12\" >0.030918</td>\n",
       "      <td id=\"T_5d610_row24_col13\" class=\"data row24 col13\" >-0.026495</td>\n",
       "      <td id=\"T_5d610_row24_col14\" class=\"data row24 col14\" >-0.097648</td>\n",
       "      <td id=\"T_5d610_row24_col15\" class=\"data row24 col15\" >-0.019015</td>\n",
       "      <td id=\"T_5d610_row24_col16\" class=\"data row24 col16\" >-0.002051</td>\n",
       "      <td id=\"T_5d610_row24_col17\" class=\"data row24 col17\" >0.005707</td>\n",
       "      <td id=\"T_5d610_row24_col18\" class=\"data row24 col18\" >0.038701</td>\n",
       "      <td id=\"T_5d610_row24_col19\" class=\"data row24 col19\" >-0.024593</td>\n",
       "      <td id=\"T_5d610_row24_col20\" class=\"data row24 col20\" >0.013864</td>\n",
       "      <td id=\"T_5d610_row24_col21\" class=\"data row24 col21\" >-0.000484</td>\n",
       "      <td id=\"T_5d610_row24_col22\" class=\"data row24 col22\" >-0.020086</td>\n",
       "      <td id=\"T_5d610_row24_col23\" class=\"data row24 col23\" >0.077253</td>\n",
       "      <td id=\"T_5d610_row24_col24\" class=\"data row24 col24\" >1.000000</td>\n",
       "      <td id=\"T_5d610_row24_col25\" class=\"data row24 col25\" >0.101780</td>\n",
       "      <td id=\"T_5d610_row24_col26\" class=\"data row24 col26\" >0.094600</td>\n",
       "      <td id=\"T_5d610_row24_col27\" class=\"data row24 col27\" >0.007387</td>\n",
       "      <td id=\"T_5d610_row24_col28\" class=\"data row24 col28\" >-0.062158</td>\n",
       "      <td id=\"T_5d610_row24_col29\" class=\"data row24 col29\" >0.005705</td>\n",
       "      <td id=\"T_5d610_row24_col30\" class=\"data row24 col30\" >-0.005701</td>\n",
       "    </tr>\n",
       "    <tr>\n",
       "      <th id=\"T_5d610_level0_row25\" class=\"row_heading level0 row25\" >recoveries</th>\n",
       "      <td id=\"T_5d610_row25_col0\" class=\"data row25 col0\" >0.143378</td>\n",
       "      <td id=\"T_5d610_row25_col1\" class=\"data row25 col1\" >0.143988</td>\n",
       "      <td id=\"T_5d610_row25_col2\" class=\"data row25 col2\" >0.131772</td>\n",
       "      <td id=\"T_5d610_row25_col3\" class=\"data row25 col3\" >0.112621</td>\n",
       "      <td id=\"T_5d610_row25_col4\" class=\"data row25 col4\" >0.128955</td>\n",
       "      <td id=\"T_5d610_row25_col5\" class=\"data row25 col5\" >0.122017</td>\n",
       "      <td id=\"T_5d610_row25_col6\" class=\"data row25 col6\" >0.022678</td>\n",
       "      <td id=\"T_5d610_row25_col7\" class=\"data row25 col7\" >0.022888</td>\n",
       "      <td id=\"T_5d610_row25_col8\" class=\"data row25 col8\" >0.339996</td>\n",
       "      <td id=\"T_5d610_row25_col9\" class=\"data row25 col9\" >0.026553</td>\n",
       "      <td id=\"T_5d610_row25_col10\" class=\"data row25 col10\" >0.012843</td>\n",
       "      <td id=\"T_5d610_row25_col11\" class=\"data row25 col11\" >0.001396</td>\n",
       "      <td id=\"T_5d610_row25_col12\" class=\"data row25 col12\" >0.018416</td>\n",
       "      <td id=\"T_5d610_row25_col13\" class=\"data row25 col13\" >-0.008948</td>\n",
       "      <td id=\"T_5d610_row25_col14\" class=\"data row25 col14\" >-0.012074</td>\n",
       "      <td id=\"T_5d610_row25_col15\" class=\"data row25 col15\" >0.017633</td>\n",
       "      <td id=\"T_5d610_row25_col16\" class=\"data row25 col16\" >-0.005670</td>\n",
       "      <td id=\"T_5d610_row25_col17\" class=\"data row25 col17\" >0.043743</td>\n",
       "      <td id=\"T_5d610_row25_col18\" class=\"data row25 col18\" >0.052035</td>\n",
       "      <td id=\"T_5d610_row25_col19\" class=\"data row25 col19\" >0.024867</td>\n",
       "      <td id=\"T_5d610_row25_col20\" class=\"data row25 col20\" >0.030679</td>\n",
       "      <td id=\"T_5d610_row25_col21\" class=\"data row25 col21\" >0.024494</td>\n",
       "      <td id=\"T_5d610_row25_col22\" class=\"data row25 col22\" >-0.092906</td>\n",
       "      <td id=\"T_5d610_row25_col23\" class=\"data row25 col23\" >0.093986</td>\n",
       "      <td id=\"T_5d610_row25_col24\" class=\"data row25 col24\" >0.101780</td>\n",
       "      <td id=\"T_5d610_row25_col25\" class=\"data row25 col25\" >1.000000</td>\n",
       "      <td id=\"T_5d610_row25_col26\" class=\"data row25 col26\" >0.799690</td>\n",
       "      <td id=\"T_5d610_row25_col27\" class=\"data row25 col27\" >0.012771</td>\n",
       "      <td id=\"T_5d610_row25_col28\" class=\"data row25 col28\" >-0.071947</td>\n",
       "      <td id=\"T_5d610_row25_col29\" class=\"data row25 col29\" >0.003507</td>\n",
       "      <td id=\"T_5d610_row25_col30\" class=\"data row25 col30\" >-0.004747</td>\n",
       "    </tr>\n",
       "    <tr>\n",
       "      <th id=\"T_5d610_level0_row26\" class=\"row_heading level0 row26\" >collection_recovery_fee</th>\n",
       "      <td id=\"T_5d610_row26_col0\" class=\"data row26 col0\" >0.077207</td>\n",
       "      <td id=\"T_5d610_row26_col1\" class=\"data row26 col1\" >0.078951</td>\n",
       "      <td id=\"T_5d610_row26_col2\" class=\"data row26 col2\" >0.064700</td>\n",
       "      <td id=\"T_5d610_row26_col3\" class=\"data row26 col3\" >0.037417</td>\n",
       "      <td id=\"T_5d610_row26_col4\" class=\"data row26 col4\" >0.069835</td>\n",
       "      <td id=\"T_5d610_row26_col5\" class=\"data row26 col5\" >0.077666</td>\n",
       "      <td id=\"T_5d610_row26_col6\" class=\"data row26 col6\" >0.016337</td>\n",
       "      <td id=\"T_5d610_row26_col7\" class=\"data row26 col7\" >-0.000494</td>\n",
       "      <td id=\"T_5d610_row26_col8\" class=\"data row26 col8\" >0.204881</td>\n",
       "      <td id=\"T_5d610_row26_col9\" class=\"data row26 col9\" >0.012020</td>\n",
       "      <td id=\"T_5d610_row26_col10\" class=\"data row26 col10\" >0.014359</td>\n",
       "      <td id=\"T_5d610_row26_col11\" class=\"data row26 col11\" >0.004482</td>\n",
       "      <td id=\"T_5d610_row26_col12\" class=\"data row26 col12\" >0.011814</td>\n",
       "      <td id=\"T_5d610_row26_col13\" class=\"data row26 col13\" >-0.019403</td>\n",
       "      <td id=\"T_5d610_row26_col14\" class=\"data row26 col14\" >-0.038082</td>\n",
       "      <td id=\"T_5d610_row26_col15\" class=\"data row26 col15\" >0.007272</td>\n",
       "      <td id=\"T_5d610_row26_col16\" class=\"data row26 col16\" >-0.005695</td>\n",
       "      <td id=\"T_5d610_row26_col17\" class=\"data row26 col17\" >0.023694</td>\n",
       "      <td id=\"T_5d610_row26_col18\" class=\"data row26 col18\" >0.027327</td>\n",
       "      <td id=\"T_5d610_row26_col19\" class=\"data row26 col19\" >0.011534</td>\n",
       "      <td id=\"T_5d610_row26_col20\" class=\"data row26 col20\" >0.029140</td>\n",
       "      <td id=\"T_5d610_row26_col21\" class=\"data row26 col21\" >0.019307</td>\n",
       "      <td id=\"T_5d610_row26_col22\" class=\"data row26 col22\" >-0.057483</td>\n",
       "      <td id=\"T_5d610_row26_col23\" class=\"data row26 col23\" >0.042820</td>\n",
       "      <td id=\"T_5d610_row26_col24\" class=\"data row26 col24\" >0.094600</td>\n",
       "      <td id=\"T_5d610_row26_col25\" class=\"data row26 col25\" >0.799690</td>\n",
       "      <td id=\"T_5d610_row26_col26\" class=\"data row26 col26\" >1.000000</td>\n",
       "      <td id=\"T_5d610_row26_col27\" class=\"data row26 col27\" >0.004435</td>\n",
       "      <td id=\"T_5d610_row26_col28\" class=\"data row26 col28\" >-0.043011</td>\n",
       "      <td id=\"T_5d610_row26_col29\" class=\"data row26 col29\" >-0.005978</td>\n",
       "      <td id=\"T_5d610_row26_col30\" class=\"data row26 col30\" >-0.005334</td>\n",
       "    </tr>\n",
       "    <tr>\n",
       "      <th id=\"T_5d610_level0_row27\" class=\"row_heading level0 row27\" >last_pymnt_d</th>\n",
       "      <td id=\"T_5d610_row27_col0\" class=\"data row27 col0\" >-0.006606</td>\n",
       "      <td id=\"T_5d610_row27_col1\" class=\"data row27 col1\" >-0.009798</td>\n",
       "      <td id=\"T_5d610_row27_col2\" class=\"data row27 col2\" >-0.002046</td>\n",
       "      <td id=\"T_5d610_row27_col3\" class=\"data row27 col3\" >-0.019617</td>\n",
       "      <td id=\"T_5d610_row27_col4\" class=\"data row27 col4\" >-0.008339</td>\n",
       "      <td id=\"T_5d610_row27_col5\" class=\"data row27 col5\" >-0.004082</td>\n",
       "      <td id=\"T_5d610_row27_col6\" class=\"data row27 col6\" >-0.006456</td>\n",
       "      <td id=\"T_5d610_row27_col7\" class=\"data row27 col7\" >0.256652</td>\n",
       "      <td id=\"T_5d610_row27_col8\" class=\"data row27 col8\" >0.019689</td>\n",
       "      <td id=\"T_5d610_row27_col9\" class=\"data row27 col9\" >0.011102</td>\n",
       "      <td id=\"T_5d610_row27_col10\" class=\"data row27 col10\" >0.000057</td>\n",
       "      <td id=\"T_5d610_row27_col11\" class=\"data row27 col11\" >0.001996</td>\n",
       "      <td id=\"T_5d610_row27_col12\" class=\"data row27 col12\" >-0.008832</td>\n",
       "      <td id=\"T_5d610_row27_col13\" class=\"data row27 col13\" >0.023403</td>\n",
       "      <td id=\"T_5d610_row27_col14\" class=\"data row27 col14\" >0.079645</td>\n",
       "      <td id=\"T_5d610_row27_col15\" class=\"data row27 col15\" >0.000386</td>\n",
       "      <td id=\"T_5d610_row27_col16\" class=\"data row27 col16\" >-0.005897</td>\n",
       "      <td id=\"T_5d610_row27_col17\" class=\"data row27 col17\" >0.005329</td>\n",
       "      <td id=\"T_5d610_row27_col18\" class=\"data row27 col18\" >0.023295</td>\n",
       "      <td id=\"T_5d610_row27_col19\" class=\"data row27 col19\" >-0.002308</td>\n",
       "      <td id=\"T_5d610_row27_col20\" class=\"data row27 col20\" >-0.016137</td>\n",
       "      <td id=\"T_5d610_row27_col21\" class=\"data row27 col21\" >-0.008090</td>\n",
       "      <td id=\"T_5d610_row27_col22\" class=\"data row27 col22\" >-0.017516</td>\n",
       "      <td id=\"T_5d610_row27_col23\" class=\"data row27 col23\" >-0.011857</td>\n",
       "      <td id=\"T_5d610_row27_col24\" class=\"data row27 col24\" >0.007387</td>\n",
       "      <td id=\"T_5d610_row27_col25\" class=\"data row27 col25\" >0.012771</td>\n",
       "      <td id=\"T_5d610_row27_col26\" class=\"data row27 col26\" >0.004435</td>\n",
       "      <td id=\"T_5d610_row27_col27\" class=\"data row27 col27\" >1.000000</td>\n",
       "      <td id=\"T_5d610_row27_col28\" class=\"data row27 col28\" >-0.047961</td>\n",
       "      <td id=\"T_5d610_row27_col29\" class=\"data row27 col29\" >0.339090</td>\n",
       "      <td id=\"T_5d610_row27_col30\" class=\"data row27 col30\" >-0.006077</td>\n",
       "    </tr>\n",
       "    <tr>\n",
       "      <th id=\"T_5d610_level0_row28\" class=\"row_heading level0 row28\" >last_pymnt_amnt</th>\n",
       "      <td id=\"T_5d610_row28_col0\" class=\"data row28 col0\" >0.474882</td>\n",
       "      <td id=\"T_5d610_row28_col1\" class=\"data row28 col1\" >0.478777</td>\n",
       "      <td id=\"T_5d610_row28_col2\" class=\"data row28 col2\" >0.469239</td>\n",
       "      <td id=\"T_5d610_row28_col3\" class=\"data row28 col3\" >0.270547</td>\n",
       "      <td id=\"T_5d610_row28_col4\" class=\"data row28 col4\" >0.175236</td>\n",
       "      <td id=\"T_5d610_row28_col5\" class=\"data row28 col5\" >0.413838</td>\n",
       "      <td id=\"T_5d610_row28_col6\" class=\"data row28 col6\" >0.142949</td>\n",
       "      <td id=\"T_5d610_row28_col7\" class=\"data row28 col7\" >0.054928</td>\n",
       "      <td id=\"T_5d610_row28_col8\" class=\"data row28 col8\" >-0.221059</td>\n",
       "      <td id=\"T_5d610_row28_col9\" class=\"data row28 col9\" >0.008342</td>\n",
       "      <td id=\"T_5d610_row28_col10\" class=\"data row28 col10\" >-0.012244</td>\n",
       "      <td id=\"T_5d610_row28_col11\" class=\"data row28 col11\" >-0.007270</td>\n",
       "      <td id=\"T_5d610_row28_col12\" class=\"data row28 col12\" >0.028257</td>\n",
       "      <td id=\"T_5d610_row28_col13\" class=\"data row28 col13\" >0.007284</td>\n",
       "      <td id=\"T_5d610_row28_col14\" class=\"data row28 col14\" >0.084742</td>\n",
       "      <td id=\"T_5d610_row28_col15\" class=\"data row28 col15\" >0.081944</td>\n",
       "      <td id=\"T_5d610_row28_col16\" class=\"data row28 col16\" >-0.033303</td>\n",
       "      <td id=\"T_5d610_row28_col17\" class=\"data row28 col17\" >0.124927</td>\n",
       "      <td id=\"T_5d610_row28_col18\" class=\"data row28 col18\" >-0.016019</td>\n",
       "      <td id=\"T_5d610_row28_col19\" class=\"data row28 col19\" >0.166489</td>\n",
       "      <td id=\"T_5d610_row28_col20\" class=\"data row28 col20\" >0.511045</td>\n",
       "      <td id=\"T_5d610_row28_col21\" class=\"data row28 col21\" >0.499553</td>\n",
       "      <td id=\"T_5d610_row28_col22\" class=\"data row28 col22\" >0.567088</td>\n",
       "      <td id=\"T_5d610_row28_col23\" class=\"data row28 col23\" >0.241970</td>\n",
       "      <td id=\"T_5d610_row28_col24\" class=\"data row28 col24\" >-0.062158</td>\n",
       "      <td id=\"T_5d610_row28_col25\" class=\"data row28 col25\" >-0.071947</td>\n",
       "      <td id=\"T_5d610_row28_col26\" class=\"data row28 col26\" >-0.043011</td>\n",
       "      <td id=\"T_5d610_row28_col27\" class=\"data row28 col27\" >-0.047961</td>\n",
       "      <td id=\"T_5d610_row28_col28\" class=\"data row28 col28\" >1.000000</td>\n",
       "      <td id=\"T_5d610_row28_col29\" class=\"data row28 col29\" >-0.013841</td>\n",
       "      <td id=\"T_5d610_row28_col30\" class=\"data row28 col30\" >-0.023305</td>\n",
       "    </tr>\n",
       "    <tr>\n",
       "      <th id=\"T_5d610_level0_row29\" class=\"row_heading level0 row29\" >last_credit_pull_d</th>\n",
       "      <td id=\"T_5d610_row29_col0\" class=\"data row29 col0\" >-0.015728</td>\n",
       "      <td id=\"T_5d610_row29_col1\" class=\"data row29 col1\" >-0.017583</td>\n",
       "      <td id=\"T_5d610_row29_col2\" class=\"data row29 col2\" >-0.014284</td>\n",
       "      <td id=\"T_5d610_row29_col3\" class=\"data row29 col3\" >-0.018641</td>\n",
       "      <td id=\"T_5d610_row29_col4\" class=\"data row29 col4\" >-0.013659</td>\n",
       "      <td id=\"T_5d610_row29_col5\" class=\"data row29 col5\" >-0.013753</td>\n",
       "      <td id=\"T_5d610_row29_col6\" class=\"data row29 col6\" >-0.015494</td>\n",
       "      <td id=\"T_5d610_row29_col7\" class=\"data row29 col7\" >0.144862</td>\n",
       "      <td id=\"T_5d610_row29_col8\" class=\"data row29 col8\" >0.000422</td>\n",
       "      <td id=\"T_5d610_row29_col9\" class=\"data row29 col9\" >-0.014161</td>\n",
       "      <td id=\"T_5d610_row29_col10\" class=\"data row29 col10\" >-0.004131</td>\n",
       "      <td id=\"T_5d610_row29_col11\" class=\"data row29 col11\" >0.003354</td>\n",
       "      <td id=\"T_5d610_row29_col12\" class=\"data row29 col12\" >-0.001323</td>\n",
       "      <td id=\"T_5d610_row29_col13\" class=\"data row29 col13\" >0.014516</td>\n",
       "      <td id=\"T_5d610_row29_col14\" class=\"data row29 col14\" >-0.021146</td>\n",
       "      <td id=\"T_5d610_row29_col15\" class=\"data row29 col15\" >-0.023946</td>\n",
       "      <td id=\"T_5d610_row29_col16\" class=\"data row29 col16\" >-0.012411</td>\n",
       "      <td id=\"T_5d610_row29_col17\" class=\"data row29 col17\" >-0.013048</td>\n",
       "      <td id=\"T_5d610_row29_col18\" class=\"data row29 col18\" >-0.007539</td>\n",
       "      <td id=\"T_5d610_row29_col19\" class=\"data row29 col19\" >-0.027206</td>\n",
       "      <td id=\"T_5d610_row29_col20\" class=\"data row29 col20\" >-0.018611</td>\n",
       "      <td id=\"T_5d610_row29_col21\" class=\"data row29 col21\" >-0.016299</td>\n",
       "      <td id=\"T_5d610_row29_col22\" class=\"data row29 col22\" >-0.015023</td>\n",
       "      <td id=\"T_5d610_row29_col23\" class=\"data row29 col23\" >-0.025575</td>\n",
       "      <td id=\"T_5d610_row29_col24\" class=\"data row29 col24\" >0.005705</td>\n",
       "      <td id=\"T_5d610_row29_col25\" class=\"data row29 col25\" >0.003507</td>\n",
       "      <td id=\"T_5d610_row29_col26\" class=\"data row29 col26\" >-0.005978</td>\n",
       "      <td id=\"T_5d610_row29_col27\" class=\"data row29 col27\" >0.339090</td>\n",
       "      <td id=\"T_5d610_row29_col28\" class=\"data row29 col28\" >-0.013841</td>\n",
       "      <td id=\"T_5d610_row29_col29\" class=\"data row29 col29\" >1.000000</td>\n",
       "      <td id=\"T_5d610_row29_col30\" class=\"data row29 col30\" >-0.012456</td>\n",
       "    </tr>\n",
       "    <tr>\n",
       "      <th id=\"T_5d610_level0_row30\" class=\"row_heading level0 row30\" >pub_rec_bankruptcies</th>\n",
       "      <td id=\"T_5d610_row30_col0\" class=\"data row30 col0\" >-0.035673</td>\n",
       "      <td id=\"T_5d610_row30_col1\" class=\"data row30 col1\" >-0.036691</td>\n",
       "      <td id=\"T_5d610_row30_col2\" class=\"data row30 col2\" >-0.040938</td>\n",
       "      <td id=\"T_5d610_row30_col3\" class=\"data row30 col3\" >0.014419</td>\n",
       "      <td id=\"T_5d610_row30_col4\" class=\"data row30 col4\" >0.082629</td>\n",
       "      <td id=\"T_5d610_row30_col5\" class=\"data row30 col5\" >-0.033054</td>\n",
       "      <td id=\"T_5d610_row30_col6\" class=\"data row30 col6\" >-0.016264</td>\n",
       "      <td id=\"T_5d610_row30_col7\" class=\"data row30 col7\" >-0.021366</td>\n",
       "      <td id=\"T_5d610_row30_col8\" class=\"data row30 col8\" >0.047206</td>\n",
       "      <td id=\"T_5d610_row30_col9\" class=\"data row30 col9\" >0.005952</td>\n",
       "      <td id=\"T_5d610_row30_col10\" class=\"data row30 col10\" >0.002702</td>\n",
       "      <td id=\"T_5d610_row30_col11\" class=\"data row30 col11\" >-0.008298</td>\n",
       "      <td id=\"T_5d610_row30_col12\" class=\"data row30 col12\" >0.015505</td>\n",
       "      <td id=\"T_5d610_row30_col13\" class=\"data row30 col13\" >0.025245</td>\n",
       "      <td id=\"T_5d610_row30_col14\" class=\"data row30 col14\" >0.826231</td>\n",
       "      <td id=\"T_5d610_row30_col15\" class=\"data row30 col15\" >0.006145</td>\n",
       "      <td id=\"T_5d610_row30_col16\" class=\"data row30 col16\" >0.845706</td>\n",
       "      <td id=\"T_5d610_row30_col17\" class=\"data row30 col17\" >-0.048299</td>\n",
       "      <td id=\"T_5d610_row30_col18\" class=\"data row30 col18\" >0.060900</td>\n",
       "      <td id=\"T_5d610_row30_col19\" class=\"data row30 col19\" >-0.011100</td>\n",
       "      <td id=\"T_5d610_row30_col20\" class=\"data row30 col20\" >-0.042797</td>\n",
       "      <td id=\"T_5d610_row30_col21\" class=\"data row30 col21\" >-0.046091</td>\n",
       "      <td id=\"T_5d610_row30_col22\" class=\"data row30 col22\" >-0.052992</td>\n",
       "      <td id=\"T_5d610_row30_col23\" class=\"data row30 col23\" >-0.001084</td>\n",
       "      <td id=\"T_5d610_row30_col24\" class=\"data row30 col24\" >-0.005701</td>\n",
       "      <td id=\"T_5d610_row30_col25\" class=\"data row30 col25\" >-0.004747</td>\n",
       "      <td id=\"T_5d610_row30_col26\" class=\"data row30 col26\" >-0.005334</td>\n",
       "      <td id=\"T_5d610_row30_col27\" class=\"data row30 col27\" >-0.006077</td>\n",
       "      <td id=\"T_5d610_row30_col28\" class=\"data row30 col28\" >-0.023305</td>\n",
       "      <td id=\"T_5d610_row30_col29\" class=\"data row30 col29\" >-0.012456</td>\n",
       "      <td id=\"T_5d610_row30_col30\" class=\"data row30 col30\" >1.000000</td>\n",
       "    </tr>\n",
       "  </tbody>\n",
       "</table>\n"
      ],
      "text/plain": [
       "<pandas.io.formats.style.Styler at 0x284398d5c40>"
      ]
     },
     "execution_count": 25,
     "metadata": {},
     "output_type": "execute_result"
    }
   ],
   "source": [
    "corr_mat = df_loan_notObj.corr()\n",
    "del df_loan_notObj # save memory\n",
    "corr_mat.style.background_gradient(cmap='coolwarm', axis=None)"
   ]
  },
  {
   "cell_type": "code",
   "execution_count": 26,
   "id": "2c8b2862-ed92-4d64-b69d-44babed84661",
   "metadata": {
    "colab": {
     "base_uri": "https://localhost:8080/"
    },
    "executionInfo": {
     "elapsed": 20,
     "status": "ok",
     "timestamp": 1652179938825,
     "user": {
      "displayName": "Thái Phạm",
      "userId": "15721535778756978075"
     },
     "user_tz": -420
    },
    "id": "2c8b2862-ed92-4d64-b69d-44babed84661",
    "outputId": "30f36d66-34cd-4e3d-8dd0-152ad453c146"
   },
   "outputs": [
    {
     "data": {
      "text/plain": [
       "loan_status                1.000000\n",
       "recoveries                 0.339996\n",
       "int_rate                   0.210217\n",
       "collection_recovery_fee    0.204881\n",
       "term                       0.174560\n",
       "total_rec_late_fee         0.166882\n",
       "revol_util                 0.100388\n",
       "inq_last_6mths             0.070650\n",
       "loan_amnt                  0.061573\n",
       "mths_since_last_record     0.060510\n",
       "funded_amnt                0.058485\n",
       "pub_rec                    0.050555\n",
       "pub_rec_bankruptcies       0.047206\n",
       "dti                        0.046195\n",
       "funded_amnt_inv            0.040126\n",
       "installment                0.028837\n",
       "issue_d                    0.025013\n",
       "last_pymnt_d               0.019689\n",
       "delinq_2yrs                0.019036\n",
       "total_rec_int              0.017101\n",
       "revol_bal                  0.007776\n",
       "mths_since_last_delinq     0.006320\n",
       "last_credit_pull_d         0.000422\n",
       "open_acc                  -0.007023\n",
       "earliest_cr_line          -0.019691\n",
       "total_acc                 -0.020163\n",
       "annual_inc                -0.039522\n",
       "last_pymnt_amnt           -0.221059\n",
       "total_pymnt_inv           -0.228956\n",
       "total_pymnt               -0.231787\n",
       "total_rec_prncp           -0.331157\n",
       "Name: loan_status, dtype: float64"
      ]
     },
     "execution_count": 26,
     "metadata": {},
     "output_type": "execute_result"
    }
   ],
   "source": [
    "score = corr_mat['loan_status'].sort_values(ascending=False)\n",
    "score"
   ]
  },
  {
   "cell_type": "markdown",
   "id": "c28323d6-331c-41d5-988c-e4a8b62d9b76",
   "metadata": {
    "id": "c28323d6-331c-41d5-988c-e4a8b62d9b76"
   },
   "source": [
    "> Based on statistics, correlation matrix, we see that there are few data strongly associated with loan_status.</br>\n",
    "However, for a better analysis, take the lowest corr value starting at 0.059538 of 'funded_amnt' to conduct further analysis"
   ]
  },
  {
   "cell_type": "code",
   "execution_count": 27,
   "id": "f82e3d23-26d3-4a2e-9d2c-990dd6c9280f",
   "metadata": {
    "colab": {
     "base_uri": "https://localhost:8080/",
     "height": 392
    },
    "executionInfo": {
     "elapsed": 16,
     "status": "ok",
     "timestamp": 1652179938825,
     "user": {
      "displayName": "Thái Phạm",
      "userId": "15721535778756978075"
     },
     "user_tz": -420
    },
    "id": "f82e3d23-26d3-4a2e-9d2c-990dd6c9280f",
    "outputId": "b01dfbf0-91a8-4e1c-b8e3-35551de1dd6c"
   },
   "outputs": [
    {
     "data": {
      "text/html": [
       "<div>\n",
       "<style scoped>\n",
       "    .dataframe tbody tr th:only-of-type {\n",
       "        vertical-align: middle;\n",
       "    }\n",
       "\n",
       "    .dataframe tbody tr th {\n",
       "        vertical-align: top;\n",
       "    }\n",
       "\n",
       "    .dataframe thead th {\n",
       "        text-align: right;\n",
       "    }\n",
       "</style>\n",
       "<table border=\"1\" class=\"dataframe\">\n",
       "  <thead>\n",
       "    <tr style=\"text-align: right;\">\n",
       "      <th></th>\n",
       "      <th>loan_status</th>\n",
       "      <th>recoveries</th>\n",
       "      <th>int_rate</th>\n",
       "      <th>collection_recovery_fee</th>\n",
       "      <th>term</th>\n",
       "      <th>total_rec_late_fee</th>\n",
       "      <th>revol_util</th>\n",
       "      <th>inq_last_6mths</th>\n",
       "      <th>loan_amnt</th>\n",
       "      <th>funded_amnt</th>\n",
       "      <th>grade</th>\n",
       "      <th>sub_grade</th>\n",
       "      <th>emp_length</th>\n",
       "      <th>home_ownership</th>\n",
       "      <th>verification_status</th>\n",
       "      <th>desc</th>\n",
       "      <th>purpose</th>\n",
       "      <th>title</th>\n",
       "      <th>addr_state</th>\n",
       "      <th>next_pymnt_d</th>\n",
       "    </tr>\n",
       "  </thead>\n",
       "  <tbody>\n",
       "    <tr>\n",
       "      <th>0</th>\n",
       "      <td>0</td>\n",
       "      <td>0.00</td>\n",
       "      <td>10.65</td>\n",
       "      <td>0.00</td>\n",
       "      <td>36</td>\n",
       "      <td>0.00</td>\n",
       "      <td>83.7</td>\n",
       "      <td>1</td>\n",
       "      <td>5000</td>\n",
       "      <td>5000</td>\n",
       "      <td>B</td>\n",
       "      <td>B2</td>\n",
       "      <td>10+ years</td>\n",
       "      <td>RENT</td>\n",
       "      <td>Verified</td>\n",
       "      <td>Borrower added on 12/22/11 &gt; I need to upgra...</td>\n",
       "      <td>credit_card</td>\n",
       "      <td>Computer</td>\n",
       "      <td>AZ</td>\n",
       "      <td>NaN</td>\n",
       "    </tr>\n",
       "    <tr>\n",
       "      <th>1</th>\n",
       "      <td>1</td>\n",
       "      <td>117.08</td>\n",
       "      <td>15.27</td>\n",
       "      <td>1.11</td>\n",
       "      <td>60</td>\n",
       "      <td>0.00</td>\n",
       "      <td>9.4</td>\n",
       "      <td>5</td>\n",
       "      <td>2500</td>\n",
       "      <td>2500</td>\n",
       "      <td>C</td>\n",
       "      <td>C4</td>\n",
       "      <td>&lt; 1 year</td>\n",
       "      <td>RENT</td>\n",
       "      <td>Source Verified</td>\n",
       "      <td>Borrower added on 12/22/11 &gt; I plan to use t...</td>\n",
       "      <td>car</td>\n",
       "      <td>bike</td>\n",
       "      <td>GA</td>\n",
       "      <td>NaN</td>\n",
       "    </tr>\n",
       "    <tr>\n",
       "      <th>2</th>\n",
       "      <td>0</td>\n",
       "      <td>0.00</td>\n",
       "      <td>15.96</td>\n",
       "      <td>0.00</td>\n",
       "      <td>36</td>\n",
       "      <td>0.00</td>\n",
       "      <td>98.5</td>\n",
       "      <td>2</td>\n",
       "      <td>2400</td>\n",
       "      <td>2400</td>\n",
       "      <td>C</td>\n",
       "      <td>C5</td>\n",
       "      <td>10+ years</td>\n",
       "      <td>RENT</td>\n",
       "      <td>Not Verified</td>\n",
       "      <td>NaN</td>\n",
       "      <td>small_business</td>\n",
       "      <td>real estate business</td>\n",
       "      <td>IL</td>\n",
       "      <td>NaN</td>\n",
       "    </tr>\n",
       "    <tr>\n",
       "      <th>3</th>\n",
       "      <td>0</td>\n",
       "      <td>0.00</td>\n",
       "      <td>13.49</td>\n",
       "      <td>0.00</td>\n",
       "      <td>36</td>\n",
       "      <td>16.97</td>\n",
       "      <td>21.0</td>\n",
       "      <td>1</td>\n",
       "      <td>10000</td>\n",
       "      <td>10000</td>\n",
       "      <td>C</td>\n",
       "      <td>C1</td>\n",
       "      <td>10+ years</td>\n",
       "      <td>RENT</td>\n",
       "      <td>Source Verified</td>\n",
       "      <td>Borrower added on 12/21/11 &gt; to pay for prop...</td>\n",
       "      <td>other</td>\n",
       "      <td>personel</td>\n",
       "      <td>CA</td>\n",
       "      <td>NaN</td>\n",
       "    </tr>\n",
       "    <tr>\n",
       "      <th>4</th>\n",
       "      <td>0</td>\n",
       "      <td>0.00</td>\n",
       "      <td>7.90</td>\n",
       "      <td>0.00</td>\n",
       "      <td>36</td>\n",
       "      <td>0.00</td>\n",
       "      <td>28.3</td>\n",
       "      <td>3</td>\n",
       "      <td>5000</td>\n",
       "      <td>5000</td>\n",
       "      <td>A</td>\n",
       "      <td>A4</td>\n",
       "      <td>3 years</td>\n",
       "      <td>RENT</td>\n",
       "      <td>Source Verified</td>\n",
       "      <td>NaN</td>\n",
       "      <td>wedding</td>\n",
       "      <td>My wedding loan I promise to pay back</td>\n",
       "      <td>AZ</td>\n",
       "      <td>NaN</td>\n",
       "    </tr>\n",
       "  </tbody>\n",
       "</table>\n",
       "</div>"
      ],
      "text/plain": [
       "   loan_status  recoveries  int_rate  collection_recovery_fee  term  \\\n",
       "0            0        0.00     10.65                     0.00    36   \n",
       "1            1      117.08     15.27                     1.11    60   \n",
       "2            0        0.00     15.96                     0.00    36   \n",
       "3            0        0.00     13.49                     0.00    36   \n",
       "4            0        0.00      7.90                     0.00    36   \n",
       "\n",
       "   total_rec_late_fee  revol_util  inq_last_6mths  loan_amnt  funded_amnt  \\\n",
       "0                0.00        83.7               1       5000         5000   \n",
       "1                0.00         9.4               5       2500         2500   \n",
       "2                0.00        98.5               2       2400         2400   \n",
       "3               16.97        21.0               1      10000        10000   \n",
       "4                0.00        28.3               3       5000         5000   \n",
       "\n",
       "  grade sub_grade emp_length home_ownership verification_status  \\\n",
       "0     B        B2  10+ years           RENT            Verified   \n",
       "1     C        C4   < 1 year           RENT     Source Verified   \n",
       "2     C        C5  10+ years           RENT        Not Verified   \n",
       "3     C        C1  10+ years           RENT     Source Verified   \n",
       "4     A        A4    3 years           RENT     Source Verified   \n",
       "\n",
       "                                                desc         purpose  \\\n",
       "0    Borrower added on 12/22/11 > I need to upgra...     credit_card   \n",
       "1    Borrower added on 12/22/11 > I plan to use t...             car   \n",
       "2                                                NaN  small_business   \n",
       "3    Borrower added on 12/21/11 > to pay for prop...           other   \n",
       "4                                                NaN         wedding   \n",
       "\n",
       "                                   title addr_state next_pymnt_d  \n",
       "0                               Computer         AZ          NaN  \n",
       "1                                   bike         GA          NaN  \n",
       "2                   real estate business         IL          NaN  \n",
       "3                               personel         CA          NaN  \n",
       "4  My wedding loan I promise to pay back         AZ          NaN  "
      ]
     },
     "execution_count": 27,
     "metadata": {},
     "output_type": "execute_result"
    }
   ],
   "source": [
    "list_col = ['loan_status','recoveries', 'int_rate', 'collection_recovery_fee','term','total_rec_late_fee','revol_util','inq_last_6mths', 'loan_amnt','funded_amnt']\n",
    "list_col.extend(obj_dCol)\n",
    "df_loan = df_loan[list_col]\n",
    "df_loan.head()"
   ]
  },
  {
   "cell_type": "markdown",
   "id": "47b3161f-0a8d-4635-bf54-90d9f75137eb",
   "metadata": {
    "id": "47b3161f-0a8d-4635-bf54-90d9f75137eb"
   },
   "source": [
    "### Check the correlation matrix one more time"
   ]
  },
  {
   "cell_type": "code",
   "execution_count": 28,
   "id": "f7249f61-9ad3-4335-8604-509eb4f4f229",
   "metadata": {
    "colab": {
     "base_uri": "https://localhost:8080/",
     "height": 383
    },
    "executionInfo": {
     "elapsed": 16,
     "status": "ok",
     "timestamp": 1652179938826,
     "user": {
      "displayName": "Thái Phạm",
      "userId": "15721535778756978075"
     },
     "user_tz": -420
    },
    "id": "f7249f61-9ad3-4335-8604-509eb4f4f229",
    "outputId": "8898f3ce-16fd-4008-ddf6-18c62d504878"
   },
   "outputs": [
    {
     "data": {
      "text/html": [
       "<style type=\"text/css\">\n",
       "#T_41cab_row0_col0, #T_41cab_row1_col1, #T_41cab_row2_col2, #T_41cab_row3_col3, #T_41cab_row4_col4, #T_41cab_row5_col5, #T_41cab_row6_col6, #T_41cab_row7_col7, #T_41cab_row8_col8, #T_41cab_row9_col9 {\n",
       "  background-color: #b40426;\n",
       "  color: #f1f1f1;\n",
       "}\n",
       "#T_41cab_row0_col1, #T_41cab_row1_col0 {\n",
       "  background-color: #bbd1f8;\n",
       "  color: #000000;\n",
       "}\n",
       "#T_41cab_row0_col2, #T_41cab_row2_col0 {\n",
       "  background-color: #92b4fe;\n",
       "  color: #000000;\n",
       "}\n",
       "#T_41cab_row0_col3, #T_41cab_row3_col0 {\n",
       "  background-color: #8fb1fe;\n",
       "  color: #000000;\n",
       "}\n",
       "#T_41cab_row0_col4, #T_41cab_row4_col0 {\n",
       "  background-color: #85a8fc;\n",
       "  color: #f1f1f1;\n",
       "}\n",
       "#T_41cab_row0_col5, #T_41cab_row5_col0 {\n",
       "  background-color: #82a6fb;\n",
       "  color: #f1f1f1;\n",
       "}\n",
       "#T_41cab_row0_col6, #T_41cab_row6_col0 {\n",
       "  background-color: #6c8ff1;\n",
       "  color: #f1f1f1;\n",
       "}\n",
       "#T_41cab_row0_col7, #T_41cab_row2_col3, #T_41cab_row3_col2, #T_41cab_row6_col9, #T_41cab_row7_col0, #T_41cab_row9_col6 {\n",
       "  background-color: #6384eb;\n",
       "  color: #f1f1f1;\n",
       "}\n",
       "#T_41cab_row0_col8, #T_41cab_row8_col0 {\n",
       "  background-color: #6180e9;\n",
       "  color: #f1f1f1;\n",
       "}\n",
       "#T_41cab_row0_col9, #T_41cab_row9_col0 {\n",
       "  background-color: #5f7fe8;\n",
       "  color: #f1f1f1;\n",
       "}\n",
       "#T_41cab_row1_col2, #T_41cab_row2_col1 {\n",
       "  background-color: #7699f6;\n",
       "  color: #f1f1f1;\n",
       "}\n",
       "#T_41cab_row1_col3, #T_41cab_row3_col1 {\n",
       "  background-color: #eb7d62;\n",
       "  color: #f1f1f1;\n",
       "}\n",
       "#T_41cab_row1_col4, #T_41cab_row4_col1 {\n",
       "  background-color: #7093f3;\n",
       "  color: #f1f1f1;\n",
       "}\n",
       "#T_41cab_row1_col5, #T_41cab_row5_col1 {\n",
       "  background-color: #6e90f2;\n",
       "  color: #f1f1f1;\n",
       "}\n",
       "#T_41cab_row1_col6, #T_41cab_row6_col1 {\n",
       "  background-color: #5e7de7;\n",
       "  color: #f1f1f1;\n",
       "}\n",
       "#T_41cab_row1_col7, #T_41cab_row7_col1 {\n",
       "  background-color: #5470de;\n",
       "  color: #f1f1f1;\n",
       "}\n",
       "#T_41cab_row1_col8, #T_41cab_row1_col9, #T_41cab_row8_col1, #T_41cab_row9_col1 {\n",
       "  background-color: #7b9ff9;\n",
       "  color: #f1f1f1;\n",
       "}\n",
       "#T_41cab_row2_col4, #T_41cab_row4_col2 {\n",
       "  background-color: #d7dce3;\n",
       "  color: #000000;\n",
       "}\n",
       "#T_41cab_row2_col5, #T_41cab_row3_col5, #T_41cab_row5_col2, #T_41cab_row5_col3 {\n",
       "  background-color: #6b8df0;\n",
       "  color: #f1f1f1;\n",
       "}\n",
       "#T_41cab_row2_col6, #T_41cab_row6_col2 {\n",
       "  background-color: #dddcdc;\n",
       "  color: #000000;\n",
       "}\n",
       "#T_41cab_row2_col7, #T_41cab_row7_col2 {\n",
       "  background-color: #779af7;\n",
       "  color: #f1f1f1;\n",
       "}\n",
       "#T_41cab_row2_col8, #T_41cab_row2_col9, #T_41cab_row8_col2, #T_41cab_row9_col2 {\n",
       "  background-color: #afcafc;\n",
       "  color: #000000;\n",
       "}\n",
       "#T_41cab_row3_col4, #T_41cab_row4_col3 {\n",
       "  background-color: #5977e3;\n",
       "  color: #f1f1f1;\n",
       "}\n",
       "#T_41cab_row3_col6, #T_41cab_row6_col3 {\n",
       "  background-color: #5673e0;\n",
       "  color: #f1f1f1;\n",
       "}\n",
       "#T_41cab_row3_col7, #T_41cab_row4_col5, #T_41cab_row5_col4, #T_41cab_row7_col3, #T_41cab_row7_col8, #T_41cab_row7_col9, #T_41cab_row8_col7, #T_41cab_row9_col7 {\n",
       "  background-color: #516ddb;\n",
       "  color: #f1f1f1;\n",
       "}\n",
       "#T_41cab_row3_col8, #T_41cab_row3_col9, #T_41cab_row8_col3, #T_41cab_row9_col3 {\n",
       "  background-color: #6687ed;\n",
       "  color: #f1f1f1;\n",
       "}\n",
       "#T_41cab_row4_col6, #T_41cab_row6_col4, #T_41cab_row6_col8, #T_41cab_row8_col6 {\n",
       "  background-color: #6282ea;\n",
       "  color: #f1f1f1;\n",
       "}\n",
       "#T_41cab_row4_col7, #T_41cab_row5_col8, #T_41cab_row5_col9, #T_41cab_row7_col4, #T_41cab_row8_col5, #T_41cab_row9_col5 {\n",
       "  background-color: #5d7ce6;\n",
       "  color: #f1f1f1;\n",
       "}\n",
       "#T_41cab_row4_col8, #T_41cab_row8_col4 {\n",
       "  background-color: #bcd2f7;\n",
       "  color: #000000;\n",
       "}\n",
       "#T_41cab_row4_col9, #T_41cab_row9_col4 {\n",
       "  background-color: #b6cefa;\n",
       "  color: #000000;\n",
       "}\n",
       "#T_41cab_row5_col6, #T_41cab_row6_col5 {\n",
       "  background-color: #5a78e4;\n",
       "  color: #f1f1f1;\n",
       "}\n",
       "#T_41cab_row5_col7, #T_41cab_row7_col5 {\n",
       "  background-color: #5875e1;\n",
       "  color: #f1f1f1;\n",
       "}\n",
       "#T_41cab_row6_col7, #T_41cab_row7_col6 {\n",
       "  background-color: #3b4cc0;\n",
       "  color: #f1f1f1;\n",
       "}\n",
       "#T_41cab_row8_col9, #T_41cab_row9_col8 {\n",
       "  background-color: #ba162b;\n",
       "  color: #f1f1f1;\n",
       "}\n",
       "</style>\n",
       "<table id=\"T_41cab\">\n",
       "  <thead>\n",
       "    <tr>\n",
       "      <th class=\"blank level0\" >&nbsp;</th>\n",
       "      <th id=\"T_41cab_level0_col0\" class=\"col_heading level0 col0\" >loan_status</th>\n",
       "      <th id=\"T_41cab_level0_col1\" class=\"col_heading level0 col1\" >recoveries</th>\n",
       "      <th id=\"T_41cab_level0_col2\" class=\"col_heading level0 col2\" >int_rate</th>\n",
       "      <th id=\"T_41cab_level0_col3\" class=\"col_heading level0 col3\" >collection_recovery_fee</th>\n",
       "      <th id=\"T_41cab_level0_col4\" class=\"col_heading level0 col4\" >term</th>\n",
       "      <th id=\"T_41cab_level0_col5\" class=\"col_heading level0 col5\" >total_rec_late_fee</th>\n",
       "      <th id=\"T_41cab_level0_col6\" class=\"col_heading level0 col6\" >revol_util</th>\n",
       "      <th id=\"T_41cab_level0_col7\" class=\"col_heading level0 col7\" >inq_last_6mths</th>\n",
       "      <th id=\"T_41cab_level0_col8\" class=\"col_heading level0 col8\" >loan_amnt</th>\n",
       "      <th id=\"T_41cab_level0_col9\" class=\"col_heading level0 col9\" >funded_amnt</th>\n",
       "    </tr>\n",
       "  </thead>\n",
       "  <tbody>\n",
       "    <tr>\n",
       "      <th id=\"T_41cab_level0_row0\" class=\"row_heading level0 row0\" >loan_status</th>\n",
       "      <td id=\"T_41cab_row0_col0\" class=\"data row0 col0\" >1.000000</td>\n",
       "      <td id=\"T_41cab_row0_col1\" class=\"data row0 col1\" >0.339996</td>\n",
       "      <td id=\"T_41cab_row0_col2\" class=\"data row0 col2\" >0.210217</td>\n",
       "      <td id=\"T_41cab_row0_col3\" class=\"data row0 col3\" >0.204881</td>\n",
       "      <td id=\"T_41cab_row0_col4\" class=\"data row0 col4\" >0.174560</td>\n",
       "      <td id=\"T_41cab_row0_col5\" class=\"data row0 col5\" >0.166882</td>\n",
       "      <td id=\"T_41cab_row0_col6\" class=\"data row0 col6\" >0.100388</td>\n",
       "      <td id=\"T_41cab_row0_col7\" class=\"data row0 col7\" >0.070650</td>\n",
       "      <td id=\"T_41cab_row0_col8\" class=\"data row0 col8\" >0.061573</td>\n",
       "      <td id=\"T_41cab_row0_col9\" class=\"data row0 col9\" >0.058485</td>\n",
       "    </tr>\n",
       "    <tr>\n",
       "      <th id=\"T_41cab_level0_row1\" class=\"row_heading level0 row1\" >recoveries</th>\n",
       "      <td id=\"T_41cab_row1_col0\" class=\"data row1 col0\" >0.339996</td>\n",
       "      <td id=\"T_41cab_row1_col1\" class=\"data row1 col1\" >1.000000</td>\n",
       "      <td id=\"T_41cab_row1_col2\" class=\"data row1 col2\" >0.128955</td>\n",
       "      <td id=\"T_41cab_row1_col3\" class=\"data row1 col3\" >0.799690</td>\n",
       "      <td id=\"T_41cab_row1_col4\" class=\"data row1 col4\" >0.112621</td>\n",
       "      <td id=\"T_41cab_row1_col5\" class=\"data row1 col5\" >0.101780</td>\n",
       "      <td id=\"T_41cab_row1_col6\" class=\"data row1 col6\" >0.052035</td>\n",
       "      <td id=\"T_41cab_row1_col7\" class=\"data row1 col7\" >0.018416</td>\n",
       "      <td id=\"T_41cab_row1_col8\" class=\"data row1 col8\" >0.143378</td>\n",
       "      <td id=\"T_41cab_row1_col9\" class=\"data row1 col9\" >0.143988</td>\n",
       "    </tr>\n",
       "    <tr>\n",
       "      <th id=\"T_41cab_level0_row2\" class=\"row_heading level0 row2\" >int_rate</th>\n",
       "      <td id=\"T_41cab_row2_col0\" class=\"data row2 col0\" >0.210217</td>\n",
       "      <td id=\"T_41cab_row2_col1\" class=\"data row2 col1\" >0.128955</td>\n",
       "      <td id=\"T_41cab_row2_col2\" class=\"data row2 col2\" >1.000000</td>\n",
       "      <td id=\"T_41cab_row2_col3\" class=\"data row2 col3\" >0.069835</td>\n",
       "      <td id=\"T_41cab_row2_col4\" class=\"data row2 col4\" >0.440308</td>\n",
       "      <td id=\"T_41cab_row2_col5\" class=\"data row2 col5\" >0.094607</td>\n",
       "      <td id=\"T_41cab_row2_col6\" class=\"data row2 col6\" >0.467701</td>\n",
       "      <td id=\"T_41cab_row2_col7\" class=\"data row2 col7\" >0.132959</td>\n",
       "      <td id=\"T_41cab_row2_col8\" class=\"data row2 col8\" >0.301894</td>\n",
       "      <td id=\"T_41cab_row2_col9\" class=\"data row2 col9\" >0.305546</td>\n",
       "    </tr>\n",
       "    <tr>\n",
       "      <th id=\"T_41cab_level0_row3\" class=\"row_heading level0 row3\" >collection_recovery_fee</th>\n",
       "      <td id=\"T_41cab_row3_col0\" class=\"data row3 col0\" >0.204881</td>\n",
       "      <td id=\"T_41cab_row3_col1\" class=\"data row3 col1\" >0.799690</td>\n",
       "      <td id=\"T_41cab_row3_col2\" class=\"data row3 col2\" >0.069835</td>\n",
       "      <td id=\"T_41cab_row3_col3\" class=\"data row3 col3\" >1.000000</td>\n",
       "      <td id=\"T_41cab_row3_col4\" class=\"data row3 col4\" >0.037417</td>\n",
       "      <td id=\"T_41cab_row3_col5\" class=\"data row3 col5\" >0.094600</td>\n",
       "      <td id=\"T_41cab_row3_col6\" class=\"data row3 col6\" >0.027327</td>\n",
       "      <td id=\"T_41cab_row3_col7\" class=\"data row3 col7\" >0.011814</td>\n",
       "      <td id=\"T_41cab_row3_col8\" class=\"data row3 col8\" >0.077207</td>\n",
       "      <td id=\"T_41cab_row3_col9\" class=\"data row3 col9\" >0.078951</td>\n",
       "    </tr>\n",
       "    <tr>\n",
       "      <th id=\"T_41cab_level0_row4\" class=\"row_heading level0 row4\" >term</th>\n",
       "      <td id=\"T_41cab_row4_col0\" class=\"data row4 col0\" >0.174560</td>\n",
       "      <td id=\"T_41cab_row4_col1\" class=\"data row4 col1\" >0.112621</td>\n",
       "      <td id=\"T_41cab_row4_col2\" class=\"data row4 col2\" >0.440308</td>\n",
       "      <td id=\"T_41cab_row4_col3\" class=\"data row4 col3\" >0.037417</td>\n",
       "      <td id=\"T_41cab_row4_col4\" class=\"data row4 col4\" >1.000000</td>\n",
       "      <td id=\"T_41cab_row4_col5\" class=\"data row4 col5\" >0.012863</td>\n",
       "      <td id=\"T_41cab_row4_col6\" class=\"data row4 col6\" >0.065947</td>\n",
       "      <td id=\"T_41cab_row4_col7\" class=\"data row4 col7\" >0.047701</td>\n",
       "      <td id=\"T_41cab_row4_col8\" class=\"data row4 col8\" >0.346831</td>\n",
       "      <td id=\"T_41cab_row4_col9\" class=\"data row4 col9\" >0.325027</td>\n",
       "    </tr>\n",
       "    <tr>\n",
       "      <th id=\"T_41cab_level0_row5\" class=\"row_heading level0 row5\" >total_rec_late_fee</th>\n",
       "      <td id=\"T_41cab_row5_col0\" class=\"data row5 col0\" >0.166882</td>\n",
       "      <td id=\"T_41cab_row5_col1\" class=\"data row5 col1\" >0.101780</td>\n",
       "      <td id=\"T_41cab_row5_col2\" class=\"data row5 col2\" >0.094607</td>\n",
       "      <td id=\"T_41cab_row5_col3\" class=\"data row5 col3\" >0.094600</td>\n",
       "      <td id=\"T_41cab_row5_col4\" class=\"data row5 col4\" >0.012863</td>\n",
       "      <td id=\"T_41cab_row5_col5\" class=\"data row5 col5\" >1.000000</td>\n",
       "      <td id=\"T_41cab_row5_col6\" class=\"data row5 col6\" >0.038701</td>\n",
       "      <td id=\"T_41cab_row5_col7\" class=\"data row5 col7\" >0.030918</td>\n",
       "      <td id=\"T_41cab_row5_col8\" class=\"data row5 col8\" >0.047020</td>\n",
       "      <td id=\"T_41cab_row5_col9\" class=\"data row5 col9\" >0.049396</td>\n",
       "    </tr>\n",
       "    <tr>\n",
       "      <th id=\"T_41cab_level0_row6\" class=\"row_heading level0 row6\" >revol_util</th>\n",
       "      <td id=\"T_41cab_row6_col0\" class=\"data row6 col0\" >0.100388</td>\n",
       "      <td id=\"T_41cab_row6_col1\" class=\"data row6 col1\" >0.052035</td>\n",
       "      <td id=\"T_41cab_row6_col2\" class=\"data row6 col2\" >0.467701</td>\n",
       "      <td id=\"T_41cab_row6_col3\" class=\"data row6 col3\" >0.027327</td>\n",
       "      <td id=\"T_41cab_row6_col4\" class=\"data row6 col4\" >0.065947</td>\n",
       "      <td id=\"T_41cab_row6_col5\" class=\"data row6 col5\" >0.038701</td>\n",
       "      <td id=\"T_41cab_row6_col6\" class=\"data row6 col6\" >1.000000</td>\n",
       "      <td id=\"T_41cab_row6_col7\" class=\"data row6 col7\" >-0.070669</td>\n",
       "      <td id=\"T_41cab_row6_col8\" class=\"data row6 col8\" >0.064045</td>\n",
       "      <td id=\"T_41cab_row6_col9\" class=\"data row6 col9\" >0.067939</td>\n",
       "    </tr>\n",
       "    <tr>\n",
       "      <th id=\"T_41cab_level0_row7\" class=\"row_heading level0 row7\" >inq_last_6mths</th>\n",
       "      <td id=\"T_41cab_row7_col0\" class=\"data row7 col0\" >0.070650</td>\n",
       "      <td id=\"T_41cab_row7_col1\" class=\"data row7 col1\" >0.018416</td>\n",
       "      <td id=\"T_41cab_row7_col2\" class=\"data row7 col2\" >0.132959</td>\n",
       "      <td id=\"T_41cab_row7_col3\" class=\"data row7 col3\" >0.011814</td>\n",
       "      <td id=\"T_41cab_row7_col4\" class=\"data row7 col4\" >0.047701</td>\n",
       "      <td id=\"T_41cab_row7_col5\" class=\"data row7 col5\" >0.030918</td>\n",
       "      <td id=\"T_41cab_row7_col6\" class=\"data row7 col6\" >-0.070669</td>\n",
       "      <td id=\"T_41cab_row7_col7\" class=\"data row7 col7\" >1.000000</td>\n",
       "      <td id=\"T_41cab_row7_col8\" class=\"data row7 col8\" >0.012590</td>\n",
       "      <td id=\"T_41cab_row7_col9\" class=\"data row7 col9\" >0.012467</td>\n",
       "    </tr>\n",
       "    <tr>\n",
       "      <th id=\"T_41cab_level0_row8\" class=\"row_heading level0 row8\" >loan_amnt</th>\n",
       "      <td id=\"T_41cab_row8_col0\" class=\"data row8 col0\" >0.061573</td>\n",
       "      <td id=\"T_41cab_row8_col1\" class=\"data row8 col1\" >0.143378</td>\n",
       "      <td id=\"T_41cab_row8_col2\" class=\"data row8 col2\" >0.301894</td>\n",
       "      <td id=\"T_41cab_row8_col3\" class=\"data row8 col3\" >0.077207</td>\n",
       "      <td id=\"T_41cab_row8_col4\" class=\"data row8 col4\" >0.346831</td>\n",
       "      <td id=\"T_41cab_row8_col5\" class=\"data row8 col5\" >0.047020</td>\n",
       "      <td id=\"T_41cab_row8_col6\" class=\"data row8 col6\" >0.064045</td>\n",
       "      <td id=\"T_41cab_row8_col7\" class=\"data row8 col7\" >0.012590</td>\n",
       "      <td id=\"T_41cab_row8_col8\" class=\"data row8 col8\" >1.000000</td>\n",
       "      <td id=\"T_41cab_row8_col9\" class=\"data row8 col9\" >0.981748</td>\n",
       "    </tr>\n",
       "    <tr>\n",
       "      <th id=\"T_41cab_level0_row9\" class=\"row_heading level0 row9\" >funded_amnt</th>\n",
       "      <td id=\"T_41cab_row9_col0\" class=\"data row9 col0\" >0.058485</td>\n",
       "      <td id=\"T_41cab_row9_col1\" class=\"data row9 col1\" >0.143988</td>\n",
       "      <td id=\"T_41cab_row9_col2\" class=\"data row9 col2\" >0.305546</td>\n",
       "      <td id=\"T_41cab_row9_col3\" class=\"data row9 col3\" >0.078951</td>\n",
       "      <td id=\"T_41cab_row9_col4\" class=\"data row9 col4\" >0.325027</td>\n",
       "      <td id=\"T_41cab_row9_col5\" class=\"data row9 col5\" >0.049396</td>\n",
       "      <td id=\"T_41cab_row9_col6\" class=\"data row9 col6\" >0.067939</td>\n",
       "      <td id=\"T_41cab_row9_col7\" class=\"data row9 col7\" >0.012467</td>\n",
       "      <td id=\"T_41cab_row9_col8\" class=\"data row9 col8\" >0.981748</td>\n",
       "      <td id=\"T_41cab_row9_col9\" class=\"data row9 col9\" >1.000000</td>\n",
       "    </tr>\n",
       "  </tbody>\n",
       "</table>\n"
      ],
      "text/plain": [
       "<pandas.io.formats.style.Styler at 0x2843a5e0250>"
      ]
     },
     "execution_count": 28,
     "metadata": {},
     "output_type": "execute_result"
    }
   ],
   "source": [
    "corr_mat = df_loan.corr()\n",
    "corr_mat.style.background_gradient(cmap='coolwarm', axis=None)"
   ]
  },
  {
   "cell_type": "code",
   "execution_count": 29,
   "id": "888da4ee-2725-48ce-8126-f2f0af6c6778",
   "metadata": {
    "executionInfo": {
     "elapsed": 14,
     "status": "ok",
     "timestamp": 1652179938826,
     "user": {
      "displayName": "Thái Phạm",
      "userId": "15721535778756978075"
     },
     "user_tz": -420
    },
    "id": "888da4ee-2725-48ce-8126-f2f0af6c6778"
   },
   "outputs": [],
   "source": [
    "def count_group_col(col1, col2):\n",
    "    count_append_0=[]\n",
    "    count_append_1=[]\n",
    "    key = sorted(col2.unique().tolist())\n",
    "    for  i in key:\n",
    "        count_append_0.append(len(np.where((col1 == 0) & (col2 == i))[0]))\n",
    "        count_append_1.append(len(np.where((col1 == 1) & (col2 == i))[0]))\n",
    "    \n",
    "    return key, count_append_0, count_append_1"
   ]
  },
  {
   "cell_type": "code",
   "execution_count": 30,
   "id": "BnpKXTvGkhxm",
   "metadata": {
    "colab": {
     "base_uri": "https://localhost:8080/",
     "height": 566
    },
    "executionInfo": {
     "elapsed": 402,
     "status": "ok",
     "timestamp": 1652179939214,
     "user": {
      "displayName": "Thái Phạm",
      "userId": "15721535778756978075"
     },
     "user_tz": -420
    },
    "id": "BnpKXTvGkhxm",
    "outputId": "d3026c8b-0231-4c9a-80d6-e068f9d72f54"
   },
   "outputs": [
    {
     "data": {
      "text/html": [
       "<iframe\n",
       "    scrolling=\"no\"\n",
       "    width=\"100%\"\n",
       "    height=\"545px\"\n",
       "    src=\"iframe_figures/figure_30.html\"\n",
       "    frameborder=\"0\"\n",
       "    allowfullscreen\n",
       "></iframe>\n"
      ]
     },
     "metadata": {},
     "output_type": "display_data"
    }
   ],
   "source": [
    "grade_loan = df_loan.groupby(['grade','loan_status'])['loan_status'].count().unstack().reset_index()\n",
    "grade_loan.columns.name = None\n",
    "featureKeys = grade_loan.grade.tolist()\n",
    "plot = go.Figure(data=[go.Bar(name = 'Good loan',\n",
    "                              x = featureKeys,\n",
    "                              y = grade_loan[0]),\n",
    "                       go.Bar(name = 'Bad loan',\n",
    "                              x = featureKeys,\n",
    "                              y = grade_loan[1])])\n",
    "plot.update_xaxes(title_text=\"Grade\")  \n",
    "plot.update_yaxes(title_text=\"Total loan amount\")  \n",
    "plot.show()"
   ]
  },
  {
   "cell_type": "code",
   "execution_count": 31,
   "id": "9a4ead15-4044-4d05-86cd-8d985d960ab4",
   "metadata": {
    "colab": {
     "base_uri": "https://localhost:8080/",
     "height": 269
    },
    "executionInfo": {
     "elapsed": 7,
     "status": "ok",
     "timestamp": 1652179939214,
     "user": {
      "displayName": "Thái Phạm",
      "userId": "15721535778756978075"
     },
     "user_tz": -420
    },
    "id": "9a4ead15-4044-4d05-86cd-8d985d960ab4",
    "outputId": "baf02374-4148-4b20-f4dd-b6b981479913"
   },
   "outputs": [
    {
     "data": {
      "text/html": [
       "<div>\n",
       "<style scoped>\n",
       "    .dataframe tbody tr th:only-of-type {\n",
       "        vertical-align: middle;\n",
       "    }\n",
       "\n",
       "    .dataframe tbody tr th {\n",
       "        vertical-align: top;\n",
       "    }\n",
       "\n",
       "    .dataframe thead th {\n",
       "        text-align: right;\n",
       "    }\n",
       "</style>\n",
       "<table border=\"1\" class=\"dataframe\">\n",
       "  <thead>\n",
       "    <tr style=\"text-align: right;\">\n",
       "      <th></th>\n",
       "      <th>grade</th>\n",
       "      <th>0</th>\n",
       "      <th>1</th>\n",
       "      <th>sum</th>\n",
       "      <th>percent_bad_loan</th>\n",
       "      <th>percent_good_loan</th>\n",
       "    </tr>\n",
       "  </thead>\n",
       "  <tbody>\n",
       "    <tr>\n",
       "      <th>0</th>\n",
       "      <td>A</td>\n",
       "      <td>9442</td>\n",
       "      <td>596</td>\n",
       "      <td>10038</td>\n",
       "      <td>0.059</td>\n",
       "      <td>0.941</td>\n",
       "    </tr>\n",
       "    <tr>\n",
       "      <th>1</th>\n",
       "      <td>B</td>\n",
       "      <td>10250</td>\n",
       "      <td>1410</td>\n",
       "      <td>11660</td>\n",
       "      <td>0.121</td>\n",
       "      <td>0.879</td>\n",
       "    </tr>\n",
       "    <tr>\n",
       "      <th>2</th>\n",
       "      <td>C</td>\n",
       "      <td>6487</td>\n",
       "      <td>1322</td>\n",
       "      <td>7809</td>\n",
       "      <td>0.169</td>\n",
       "      <td>0.831</td>\n",
       "    </tr>\n",
       "    <tr>\n",
       "      <th>3</th>\n",
       "      <td>D</td>\n",
       "      <td>3967</td>\n",
       "      <td>1105</td>\n",
       "      <td>5072</td>\n",
       "      <td>0.218</td>\n",
       "      <td>0.782</td>\n",
       "    </tr>\n",
       "    <tr>\n",
       "      <th>4</th>\n",
       "      <td>E</td>\n",
       "      <td>1948</td>\n",
       "      <td>706</td>\n",
       "      <td>2654</td>\n",
       "      <td>0.266</td>\n",
       "      <td>0.734</td>\n",
       "    </tr>\n",
       "    <tr>\n",
       "      <th>5</th>\n",
       "      <td>F</td>\n",
       "      <td>657</td>\n",
       "      <td>317</td>\n",
       "      <td>974</td>\n",
       "      <td>0.325</td>\n",
       "      <td>0.675</td>\n",
       "    </tr>\n",
       "    <tr>\n",
       "      <th>6</th>\n",
       "      <td>G</td>\n",
       "      <td>198</td>\n",
       "      <td>99</td>\n",
       "      <td>297</td>\n",
       "      <td>0.333</td>\n",
       "      <td>0.667</td>\n",
       "    </tr>\n",
       "  </tbody>\n",
       "</table>\n",
       "</div>"
      ],
      "text/plain": [
       "  grade      0     1    sum  percent_bad_loan  percent_good_loan\n",
       "0     A   9442   596  10038             0.059              0.941\n",
       "1     B  10250  1410  11660             0.121              0.879\n",
       "2     C   6487  1322   7809             0.169              0.831\n",
       "3     D   3967  1105   5072             0.218              0.782\n",
       "4     E   1948   706   2654             0.266              0.734\n",
       "5     F    657   317    974             0.325              0.675\n",
       "6     G    198    99    297             0.333              0.667"
      ]
     },
     "execution_count": 31,
     "metadata": {},
     "output_type": "execute_result"
    }
   ],
   "source": [
    "grade_loan['sum'] = grade_loan[0]+grade_loan[1]\n",
    "grade_loan['percent_bad_loan'] = round(grade_loan[1]/grade_loan['sum'],3)\n",
    "grade_loan['percent_good_loan'] = 1 - grade_loan['percent_bad_loan']\n",
    "grade_loan"
   ]
  },
  {
   "cell_type": "markdown",
   "id": "D_9aI3VBkhxm",
   "metadata": {
    "id": "D_9aI3VBkhxm"
   },
   "source": [
    ">  Grade A:  0.057</br>Grade B:  0.118\n",
    "</br>Grade C:  0.165\n",
    "</br>Grade D:  0.214\n",
    "</br>Grade E:  0.264\n",
    "</br>Grade F:  0.324\n",
    "</br>Grade G:  0.329"
   ]
  },
  {
   "cell_type": "markdown",
   "id": "ulKsO77rkhxn",
   "metadata": {
    "id": "ulKsO77rkhxn"
   },
   "source": [
    "> _We see that in Grade A, the bad debt rate is as low as 5 percent, while in grade E,D,F,G has a high bad debt rate, above 20 percent. </br> So it is necessary to choose more information when deciding on a loan at this Grades locations_"
   ]
  },
  {
   "cell_type": "markdown",
   "id": "41d6447b-6b06-4beb-9f05-191a0c759bca",
   "metadata": {
    "id": "41d6447b-6b06-4beb-9f05-191a0c759bca"
   },
   "source": [
    "> _We see that in Grade A, the bad debt rate is as low as 5 percent, while in grade E,D,F,G has a high bad debt rate, above 20 percent. </br> So it is necessary to choose more information when deciding on a loan at this Grades locations_"
   ]
  },
  {
   "cell_type": "markdown",
   "id": "d415be7d-4bfd-4cdc-a955-cb8c22fd73d3",
   "metadata": {
    "id": "d415be7d-4bfd-4cdc-a955-cb8c22fd73d3"
   },
   "source": [
    "#### similarly we will analyze with sub_grade"
   ]
  },
  {
   "cell_type": "code",
   "execution_count": 32,
   "id": "1932df93-2192-4936-9f38-17047ac17cea",
   "metadata": {
    "colab": {
     "base_uri": "https://localhost:8080/",
     "height": 1000
    },
    "executionInfo": {
     "elapsed": 1318,
     "status": "ok",
     "timestamp": 1652179940527,
     "user": {
      "displayName": "Thái Phạm",
      "userId": "15721535778756978075"
     },
     "user_tz": -420
    },
    "id": "1932df93-2192-4936-9f38-17047ac17cea",
    "outputId": "28dbcc16-242d-40e5-cb25-a6ffe1df5406"
   },
   "outputs": [
    {
     "data": {
      "image/png": "[encoded data removed]",
      "text/plain": [
       "<Figure size 1080x720 with 1 Axes>"
      ]
     },
     "metadata": {
      "needs_background": "light"
     },
     "output_type": "display_data"
    },
    {
     "name": "stdout",
     "output_type": "stream",
     "text": [
      "Ratio of bad debt to total outstanding loans in each Sub_Grade\n",
      "Grade A1:  0.026\n",
      "Grade A2:  0.048\n",
      "Grade A3:  0.056\n",
      "Grade A4:  0.062\n",
      "Grade A5:  0.079\n",
      "Grade B1:  0.094\n",
      "Grade B2:  0.113\n",
      "Grade B3:  0.12\n",
      "Grade B4:  0.133\n",
      "Grade B5:  0.135\n",
      "Grade C1:  0.162\n",
      "Grade C2:  0.163\n",
      "Grade C3:  0.178\n",
      "Grade C4:  0.173\n",
      "Grade C5:  0.177\n",
      "Grade D1:  0.177\n",
      "Grade D2:  0.209\n",
      "Grade D3:  0.228\n",
      "Grade D4:  0.232\n",
      "Grade D5:  0.249\n",
      "Grade E1:  0.274\n",
      "Grade E2:  0.258\n",
      "Grade E3:  0.228\n",
      "Grade E4:  0.296\n",
      "Grade E5:  0.282\n",
      "Grade F1:  0.298\n",
      "Grade F2:  0.297\n",
      "Grade F3:  0.293\n",
      "Grade F4:  0.347\n",
      "Grade F5:  0.478\n",
      "Grade G1:  0.315\n",
      "Grade G2:  0.364\n",
      "Grade G3:  0.422\n",
      "Grade G4:  0.241\n",
      "Grade G5:  0.345\n"
     ]
    }
   ],
   "source": [
    "key_Group_grade, loan_Group_grad_0, loan_Group_grad_1 = count_group_col(df_loan.loan_status, df_loan.sub_grade)\n",
    "X_axis = np.arange(len(key_Group_grade))\n",
    "\n",
    "plt.figure(figsize=(15,10))\n",
    "plt.bar(X_axis - 0.2, loan_Group_grad_0, 0.4, label = 'Good loan')\n",
    "plt.bar(X_axis + 0.2, loan_Group_grad_1, 0.4, label = 'Bad Loan')\n",
    "\n",
    "plt.xticks(X_axis, key_Group_grade)\n",
    "plt.xlabel(\"Grade\")\n",
    "plt.ylabel(\"Number of Loans\")\n",
    "plt.title(\"Number of Sub-grade in each group\")\n",
    "plt.legend()\n",
    "plt.show()\n",
    "\n",
    "print('Ratio of bad debt to total outstanding loans in each Sub_Grade')\n",
    "for idx, val in enumerate(key_Group_grade):\n",
    "    print(f'Grade {val}: ', round(loan_Group_grad_1[idx]/(loan_Group_grad_1[idx]+loan_Group_grad_0[idx]), 3))"
   ]
  },
  {
   "cell_type": "markdown",
   "id": "390e3161-58d7-4751-9fc3-d069f7886895",
   "metadata": {
    "id": "390e3161-58d7-4751-9fc3-d069f7886895"
   },
   "source": [
    "> _Looking at the graph and statistics, we see that group A is still the most reliable group_"
   ]
  },
  {
   "cell_type": "code",
   "execution_count": 33,
   "id": "ac21f1c4-cb98-42d7-92ee-d8518e97e079",
   "metadata": {
    "colab": {
     "base_uri": "https://localhost:8080/",
     "height": 347
    },
    "executionInfo": {
     "elapsed": 39,
     "status": "ok",
     "timestamp": 1652179940528,
     "user": {
      "displayName": "Thái Phạm",
      "userId": "15721535778756978075"
     },
     "user_tz": -420
    },
    "id": "ac21f1c4-cb98-42d7-92ee-d8518e97e079",
    "outputId": "3e7c317f-577b-49e3-cf7c-0b57dd4aad67"
   },
   "outputs": [
    {
     "data": {
      "image/png": "[encoded data removed]",
      "text/plain": [
       "<Figure size 432x288 with 1 Axes>"
      ]
     },
     "metadata": {
      "needs_background": "light"
     },
     "output_type": "display_data"
    },
    {
     "name": "stdout",
     "output_type": "stream",
     "text": [
      "Ratio of bad debt to total outstanding loans in each Term Group\n",
      "Grade 36:  0.109 \t Total : 29041\n",
      "Grade 60:  0.252 \t Total : 9463\n"
     ]
    }
   ],
   "source": [
    "# Let check if the loan term has any effect on loan_status or not\n",
    "key_loan_term, loan_term_0, loan_term_1 = count_group_col(df_loan.loan_status, df_loan.term)\n",
    "X_axis = np.arange(len(key_loan_term))\n",
    "\n",
    "plt.bar(X_axis - 0.2, loan_term_0, 0.4, label = 'Good loan')\n",
    "plt.bar(X_axis + 0.2, loan_term_1, 0.4, label = 'Bad Loan')\n",
    "  \n",
    "plt.xticks(X_axis, key_loan_term)\n",
    "plt.xlabel(\"Term - Month\")\n",
    "plt.ylabel(\"Number of Loans\")\n",
    "plt.title(\"Number of Term in each group\")\n",
    "plt.legend()\n",
    "plt.show()\n",
    "print('Ratio of bad debt to total outstanding loans in each Term Group')\n",
    "for idx, val in enumerate(key_loan_term):\n",
    "    print(f'Grade {val}: ', round(loan_term_1[idx]/(loan_term_1[idx]+loan_term_0[idx]), 3), '\\t Total :', loan_term_1[idx]+loan_term_0[idx])\n"
   ]
  },
  {
   "cell_type": "markdown",
   "id": "pyTuK5brkhxr",
   "metadata": {
    "id": "pyTuK5brkhxr"
   },
   "source": [
    ">_Bad debt ratio of 60-month term ~2.4 times compared to 36 months, but the total number of loans is less than ~3 times.</br>Thus, lending with a term of 60 months has a high risk of generating bad debt_"
   ]
  },
  {
   "cell_type": "code",
   "execution_count": 34,
   "id": "61819eed-af60-408d-a9dc-ad9eb8dd919c",
   "metadata": {},
   "outputs": [
    {
     "data": {
      "image/png": "[encoded data removed]",
      "text/plain": [
       "<Figure size 432x288 with 1 Axes>"
      ]
     },
     "metadata": {
      "needs_background": "light"
     },
     "output_type": "display_data"
    },
    {
     "data": {
      "text/plain": [
       "42.88028802880288"
      ]
     },
     "execution_count": 34,
     "metadata": {},
     "output_type": "execute_result"
    }
   ],
   "source": [
    "goodLoancount = df_loan[df_loan[\"loan_status\"]==0].groupby(\"term\").count()\n",
    "badLoancount = df_loan[df_loan[\"loan_status\"]==1].groupby(\"term\").count()\n",
    "goodLoancount36,goodLoancount60 = goodLoancount.loan_amnt\n",
    "badLoancount36,badLoancount60 = badLoancount.loan_amnt\n",
    "\n",
    "plt.scatter( x=df_loan[\"loan_status\"].map({0:\"Bad\", 1:\"Good\"}), y = df_loan[\"term\"], color = \"b\")\n",
    "plt.xlabel(\"Loan Status\", fontsize = 15)\n",
    "plt.ylabel(\"Loan Term\", fontsize = 15)\n",
    "plt.text(0,38,\"36 Loan Term = {}\".format(goodLoancount36,0), fontsize = 15, color = \"g\")\n",
    "plt.text(0,58,\"60 Loan Term = {}\".format(goodLoancount60,0), fontsize = 15, color = \"g\")\n",
    "plt.text(0.60,38,\"36 Loan Term = {}\".format(badLoancount36,0), fontsize = 15, color = \"g\")\n",
    "plt.text(0.60,58,\"60 Loan Term = {}\".format(badLoancount60,0), fontsize = 15, color = \"g\")\n",
    "plt.show()\n",
    "(badLoancount60 / (badLoancount60+badLoancount36) ) * 100"
   ]
  },
  {
   "cell_type": "markdown",
   "id": "09004730-01bb-4698-8ac2-918f45b6cb8a",
   "metadata": {
    "id": "09004730-01bb-4698-8ac2-918f45b6cb8a"
   },
   "source": [
    "#### * Let's continue to check if the relationship between ['grade','term'] and \"loan_status\" is special.?"
   ]
  },
  {
   "cell_type": "code",
   "execution_count": 35,
   "id": "af468b64-c3ac-4efc-9c09-b87bef09f177",
   "metadata": {
    "colab": {
     "base_uri": "https://localhost:8080/",
     "height": 332
    },
    "executionInfo": {
     "elapsed": 36,
     "status": "ok",
     "timestamp": 1652179940528,
     "user": {
      "displayName": "Thái Phạm",
      "userId": "15721535778756978075"
     },
     "user_tz": -420
    },
    "id": "af468b64-c3ac-4efc-9c09-b87bef09f177",
    "outputId": "9f6ae4cd-9676-4921-a9d2-5c80abb8d18c"
   },
   "outputs": [
    {
     "data": {
      "text/html": [
       "<div>\n",
       "<style scoped>\n",
       "    .dataframe tbody tr th:only-of-type {\n",
       "        vertical-align: middle;\n",
       "    }\n",
       "\n",
       "    .dataframe tbody tr th {\n",
       "        vertical-align: top;\n",
       "    }\n",
       "\n",
       "    .dataframe thead tr th {\n",
       "        text-align: left;\n",
       "    }\n",
       "\n",
       "    .dataframe thead tr:last-of-type th {\n",
       "        text-align: right;\n",
       "    }\n",
       "</style>\n",
       "<table border=\"1\" class=\"dataframe\">\n",
       "  <thead>\n",
       "    <tr>\n",
       "      <th></th>\n",
       "      <th colspan=\"2\" halign=\"left\">loan_status</th>\n",
       "    </tr>\n",
       "    <tr>\n",
       "      <th>term</th>\n",
       "      <th>36</th>\n",
       "      <th>60</th>\n",
       "    </tr>\n",
       "    <tr>\n",
       "      <th>grade</th>\n",
       "      <th></th>\n",
       "      <th></th>\n",
       "    </tr>\n",
       "  </thead>\n",
       "  <tbody>\n",
       "    <tr>\n",
       "      <th>A</th>\n",
       "      <td>559.0</td>\n",
       "      <td>37.0</td>\n",
       "    </tr>\n",
       "    <tr>\n",
       "      <th>B</th>\n",
       "      <td>972.0</td>\n",
       "      <td>438.0</td>\n",
       "    </tr>\n",
       "    <tr>\n",
       "      <th>C</th>\n",
       "      <td>824.0</td>\n",
       "      <td>498.0</td>\n",
       "    </tr>\n",
       "    <tr>\n",
       "      <th>D</th>\n",
       "      <td>570.0</td>\n",
       "      <td>535.0</td>\n",
       "    </tr>\n",
       "    <tr>\n",
       "      <th>E</th>\n",
       "      <td>172.0</td>\n",
       "      <td>534.0</td>\n",
       "    </tr>\n",
       "    <tr>\n",
       "      <th>F</th>\n",
       "      <td>55.0</td>\n",
       "      <td>262.0</td>\n",
       "    </tr>\n",
       "    <tr>\n",
       "      <th>G</th>\n",
       "      <td>21.0</td>\n",
       "      <td>78.0</td>\n",
       "    </tr>\n",
       "  </tbody>\n",
       "</table>\n",
       "</div>"
      ],
      "text/plain": [
       "      loan_status       \n",
       "term           36     60\n",
       "grade                   \n",
       "A           559.0   37.0\n",
       "B           972.0  438.0\n",
       "C           824.0  498.0\n",
       "D           570.0  535.0\n",
       "E           172.0  534.0\n",
       "F            55.0  262.0\n",
       "G            21.0   78.0"
      ]
     },
     "execution_count": 35,
     "metadata": {},
     "output_type": "execute_result"
    }
   ],
   "source": [
    "df_loan.groupby(['grade','term'])[[\"loan_status\"]].sum().unstack()"
   ]
  },
  {
   "cell_type": "code",
   "execution_count": 36,
   "id": "d05cb0a0-beef-4c24-ad0e-41ab8783d113",
   "metadata": {
    "colab": {
     "base_uri": "https://localhost:8080/",
     "height": 339
    },
    "executionInfo": {
     "elapsed": 32,
     "status": "ok",
     "timestamp": 1652179940529,
     "user": {
      "displayName": "Thái Phạm",
      "userId": "15721535778756978075"
     },
     "user_tz": -420
    },
    "id": "d05cb0a0-beef-4c24-ad0e-41ab8783d113",
    "outputId": "42c36eb7-c4fc-4d91-cac8-4d9f4bf27f1b"
   },
   "outputs": [
    {
     "data": {
      "text/plain": [
       "<AxesSubplot:xlabel='grade,term'>"
      ]
     },
     "execution_count": 36,
     "metadata": {},
     "output_type": "execute_result"
    },
    {
     "data": {
      "text/plain": [
       "<Figure size 936x648 with 0 Axes>"
      ]
     },
     "metadata": {},
     "output_type": "display_data"
    },
    {
     "data": {
      "image/png": "[encoded data removed]",
      "text/plain": [
       "<Figure size 432x288 with 1 Axes>"
      ]
     },
     "metadata": {
      "needs_background": "light"
     },
     "output_type": "display_data"
    }
   ],
   "source": [
    "plt.figure(figsize=(13, 9))\n",
    "df_loan.groupby(['grade','term','loan_status'])[\"loan_status\"].count().unstack().plot.bar()"
   ]
  },
  {
   "cell_type": "markdown",
   "id": "ccd2d7b5-a3f3-4066-96ec-681f056a5600",
   "metadata": {
    "id": "ccd2d7b5-a3f3-4066-96ec-681f056a5600"
   },
   "source": [
    "> _It can be seen that the (grade=GradeCode , term=36 Months) group has a lower bad debt ratio than the (grade=GradeCode , term=60 Months) group. </br>This is consistent with the previous conclusions_"
   ]
  },
  {
   "cell_type": "markdown",
   "id": "d0456ec1-981f-44fd-8f99-9b443c4c029d",
   "metadata": {
    "id": "d0456ec1-981f-44fd-8f99-9b443c4c029d"
   },
   "source": [
    "> _Let's continue to check if the relationship between 'int_rate' and 'loan_status\" is special. </br> Does a high int_rate increase bad loans?_"
   ]
  },
  {
   "cell_type": "code",
   "execution_count": 37,
   "id": "533b2367-4963-406c-aa1f-6a79516fabbb",
   "metadata": {
    "colab": {
     "base_uri": "https://localhost:8080/",
     "height": 143
    },
    "executionInfo": {
     "elapsed": 22,
     "status": "ok",
     "timestamp": 1652179940529,
     "user": {
      "displayName": "Thái Phạm",
      "userId": "15721535778756978075"
     },
     "user_tz": -420
    },
    "id": "533b2367-4963-406c-aa1f-6a79516fabbb",
    "outputId": "e06e7209-a45a-4379-8389-c8466eea8653"
   },
   "outputs": [
    {
     "data": {
      "text/html": [
       "<div>\n",
       "<style scoped>\n",
       "    .dataframe tbody tr th:only-of-type {\n",
       "        vertical-align: middle;\n",
       "    }\n",
       "\n",
       "    .dataframe tbody tr th {\n",
       "        vertical-align: top;\n",
       "    }\n",
       "\n",
       "    .dataframe thead th {\n",
       "        text-align: right;\n",
       "    }\n",
       "</style>\n",
       "<table border=\"1\" class=\"dataframe\">\n",
       "  <thead>\n",
       "    <tr style=\"text-align: right;\">\n",
       "      <th></th>\n",
       "      <th>count</th>\n",
       "      <th>mean</th>\n",
       "      <th>std</th>\n",
       "      <th>min</th>\n",
       "      <th>25%</th>\n",
       "      <th>50%</th>\n",
       "      <th>75%</th>\n",
       "      <th>max</th>\n",
       "    </tr>\n",
       "    <tr>\n",
       "      <th>loan_status</th>\n",
       "      <th></th>\n",
       "      <th></th>\n",
       "      <th></th>\n",
       "      <th></th>\n",
       "      <th></th>\n",
       "      <th></th>\n",
       "      <th></th>\n",
       "      <th></th>\n",
       "    </tr>\n",
       "  </thead>\n",
       "  <tbody>\n",
       "    <tr>\n",
       "      <th>0</th>\n",
       "      <td>32949.0</td>\n",
       "      <td>11.609897</td>\n",
       "      <td>3.599934</td>\n",
       "      <td>5.42</td>\n",
       "      <td>8.49</td>\n",
       "      <td>11.49</td>\n",
       "      <td>13.99</td>\n",
       "      <td>24.11</td>\n",
       "    </tr>\n",
       "    <tr>\n",
       "      <th>1</th>\n",
       "      <td>5555.0</td>\n",
       "      <td>13.818194</td>\n",
       "      <td>3.659818</td>\n",
       "      <td>5.42</td>\n",
       "      <td>11.28</td>\n",
       "      <td>13.57</td>\n",
       "      <td>16.40</td>\n",
       "      <td>24.40</td>\n",
       "    </tr>\n",
       "  </tbody>\n",
       "</table>\n",
       "</div>"
      ],
      "text/plain": [
       "               count       mean       std   min    25%    50%    75%    max\n",
       "loan_status                                                                \n",
       "0            32949.0  11.609897  3.599934  5.42   8.49  11.49  13.99  24.11\n",
       "1             5555.0  13.818194  3.659818  5.42  11.28  13.57  16.40  24.40"
      ]
     },
     "execution_count": 37,
     "metadata": {},
     "output_type": "execute_result"
    }
   ],
   "source": [
    "df_loan.groupby('loan_status')['int_rate'].describe()"
   ]
  },
  {
   "cell_type": "markdown",
   "id": "0201abd7-7384-490a-b1bd-a374398a4b95",
   "metadata": {
    "id": "0201abd7-7384-490a-b1bd-a374398a4b95"
   },
   "source": [
    "> _Based on the 'std' index, it can be seen that there is no big difference between 'Fully Paid' and 'Charged Off'. </br> The ratio 'Charged Off' / Total is very small (5201.0/(5201.0+31524.0)~= 1.4%)_"
   ]
  },
  {
   "cell_type": "code",
   "execution_count": 38,
   "id": "6a7dad53-5c0d-472b-b46f-fbe6eca1f368",
   "metadata": {
    "colab": {
     "base_uri": "https://localhost:8080/"
    },
    "executionInfo": {
     "elapsed": 21,
     "status": "ok",
     "timestamp": 1652179940530,
     "user": {
      "displayName": "Thái Phạm",
      "userId": "15721535778756978075"
     },
     "user_tz": -420
    },
    "id": "6a7dad53-5c0d-472b-b46f-fbe6eca1f368",
    "outputId": "4dc18b9b-79ca-4cee-a6be-c20aa5a0f984"
   },
   "outputs": [
    {
     "data": {
      "text/plain": [
       "debt_consolidation    18026\n",
       "credit_card            5024\n",
       "other                  3854\n",
       "home_improvement       2872\n",
       "major_purchase         2145\n",
       "small_business         1745\n",
       "car                    1499\n",
       "wedding                 920\n",
       "medical                 680\n",
       "moving                  576\n",
       "vacation                375\n",
       "house                   365\n",
       "educational             322\n",
       "renewable_energy        101\n",
       "Name: purpose, dtype: int64"
      ]
     },
     "execution_count": 38,
     "metadata": {},
     "output_type": "execute_result"
    }
   ],
   "source": [
    "df_loan.purpose.value_counts()"
   ]
  },
  {
   "cell_type": "code",
   "execution_count": 39,
   "id": "99f57262-a061-4651-87fe-48aca3cbdc1d",
   "metadata": {},
   "outputs": [
    {
     "data": {
      "text/plain": [
       "debt_consolidation    49.288929\n",
       "other                 11.215122\n",
       "credit_card            9.702970\n",
       "small_business         8.388839\n",
       "home_improvement       6.192619\n",
       "major_purchase         3.906391\n",
       "car                    2.880288\n",
       "medical                1.890189\n",
       "moving                 1.656166\n",
       "wedding                1.620162\n",
       "house                  1.026103\n",
       "vacation               0.954095\n",
       "educational            0.954095\n",
       "renewable_energy       0.324032\n",
       "Name: purpose, dtype: float64"
      ]
     },
     "execution_count": 39,
     "metadata": {},
     "output_type": "execute_result"
    }
   ],
   "source": [
    "defaultLoan = df_loan[df_loan[\"loan_status\"]==1]\n",
    "defaultLoan[\"purpose\"].value_counts(normalize = True)*100"
   ]
  },
  {
   "cell_type": "code",
   "execution_count": 40,
   "id": "d5a66793-9db9-4cb1-bc9f-ceb14ca6b16b",
   "metadata": {
    "colab": {
     "base_uri": "https://localhost:8080/",
     "height": 968
    },
    "executionInfo": {
     "elapsed": 1313,
     "status": "ok",
     "timestamp": 1652179941828,
     "user": {
      "displayName": "Thái Phạm",
      "userId": "15721535778756978075"
     },
     "user_tz": -420
    },
    "id": "d5a66793-9db9-4cb1-bc9f-ceb14ca6b16b",
    "outputId": "252af454-fcb2-400f-81ec-950fbbe1c980"
   },
   "outputs": [
    {
     "data": {
      "image/png": "[encoded data removed]",
      "text/plain": [
       "<Figure size 1080x720 with 1 Axes>"
      ]
     },
     "metadata": {
      "needs_background": "light"
     },
     "output_type": "display_data"
    },
    {
     "name": "stdout",
     "output_type": "stream",
     "text": [
      "Ratio of bad debt to Loan accepted outstanding loans in each Purpose Group\n"
     ]
    },
    {
     "data": {
      "text/plain": [
       "small_business        36.435\n",
       "renewable_energy      21.687\n",
       "educational           19.703\n",
       "other                 19.282\n",
       "moving                19.008\n",
       "house                 18.506\n",
       "medical               18.261\n",
       "debt_consolidation    17.909\n",
       "vacation              16.460\n",
       "home_improvement      13.608\n",
       "credit_card           12.018\n",
       "car                   11.949\n",
       "major_purchase        11.255\n",
       "wedding               10.843\n",
       "dtype: float64"
      ]
     },
     "execution_count": 40,
     "metadata": {},
     "output_type": "execute_result"
    }
   ],
   "source": [
    "key_purpose, purpose_0, purpose_1 = count_group_col(df_loan.loan_status, df_loan.purpose)\n",
    "X_axis = np.arange(len(key_purpose))\n",
    "\n",
    "plt.figure(figsize=(15,10))\n",
    "plt.xticks(rotation=45)\n",
    "plt.bar(X_axis - 0.2, purpose_0, 0.4, label = 'Loan accepted')\n",
    "plt.bar(X_axis + 0.2, purpose_1, 0.4, label = 'Bad Loan')\n",
    "  \n",
    "plt.xticks(X_axis, key_purpose)\n",
    "plt.xlabel(\"Purpose\")\n",
    "plt.ylabel(\"Number of Loans\")\n",
    "plt.title(\"Number of Purpose in each group\")\n",
    "plt.legend()\n",
    "plt.show()\n",
    "sers = {}\n",
    "print('Ratio of bad debt to Loan accepted outstanding loans in each Purpose Group')\n",
    "for idx, val in enumerate(key_purpose):\n",
    "    sers[val] = round(100*(purpose_1[idx]/(purpose_0[idx])), 3)\n",
    "rp_sers = pd.Series(sers)\n",
    "rp_sers.sort_values(ascending=False)"
   ]
  },
  {
   "cell_type": "code",
   "execution_count": null,
   "id": "8cad4f71-8fd4-4001-b291-82a255f052c3",
   "metadata": {},
   "outputs": [],
   "source": []
  },
  {
   "cell_type": "markdown",
   "id": "4bf912b9-1e06-4957-a30e-537877d78bb7",
   "metadata": {
    "id": "4bf912b9-1e06-4957-a30e-537877d78bb7"
   },
   "source": [
    "> _Can see loans for small business purposes or renewable_energy is quite high risk need to see more indicators_"
   ]
  },
  {
   "cell_type": "markdown",
   "id": "KHgiZ1uGkhx0",
   "metadata": {
    "id": "KHgiZ1uGkhx0"
   },
   "source": [
    "### _Analyzing the ratio of good to bad debt between 3 variables: 'home_ownership' and 'addr_state' how does it affect loan status_"
   ]
  },
  {
   "cell_type": "code",
   "execution_count": 41,
   "id": "r5i1RBdzkhx0",
   "metadata": {
    "executionInfo": {
     "elapsed": 30,
     "status": "ok",
     "timestamp": 1652179941830,
     "user": {
      "displayName": "Thái Phạm",
      "userId": "15721535778756978075"
     },
     "user_tz": -420
    },
    "id": "r5i1RBdzkhx0"
   },
   "outputs": [],
   "source": [
    "def visualyzer(name, group_df):\n",
    "    x = group_df[0].keys()\n",
    "    plot = go.Figure(data=[go.Bar(name = 'Good Loan',\n",
    "                                  x = x,\n",
    "                                  y = group_df[0].values,\n",
    "                                  text=f'Group {name}'),\n",
    "                           go.Bar(name = 'Bad Loan',\n",
    "                                  x = x,\n",
    "                                  y = group_df[1].values,\n",
    "                                   marker=dict(color = 'Black',colorscale='blackbody'),\n",
    "                                  text=f'Group {name}')])\n",
    "    plot.update_layout(barmode='stack')                 \n",
    "    plot.show()\n",
    "    return None"
   ]
  },
  {
   "cell_type": "code",
   "execution_count": 42,
   "id": "L1OVy1rSkhx1",
   "metadata": {
    "colab": {
     "base_uri": "https://localhost:8080/"
    },
    "executionInfo": {
     "elapsed": 29,
     "status": "ok",
     "timestamp": 1652179941830,
     "user": {
      "displayName": "Thái Phạm",
      "userId": "15721535778756978075"
     },
     "user_tz": -420
    },
    "id": "L1OVy1rSkhx1",
    "outputId": "79b6b766-2e4e-418f-f49e-fce5ed3c42d8"
   },
   "outputs": [
    {
     "data": {
      "text/plain": [
       "array(['RENT', 'OWN', 'MORTGAGE', 'OTHER', 'NONE'], dtype=object)"
      ]
     },
     "execution_count": 42,
     "metadata": {},
     "output_type": "execute_result"
    }
   ],
   "source": [
    "df_loan.home_ownership.unique()"
   ]
  },
  {
   "cell_type": "code",
   "execution_count": 43,
   "id": "3mg6vcx4khx1",
   "metadata": {
    "colab": {
     "base_uri": "https://localhost:8080/",
     "height": 1000
    },
    "executionInfo": {
     "elapsed": 23,
     "status": "ok",
     "timestamp": 1652179941831,
     "user": {
      "displayName": "Thái Phạm",
      "userId": "15721535778756978075"
     },
     "user_tz": -420
    },
    "id": "3mg6vcx4khx1",
    "outputId": "a4238eeb-a0c6-4779-df97-697be38ac479"
   },
   "outputs": [
    {
     "data": {
      "text/html": [
       "<iframe\n",
       "    scrolling=\"no\"\n",
       "    width=\"100%\"\n",
       "    height=\"545px\"\n",
       "    src=\"iframe_figures/figure_43.html\"\n",
       "    frameborder=\"0\"\n",
       "    allowfullscreen\n",
       "></iframe>\n"
      ]
     },
     "metadata": {},
     "output_type": "display_data"
    },
    {
     "name": "stdout",
     "output_type": "stream",
     "text": [
      "RENT ownership Bad loan rate: \n",
      " [15.11911868]\n"
     ]
    },
    {
     "data": {
      "text/html": [
       "<iframe\n",
       "    scrolling=\"no\"\n",
       "    width=\"100%\"\n",
       "    height=\"545px\"\n",
       "    src=\"iframe_figures/figure_43.html\"\n",
       "    frameborder=\"0\"\n",
       "    allowfullscreen\n",
       "></iframe>\n"
      ]
     },
     "metadata": {},
     "output_type": "display_data"
    },
    {
     "name": "stdout",
     "output_type": "stream",
     "text": [
      "OWN ownership Bad loan rate: \n",
      " [14.74747475]\n"
     ]
    },
    {
     "data": {
      "text/html": [
       "<iframe\n",
       "    scrolling=\"no\"\n",
       "    width=\"100%\"\n",
       "    height=\"545px\"\n",
       "    src=\"iframe_figures/figure_43.html\"\n",
       "    frameborder=\"0\"\n",
       "    allowfullscreen\n",
       "></iframe>\n"
      ]
     },
     "metadata": {},
     "output_type": "display_data"
    },
    {
     "name": "stdout",
     "output_type": "stream",
     "text": [
      "MORTGAGE ownership Bad loan rate: \n",
      " [13.60108197]\n"
     ]
    },
    {
     "data": {
      "text/html": [
       "<iframe\n",
       "    scrolling=\"no\"\n",
       "    width=\"100%\"\n",
       "    height=\"545px\"\n",
       "    src=\"iframe_figures/figure_43.html\"\n",
       "    frameborder=\"0\"\n",
       "    allowfullscreen\n",
       "></iframe>\n"
      ]
     },
     "metadata": {},
     "output_type": "display_data"
    },
    {
     "name": "stdout",
     "output_type": "stream",
     "text": [
      "OTHER ownership Bad loan rate: \n",
      " [18.36734694]\n"
     ]
    }
   ],
   "source": [
    "for i in df_loan.home_ownership.unique()[0:-1]:\n",
    "    gr_home_addr = df_loan[df_loan.home_ownership==i][['home_ownership','loan_status']]\n",
    "    rs_gr_home_addr = gr_home_addr.groupby(['home_ownership','loan_status'])['loan_status'].count().sort_values(ascending=False).unstack()\n",
    "    visualyzer(i, rs_gr_home_addr)\n",
    "    print(f'{i} ownership Bad loan rate: \\n',(rs_gr_home_addr[1].values/(rs_gr_home_addr[1].values+rs_gr_home_addr[0].values))*100)\n",
    "    time.sleep(1)"
   ]
  },
  {
   "cell_type": "markdown",
   "id": "e93c4edc-04b0-4a57-9469-0747f83f42cf",
   "metadata": {
    "executionInfo": {
     "elapsed": 20,
     "status": "ok",
     "timestamp": 1652179941831,
     "user": {
      "displayName": "Thái Phạm",
      "userId": "15721535778756978075"
     },
     "user_tz": -420
    },
    "id": "sPEfJFYTkhx1"
   },
   "source": [
    "> Mortgage Home Ownership loan are 1.5% less riskier than all others ownershipMortgage Home Ownership loan are 1.5% less riskier than all others ownership"
   ]
  },
  {
   "cell_type": "code",
   "execution_count": null,
   "id": "0779ac7a-c4dd-46c3-ba52-ca79c46134f8",
   "metadata": {},
   "outputs": [],
   "source": []
  },
  {
   "cell_type": "code",
   "execution_count": null,
   "id": "5e9b95d2-f7fb-4f0c-9c73-76e2085d20d8",
   "metadata": {},
   "outputs": [],
   "source": []
  },
  {
   "cell_type": "code",
   "execution_count": null,
   "id": "971c0198-a4b7-4e80-96c0-9e4bcb47275f",
   "metadata": {},
   "outputs": [],
   "source": []
  }
 ],
 "metadata": {
  "colab": {
   "collapsed_sections": [],
   "name": "Group_Facilitator_Pham_Van_Thai.ipynb",
   "provenance": []
  },
  "kernelspec": {
   "display_name": "Python 3 (ipykernel)",
   "language": "python",
   "name": "python3"
  },
  "language_info": {
   "codemirror_mode": {
    "name": "ipython",
    "version": 3
   },
   "file_extension": ".py",
   "mimetype": "text/x-python",
   "name": "python",
   "nbconvert_exporter": "python",
   "pygments_lexer": "ipython3",
   "version": "3.8.8"
  }
 },
 "nbformat": 4,
 "nbformat_minor": 5
}
